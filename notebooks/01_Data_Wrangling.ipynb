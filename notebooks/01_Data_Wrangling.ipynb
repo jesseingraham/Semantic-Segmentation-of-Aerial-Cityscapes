{
 "cells": [
  {
   "cell_type": "markdown",
   "id": "818d8e0c",
   "metadata": {},
   "source": [
    "# Notebook 01: Data Wrangling"
   ]
  },
  {
   "cell_type": "markdown",
   "id": "ba1e25c7",
   "metadata": {},
   "source": [
    "Neptune.ai has a great blog post about exploratory data anlaysis for image segmentation datasets (https://neptune.ai/blog/data-exploration-for-image-segmentation-and-object-detection). They suggest:\n",
    "1. Check general data quality\n",
    "    1. Inspect it visually\n",
    "    2. Make sure it's not corrupt and doesn't contain any obvious artifacts like black-only images\n",
    "    3. Make sure that **all** files are readable\n",
    "2. Get statistics on image sizes and aspect ratios\n",
    "    1. Should resizing be done?\n",
    "3. Are there class imbalances?\n",
    "    1. Consider adding weights to the loss (i.e. making the contributions to some pixels higher)"
   ]
  },
  {
   "cell_type": "markdown",
   "id": "eefe9b4d",
   "metadata": {},
   "source": [
    "## Imports"
   ]
  },
  {
   "cell_type": "code",
   "execution_count": 1,
   "id": "0b979726",
   "metadata": {},
   "outputs": [],
   "source": [
    "import os\n",
    "import cv2\n",
    "from tqdm import tqdm\n",
    "import pandas as pd\n",
    "import numpy as np\n",
    "import matplotlib.pyplot as plt\n",
    "%matplotlib notebook\n",
    "from tensorflow import keras\n",
    "from tensorflow.keras.utils import to_categorical\n",
    "from collections import Counter\n",
    "from easyimages import EasyImageList"
   ]
  },
  {
   "cell_type": "markdown",
   "id": "ecc29113",
   "metadata": {},
   "source": [
    "## Functions"
   ]
  },
  {
   "cell_type": "code",
   "execution_count": 2,
   "id": "1039f430",
   "metadata": {},
   "outputs": [],
   "source": [
    "# function to load image data into a list\n",
    "def load_images_from_folder(folder_path):\n",
    "    image_dataset = []\n",
    "    image_size = []\n",
    "    image_aspect_ratio = []\n",
    "    for image_file in tqdm(os.listdir(folder_path)):\n",
    "        image_data = cv2.imread(folder_path + image_file)\n",
    "        image_size.append(image_data.shape)\n",
    "        image_aspect_ratio.append(float(image_data.shape[1] / image_data.shape[0]))\n",
    "        image_data = cv2.resize(image_data, (192, 128), interpolation=0)  # downsizing images saves memory and time, using nearest neighbor interpolation to prevent color interpolation of some pixels\n",
    "        image_data = cv2.cvtColor(image_data, cv2.COLOR_BGR2RGB)  # color channels are GRB and mask_labels are RGB\n",
    "        image_dataset.append(image_data)\n",
    "    return image_dataset, image_size, image_aspect_ratio"
   ]
  },
  {
   "cell_type": "markdown",
   "id": "3261cdf0",
   "metadata": {},
   "source": [
    "## 1st Dataset: VDD: Varied Drone Dataset for Semantic Segmentation"
   ]
  },
  {
   "cell_type": "markdown",
   "id": "6b434647",
   "metadata": {},
   "source": [
    "### Download Data"
   ]
  },
  {
   "cell_type": "code",
   "execution_count": 3,
   "id": "faec83ec",
   "metadata": {},
   "outputs": [],
   "source": [
    "# requires manual download from https://vddvdd.com/"
   ]
  },
  {
   "cell_type": "markdown",
   "id": "7750c91f",
   "metadata": {},
   "source": [
    "### Visualize Images"
   ]
  },
  {
   "cell_type": "code",
   "execution_count": 4,
   "id": "63a4a261",
   "metadata": {},
   "outputs": [
    {
     "data": {
      "text/html": [
       "<div class=\"zoom\"><img style='width: 44px; height: 44px; margin: 1px; float: left; border: 0px solid black;'title=[] src='temp_link\\DJI_0008.JPG'/></div><div class=\"zoom\"><img style='width: 44px; height: 44px; margin: 1px; float: left; border: 0px solid black;'title=[] src='temp_link\\DJI_0010.JPG'/></div><div class=\"zoom\"><img style='width: 44px; height: 44px; margin: 1px; float: left; border: 0px solid black;'title=[] src='temp_link\\DJI_0011.JPG'/></div><div class=\"zoom\"><img style='width: 44px; height: 44px; margin: 1px; float: left; border: 0px solid black;'title=[] src='temp_link\\DJI_0012.JPG'/></div><div class=\"zoom\"><img style='width: 44px; height: 44px; margin: 1px; float: left; border: 0px solid black;'title=[] src='temp_link\\DJI_0013.JPG'/></div><div class=\"zoom\"><img style='width: 44px; height: 44px; margin: 1px; float: left; border: 0px solid black;'title=[] src='temp_link\\DJI_0014.JPG'/></div><div class=\"zoom\"><img style='width: 44px; height: 44px; margin: 1px; float: left; border: 0px solid black;'title=[] src='temp_link\\DJI_0017.JPG'/></div><div class=\"zoom\"><img style='width: 44px; height: 44px; margin: 1px; float: left; border: 0px solid black;'title=[] src='temp_link\\DJI_0019.JPG'/></div><div class=\"zoom\"><img style='width: 44px; height: 44px; margin: 1px; float: left; border: 0px solid black;'title=[] src='temp_link\\DJI_0020.JPG'/></div><div class=\"zoom\"><img style='width: 44px; height: 44px; margin: 1px; float: left; border: 0px solid black;'title=[] src='temp_link\\DJI_0021.JPG'/></div><div class=\"zoom\"><img style='width: 44px; height: 44px; margin: 1px; float: left; border: 0px solid black;'title=[] src='temp_link\\DJI_0022.JPG'/></div><div class=\"zoom\"><img style='width: 44px; height: 44px; margin: 1px; float: left; border: 0px solid black;'title=[] src='temp_link\\DJI_0025.JPG'/></div><div class=\"zoom\"><img style='width: 44px; height: 44px; margin: 1px; float: left; border: 0px solid black;'title=[] src='temp_link\\DJI_0026.JPG'/></div><div class=\"zoom\"><img style='width: 44px; height: 44px; margin: 1px; float: left; border: 0px solid black;'title=[] src='temp_link\\DJI_0027.JPG'/></div><div class=\"zoom\"><img style='width: 44px; height: 44px; margin: 1px; float: left; border: 0px solid black;'title=[] src='temp_link\\DJI_0028.JPG'/></div><div class=\"zoom\"><img style='width: 44px; height: 44px; margin: 1px; float: left; border: 0px solid black;'title=[] src='temp_link\\DJI_0029.JPG'/></div><div class=\"zoom\"><img style='width: 44px; height: 44px; margin: 1px; float: left; border: 0px solid black;'title=[] src='temp_link\\DJI_0030.JPG'/></div><div class=\"zoom\"><img style='width: 44px; height: 44px; margin: 1px; float: left; border: 0px solid black;'title=[] src='temp_link\\DJI_0032.JPG'/></div><div class=\"zoom\"><img style='width: 44px; height: 44px; margin: 1px; float: left; border: 0px solid black;'title=[] src='temp_link\\DJI_0033.JPG'/></div><div class=\"zoom\"><img style='width: 44px; height: 44px; margin: 1px; float: left; border: 0px solid black;'title=[] src='temp_link\\DJI_0034.JPG'/></div><div class=\"zoom\"><img style='width: 44px; height: 44px; margin: 1px; float: left; border: 0px solid black;'title=[] src='temp_link\\DJI_0035.JPG'/></div><div class=\"zoom\"><img style='width: 44px; height: 44px; margin: 1px; float: left; border: 0px solid black;'title=[] src='temp_link\\DJI_0319.JPG'/></div><div class=\"zoom\"><img style='width: 44px; height: 44px; margin: 1px; float: left; border: 0px solid black;'title=[] src='temp_link\\DJI_0320.JPG'/></div><div class=\"zoom\"><img style='width: 44px; height: 44px; margin: 1px; float: left; border: 0px solid black;'title=[] src='temp_link\\DJI_0322.JPG'/></div><div class=\"zoom\"><img style='width: 44px; height: 44px; margin: 1px; float: left; border: 0px solid black;'title=[] src='temp_link\\DJI_0330.JPG'/></div><div class=\"zoom\"><img style='width: 44px; height: 44px; margin: 1px; float: left; border: 0px solid black;'title=[] src='temp_link\\DJI_0337.JPG'/></div><div class=\"zoom\"><img style='width: 44px; height: 44px; margin: 1px; float: left; border: 0px solid black;'title=[] src='temp_link\\DJI_0340.JPG'/></div><div class=\"zoom\"><img style='width: 44px; height: 44px; margin: 1px; float: left; border: 0px solid black;'title=[] src='temp_link\\DJI_0344.JPG'/></div><div class=\"zoom\"><img style='width: 44px; height: 44px; margin: 1px; float: left; border: 0px solid black;'title=[] src='temp_link\\DJI_0345.JPG'/></div><div class=\"zoom\"><img style='width: 44px; height: 44px; margin: 1px; float: left; border: 0px solid black;'title=[] src='temp_link\\DJI_0346.JPG'/></div><div class=\"zoom\"><img style='width: 44px; height: 44px; margin: 1px; float: left; border: 0px solid black;'title=[] src='temp_link\\DJI_0349.JPG'/></div><div class=\"zoom\"><img style='width: 44px; height: 44px; margin: 1px; float: left; border: 0px solid black;'title=[] src='temp_link\\DJI_0350.JPG'/></div><div class=\"zoom\"><img style='width: 44px; height: 44px; margin: 1px; float: left; border: 0px solid black;'title=[] src='temp_link\\DJI_0358.JPG'/></div><div class=\"zoom\"><img style='width: 44px; height: 44px; margin: 1px; float: left; border: 0px solid black;'title=[] src='temp_link\\DJI_0361.JPG'/></div><div class=\"zoom\"><img style='width: 44px; height: 44px; margin: 1px; float: left; border: 0px solid black;'title=[] src='temp_link\\DJI_0363.JPG'/></div><div class=\"zoom\"><img style='width: 44px; height: 44px; margin: 1px; float: left; border: 0px solid black;'title=[] src='temp_link\\DJI_0364.JPG'/></div><div class=\"zoom\"><img style='width: 44px; height: 44px; margin: 1px; float: left; border: 0px solid black;'title=[] src='temp_link\\DJI_0366.JPG'/></div><div class=\"zoom\"><img style='width: 44px; height: 44px; margin: 1px; float: left; border: 0px solid black;'title=[] src='temp_link\\DJI_0367.JPG'/></div><div class=\"zoom\"><img style='width: 44px; height: 44px; margin: 1px; float: left; border: 0px solid black;'title=[] src='temp_link\\DJI_0368.JPG'/></div><div class=\"zoom\"><img style='width: 44px; height: 44px; margin: 1px; float: left; border: 0px solid black;'title=[] src='temp_link\\DJI_0369.JPG'/></div><div class=\"zoom\"><img style='width: 44px; height: 44px; margin: 1px; float: left; border: 0px solid black;'title=[] src='temp_link\\DJI_0372.JPG'/></div><div class=\"zoom\"><img style='width: 44px; height: 44px; margin: 1px; float: left; border: 0px solid black;'title=[] src='temp_link\\DJI_0373.JPG'/></div><div class=\"zoom\"><img style='width: 44px; height: 44px; margin: 1px; float: left; border: 0px solid black;'title=[] src='temp_link\\DJI_0375.JPG'/></div><div class=\"zoom\"><img style='width: 44px; height: 44px; margin: 1px; float: left; border: 0px solid black;'title=[] src='temp_link\\DJI_0382.JPG'/></div><div class=\"zoom\"><img style='width: 44px; height: 44px; margin: 1px; float: left; border: 0px solid black;'title=[] src='temp_link\\DJI_0383.JPG'/></div><div class=\"zoom\"><img style='width: 44px; height: 44px; margin: 1px; float: left; border: 0px solid black;'title=[] src='temp_link\\DJI_0385.JPG'/></div><div class=\"zoom\"><img style='width: 44px; height: 44px; margin: 1px; float: left; border: 0px solid black;'title=[] src='temp_link\\DJI_0387.JPG'/></div><div class=\"zoom\"><img style='width: 44px; height: 44px; margin: 1px; float: left; border: 0px solid black;'title=[] src='temp_link\\DJI_0388.JPG'/></div><div class=\"zoom\"><img style='width: 44px; height: 44px; margin: 1px; float: left; border: 0px solid black;'title=[] src='temp_link\\DJI_0395.JPG'/></div><div class=\"zoom\"><img style='width: 44px; height: 44px; margin: 1px; float: left; border: 0px solid black;'title=[] src='temp_link\\DJI_0398.JPG'/></div><div class=\"zoom\"><img style='width: 44px; height: 44px; margin: 1px; float: left; border: 0px solid black;'title=[] src='temp_link\\DJI_0408.JPG'/></div><div class=\"zoom\"><img style='width: 44px; height: 44px; margin: 1px; float: left; border: 0px solid black;'title=[] src='temp_link\\DJI_0413.JPG'/></div><div class=\"zoom\"><img style='width: 44px; height: 44px; margin: 1px; float: left; border: 0px solid black;'title=[] src='temp_link\\DJI_0415.JPG'/></div><div class=\"zoom\"><img style='width: 44px; height: 44px; margin: 1px; float: left; border: 0px solid black;'title=[] src='temp_link\\DJI_0417.JPG'/></div><div class=\"zoom\"><img style='width: 44px; height: 44px; margin: 1px; float: left; border: 0px solid black;'title=[] src='temp_link\\DJI_0423.JPG'/></div><div class=\"zoom\"><img style='width: 44px; height: 44px; margin: 1px; float: left; border: 0px solid black;'title=[] src='temp_link\\DJI_0424.JPG'/></div><div class=\"zoom\"><img style='width: 44px; height: 44px; margin: 1px; float: left; border: 0px solid black;'title=[] src='temp_link\\DJI_0430.JPG'/></div><div class=\"zoom\"><img style='width: 44px; height: 44px; margin: 1px; float: left; border: 0px solid black;'title=[] src='temp_link\\DJI_0431.JPG'/></div><div class=\"zoom\"><img style='width: 44px; height: 44px; margin: 1px; float: left; border: 0px solid black;'title=[] src='temp_link\\DJI_0438.JPG'/></div><div class=\"zoom\"><img style='width: 44px; height: 44px; margin: 1px; float: left; border: 0px solid black;'title=[] src='temp_link\\DJI_0442.JPG'/></div><div class=\"zoom\"><img style='width: 44px; height: 44px; margin: 1px; float: left; border: 0px solid black;'title=[] src='temp_link\\DJI_0446.JPG'/></div><div class=\"zoom\"><img style='width: 44px; height: 44px; margin: 1px; float: left; border: 0px solid black;'title=[] src='temp_link\\DJI_0452.JPG'/></div><div class=\"zoom\"><img style='width: 44px; height: 44px; margin: 1px; float: left; border: 0px solid black;'title=[] src='temp_link\\DJI_0456.JPG'/></div><div class=\"zoom\"><img style='width: 44px; height: 44px; margin: 1px; float: left; border: 0px solid black;'title=[] src='temp_link\\DJI_0457.JPG'/></div><div class=\"zoom\"><img style='width: 44px; height: 44px; margin: 1px; float: left; border: 0px solid black;'title=[] src='temp_link\\DJI_0460.JPG'/></div><div class=\"zoom\"><img style='width: 44px; height: 44px; margin: 1px; float: left; border: 0px solid black;'title=[] src='temp_link\\DJI_0468.JPG'/></div><div class=\"zoom\"><img style='width: 44px; height: 44px; margin: 1px; float: left; border: 0px solid black;'title=[] src='temp_link\\DJI_0471.JPG'/></div><div class=\"zoom\"><img style='width: 44px; height: 44px; margin: 1px; float: left; border: 0px solid black;'title=[] src='temp_link\\DJI_0476.JPG'/></div><div class=\"zoom\"><img style='width: 44px; height: 44px; margin: 1px; float: left; border: 0px solid black;'title=[] src='temp_link\\DJI_0477.JPG'/></div><div class=\"zoom\"><img style='width: 44px; height: 44px; margin: 1px; float: left; border: 0px solid black;'title=[] src='temp_link\\DJI_0478.JPG'/></div><div class=\"zoom\"><img style='width: 44px; height: 44px; margin: 1px; float: left; border: 0px solid black;'title=[] src='temp_link\\DJI_0479.JPG'/></div><div class=\"zoom\"><img style='width: 44px; height: 44px; margin: 1px; float: left; border: 0px solid black;'title=[] src='temp_link\\DJI_0480.JPG'/></div><div class=\"zoom\"><img style='width: 44px; height: 44px; margin: 1px; float: left; border: 0px solid black;'title=[] src='temp_link\\DJI_0481.JPG'/></div><div class=\"zoom\"><img style='width: 44px; height: 44px; margin: 1px; float: left; border: 0px solid black;'title=[] src='temp_link\\DJI_0486.JPG'/></div><div class=\"zoom\"><img style='width: 44px; height: 44px; margin: 1px; float: left; border: 0px solid black;'title=[] src='temp_link\\DJI_0487.JPG'/></div><div class=\"zoom\"><img style='width: 44px; height: 44px; margin: 1px; float: left; border: 0px solid black;'title=[] src='temp_link\\DJI_0488.JPG'/></div><div class=\"zoom\"><img style='width: 44px; height: 44px; margin: 1px; float: left; border: 0px solid black;'title=[] src='temp_link\\DJI_0489.JPG'/></div><div class=\"zoom\"><img style='width: 44px; height: 44px; margin: 1px; float: left; border: 0px solid black;'title=[] src='temp_link\\DJI_0490.JPG'/></div><div class=\"zoom\"><img style='width: 44px; height: 44px; margin: 1px; float: left; border: 0px solid black;'title=[] src='temp_link\\DJI_0491.JPG'/></div><div class=\"zoom\"><img style='width: 44px; height: 44px; margin: 1px; float: left; border: 0px solid black;'title=[] src='temp_link\\DJI_0492.JPG'/></div><div class=\"zoom\"><img style='width: 44px; height: 44px; margin: 1px; float: left; border: 0px solid black;'title=[] src='temp_link\\DJI_0507.JPG'/></div><div class=\"zoom\"><img style='width: 44px; height: 44px; margin: 1px; float: left; border: 0px solid black;'title=[] src='temp_link\\DJI_0515.JPG'/></div><div class=\"zoom\"><img style='width: 44px; height: 44px; margin: 1px; float: left; border: 0px solid black;'title=[] src='temp_link\\DJI_0517.JPG'/></div><div class=\"zoom\"><img style='width: 44px; height: 44px; margin: 1px; float: left; border: 0px solid black;'title=[] src='temp_link\\DJI_0522.JPG'/></div><div class=\"zoom\"><img style='width: 44px; height: 44px; margin: 1px; float: left; border: 0px solid black;'title=[] src='temp_link\\DJI_0524.JPG'/></div><div class=\"zoom\"><img style='width: 44px; height: 44px; margin: 1px; float: left; border: 0px solid black;'title=[] src='temp_link\\DJI_0528.JPG'/></div><div class=\"zoom\"><img style='width: 44px; height: 44px; margin: 1px; float: left; border: 0px solid black;'title=[] src='temp_link\\DJI_0533.JPG'/></div><div class=\"zoom\"><img style='width: 44px; height: 44px; margin: 1px; float: left; border: 0px solid black;'title=[] src='temp_link\\DJI_0535.JPG'/></div><div class=\"zoom\"><img style='width: 44px; height: 44px; margin: 1px; float: left; border: 0px solid black;'title=[] src='temp_link\\DJI_0539.JPG'/></div><div class=\"zoom\"><img style='width: 44px; height: 44px; margin: 1px; float: left; border: 0px solid black;'title=[] src='temp_link\\DJI_0547.JPG'/></div><div class=\"zoom\"><img style='width: 44px; height: 44px; margin: 1px; float: left; border: 0px solid black;'title=[] src='temp_link\\DJI_0556.JPG'/></div><div class=\"zoom\"><img style='width: 44px; height: 44px; margin: 1px; float: left; border: 0px solid black;'title=[] src='temp_link\\DJI_0561.JPG'/></div><div class=\"zoom\"><img style='width: 44px; height: 44px; margin: 1px; float: left; border: 0px solid black;'title=[] src='temp_link\\DJI_0563.JPG'/></div><div class=\"zoom\"><img style='width: 44px; height: 44px; margin: 1px; float: left; border: 0px solid black;'title=[] src='temp_link\\DJI_0570.JPG'/></div><div class=\"zoom\"><img style='width: 44px; height: 44px; margin: 1px; float: left; border: 0px solid black;'title=[] src='temp_link\\DJI_0575.JPG'/></div><div class=\"zoom\"><img style='width: 44px; height: 44px; margin: 1px; float: left; border: 0px solid black;'title=[] src='temp_link\\DJI_0578.JPG'/></div><div class=\"zoom\"><img style='width: 44px; height: 44px; margin: 1px; float: left; border: 0px solid black;'title=[] src='temp_link\\DJI_0589.JPG'/></div><div class=\"zoom\"><img style='width: 44px; height: 44px; margin: 1px; float: left; border: 0px solid black;'title=[] src='temp_link\\DJI_0590.JPG'/></div><div class=\"zoom\"><img style='width: 44px; height: 44px; margin: 1px; float: left; border: 0px solid black;'title=[] src='temp_link\\DJI_0597.JPG'/></div><div class=\"zoom\"><img style='width: 44px; height: 44px; margin: 1px; float: left; border: 0px solid black;'title=[] src='temp_link\\DJI_0646.JPG'/></div><div class=\"zoom\"><img style='width: 44px; height: 44px; margin: 1px; float: left; border: 0px solid black;'title=[] src='temp_link\\DJI_0679.JPG'/></div><div class=\"zoom\"><img style='width: 44px; height: 44px; margin: 1px; float: left; border: 0px solid black;'title=[] src='temp_link\\DJI_0680.JPG'/></div><div class=\"zoom\"><img style='width: 44px; height: 44px; margin: 1px; float: left; border: 0px solid black;'title=[] src='temp_link\\DJI_0683.JPG'/></div><div class=\"zoom\"><img style='width: 44px; height: 44px; margin: 1px; float: left; border: 0px solid black;'title=[] src='temp_link\\DJI_0693.JPG'/></div><div class=\"zoom\"><img style='width: 44px; height: 44px; margin: 1px; float: left; border: 0px solid black;'title=[] src='temp_link\\DJI_0711.JPG'/></div><div class=\"zoom\"><img style='width: 44px; height: 44px; margin: 1px; float: left; border: 0px solid black;'title=[] src='temp_link\\DJI_0715.JPG'/></div><div class=\"zoom\"><img style='width: 44px; height: 44px; margin: 1px; float: left; border: 0px solid black;'title=[] src='temp_link\\DJI_0745.JPG'/></div><div class=\"zoom\"><img style='width: 44px; height: 44px; margin: 1px; float: left; border: 0px solid black;'title=[] src='temp_link\\DJI_0762.JPG'/></div><div class=\"zoom\"><img style='width: 44px; height: 44px; margin: 1px; float: left; border: 0px solid black;'title=[] src='temp_link\\DJI_0766.JPG'/></div><div class=\"zoom\"><img style='width: 44px; height: 44px; margin: 1px; float: left; border: 0px solid black;'title=[] src='temp_link\\DJI_0773.JPG'/></div><div class=\"zoom\"><img style='width: 44px; height: 44px; margin: 1px; float: left; border: 0px solid black;'title=[] src='temp_link\\DJI_0778.JPG'/></div><div class=\"zoom\"><img style='width: 44px; height: 44px; margin: 1px; float: left; border: 0px solid black;'title=[] src='temp_link\\DJI_0789.JPG'/></div><div class=\"zoom\"><img style='width: 44px; height: 44px; margin: 1px; float: left; border: 0px solid black;'title=[] src='temp_link\\DJI_0795.JPG'/></div><div class=\"zoom\"><img style='width: 44px; height: 44px; margin: 1px; float: left; border: 0px solid black;'title=[] src='temp_link\\DJI_0796.JPG'/></div><div class=\"zoom\"><img style='width: 44px; height: 44px; margin: 1px; float: left; border: 0px solid black;'title=[] src='temp_link\\DJI_0797.JPG'/></div><div class=\"zoom\"><img style='width: 44px; height: 44px; margin: 1px; float: left; border: 0px solid black;'title=[] src='temp_link\\DJI_0802.JPG'/></div><div class=\"zoom\"><img style='width: 44px; height: 44px; margin: 1px; float: left; border: 0px solid black;'title=[] src='temp_link\\DJI_0805.JPG'/></div><div class=\"zoom\"><img style='width: 44px; height: 44px; margin: 1px; float: left; border: 0px solid black;'title=[] src='temp_link\\DJI_0820.JPG'/></div><div class=\"zoom\"><img style='width: 44px; height: 44px; margin: 1px; float: left; border: 0px solid black;'title=[] src='temp_link\\DJI_0821.JPG'/></div><div class=\"zoom\"><img style='width: 44px; height: 44px; margin: 1px; float: left; border: 0px solid black;'title=[] src='temp_link\\DJI_0822.JPG'/></div><div class=\"zoom\"><img style='width: 44px; height: 44px; margin: 1px; float: left; border: 0px solid black;'title=[] src='temp_link\\DJI_0824.JPG'/></div><div class=\"zoom\"><img style='width: 44px; height: 44px; margin: 1px; float: left; border: 0px solid black;'title=[] src='temp_link\\DJI_0825.JPG'/></div><div class=\"zoom\"><img style='width: 44px; height: 44px; margin: 1px; float: left; border: 0px solid black;'title=[] src='temp_link\\DJI_0827.JPG'/></div><div class=\"zoom\"><img style='width: 44px; height: 44px; margin: 1px; float: left; border: 0px solid black;'title=[] src='temp_link\\DJI_0828.JPG'/></div><div class=\"zoom\"><img style='width: 44px; height: 44px; margin: 1px; float: left; border: 0px solid black;'title=[] src='temp_link\\DJI_0829.JPG'/></div><div class=\"zoom\"><img style='width: 44px; height: 44px; margin: 1px; float: left; border: 0px solid black;'title=[] src='temp_link\\DJI_0835.JPG'/></div><div class=\"zoom\"><img style='width: 44px; height: 44px; margin: 1px; float: left; border: 0px solid black;'title=[] src='temp_link\\DJI_0837.JPG'/></div><div class=\"zoom\"><img style='width: 44px; height: 44px; margin: 1px; float: left; border: 0px solid black;'title=[] src='temp_link\\DJI_0838.JPG'/></div><div class=\"zoom\"><img style='width: 44px; height: 44px; margin: 1px; float: left; border: 0px solid black;'title=[] src='temp_link\\DJI_0839.JPG'/></div><div class=\"zoom\"><img style='width: 44px; height: 44px; margin: 1px; float: left; border: 0px solid black;'title=[] src='temp_link\\DJI_0914.JPG'/></div><div class=\"zoom\"><img style='width: 44px; height: 44px; margin: 1px; float: left; border: 0px solid black;'title=[] src='temp_link\\DJI_0915.JPG'/></div><div class=\"zoom\"><img style='width: 44px; height: 44px; margin: 1px; float: left; border: 0px solid black;'title=[] src='temp_link\\DJI_0919.JPG'/></div><div class=\"zoom\"><img style='width: 44px; height: 44px; margin: 1px; float: left; border: 0px solid black;'title=[] src='temp_link\\DJI_0957.JPG'/></div><div class=\"zoom\"><img style='width: 44px; height: 44px; margin: 1px; float: left; border: 0px solid black;'title=[] src='temp_link\\DJI_0958.JPG'/></div><div class=\"zoom\"><img style='width: 44px; height: 44px; margin: 1px; float: left; border: 0px solid black;'title=[] src='temp_link\\DJI_0971.JPG'/></div><div class=\"zoom\"><img style='width: 44px; height: 44px; margin: 1px; float: left; border: 0px solid black;'title=[] src='temp_link\\DJI_0973.JPG'/></div><div class=\"zoom\"><img style='width: 44px; height: 44px; margin: 1px; float: left; border: 0px solid black;'title=[] src='temp_link\\DJI_10001.JPG'/></div><div class=\"zoom\"><img style='width: 44px; height: 44px; margin: 1px; float: left; border: 0px solid black;'title=[] src='temp_link\\DJI_10003.JPG'/></div><div class=\"zoom\"><img style='width: 44px; height: 44px; margin: 1px; float: left; border: 0px solid black;'title=[] src='temp_link\\DJI_10010.JPG'/></div><div class=\"zoom\"><img style='width: 44px; height: 44px; margin: 1px; float: left; border: 0px solid black;'title=[] src='temp_link\\DJI_10015.JPG'/></div><div class=\"zoom\"><img style='width: 44px; height: 44px; margin: 1px; float: left; border: 0px solid black;'title=[] src='temp_link\\DJI_10016.JPG'/></div><div class=\"zoom\"><img style='width: 44px; height: 44px; margin: 1px; float: left; border: 0px solid black;'title=[] src='temp_link\\DJI_10017.JPG'/></div><div class=\"zoom\"><img style='width: 44px; height: 44px; margin: 1px; float: left; border: 0px solid black;'title=[] src='temp_link\\DJI_10020.JPG'/></div><div class=\"zoom\"><img style='width: 44px; height: 44px; margin: 1px; float: left; border: 0px solid black;'title=[] src='temp_link\\DJI_10022.JPG'/></div><div class=\"zoom\"><img style='width: 44px; height: 44px; margin: 1px; float: left; border: 0px solid black;'title=[] src='temp_link\\DJI_10025.JPG'/></div><div class=\"zoom\"><img style='width: 44px; height: 44px; margin: 1px; float: left; border: 0px solid black;'title=[] src='temp_link\\DJI_10026.JPG'/></div><div class=\"zoom\"><img style='width: 44px; height: 44px; margin: 1px; float: left; border: 0px solid black;'title=[] src='temp_link\\DJI_10027.JPG'/></div><div class=\"zoom\"><img style='width: 44px; height: 44px; margin: 1px; float: left; border: 0px solid black;'title=[] src='temp_link\\DJI_10030.JPG'/></div><div class=\"zoom\"><img style='width: 44px; height: 44px; margin: 1px; float: left; border: 0px solid black;'title=[] src='temp_link\\DJI_10031.JPG'/></div><div class=\"zoom\"><img style='width: 44px; height: 44px; margin: 1px; float: left; border: 0px solid black;'title=[] src='temp_link\\DJI_10032.JPG'/></div><div class=\"zoom\"><img style='width: 44px; height: 44px; margin: 1px; float: left; border: 0px solid black;'title=[] src='temp_link\\DJI_10034.JPG'/></div><div class=\"zoom\"><img style='width: 44px; height: 44px; margin: 1px; float: left; border: 0px solid black;'title=[] src='temp_link\\DJI_10036.JPG'/></div><div class=\"zoom\"><img style='width: 44px; height: 44px; margin: 1px; float: left; border: 0px solid black;'title=[] src='temp_link\\DJI_10037.JPG'/></div><div class=\"zoom\"><img style='width: 44px; height: 44px; margin: 1px; float: left; border: 0px solid black;'title=[] src='temp_link\\DJI_10039.JPG'/></div><div class=\"zoom\"><img style='width: 44px; height: 44px; margin: 1px; float: left; border: 0px solid black;'title=[] src='temp_link\\DJI_10040.JPG'/></div><div class=\"zoom\"><img style='width: 44px; height: 44px; margin: 1px; float: left; border: 0px solid black;'title=[] src='temp_link\\DJI_10041.JPG'/></div><div class=\"zoom\"><img style='width: 44px; height: 44px; margin: 1px; float: left; border: 0px solid black;'title=[] src='temp_link\\DJI_10044.JPG'/></div><div class=\"zoom\"><img style='width: 44px; height: 44px; margin: 1px; float: left; border: 0px solid black;'title=[] src='temp_link\\DJI_10045.JPG'/></div><div class=\"zoom\"><img style='width: 44px; height: 44px; margin: 1px; float: left; border: 0px solid black;'title=[] src='temp_link\\DJI_10046.JPG'/></div><div class=\"zoom\"><img style='width: 44px; height: 44px; margin: 1px; float: left; border: 0px solid black;'title=[] src='temp_link\\DJI_10047.JPG'/></div><div class=\"zoom\"><img style='width: 44px; height: 44px; margin: 1px; float: left; border: 0px solid black;'title=[] src='temp_link\\DJI_10048.JPG'/></div><div class=\"zoom\"><img style='width: 44px; height: 44px; margin: 1px; float: left; border: 0px solid black;'title=[] src='temp_link\\DJI_10049.JPG'/></div><div class=\"zoom\"><img style='width: 44px; height: 44px; margin: 1px; float: left; border: 0px solid black;'title=[] src='temp_link\\DJI_10052.JPG'/></div><div class=\"zoom\"><img style='width: 44px; height: 44px; margin: 1px; float: left; border: 0px solid black;'title=[] src='temp_link\\DJI_10053.JPG'/></div><div class=\"zoom\"><img style='width: 44px; height: 44px; margin: 1px; float: left; border: 0px solid black;'title=[] src='temp_link\\DJI_10059.JPG'/></div><div class=\"zoom\"><img style='width: 44px; height: 44px; margin: 1px; float: left; border: 0px solid black;'title=[] src='temp_link\\DJI_10072.JPG'/></div><div class=\"zoom\"><img style='width: 44px; height: 44px; margin: 1px; float: left; border: 0px solid black;'title=[] src='temp_link\\DJI_10073.JPG'/></div><div class=\"zoom\"><img style='width: 44px; height: 44px; margin: 1px; float: left; border: 0px solid black;'title=[] src='temp_link\\DJI_10077.JPG'/></div><div class=\"zoom\"><img style='width: 44px; height: 44px; margin: 1px; float: left; border: 0px solid black;'title=[] src='temp_link\\DJI_10081.JPG'/></div><div class=\"zoom\"><img style='width: 44px; height: 44px; margin: 1px; float: left; border: 0px solid black;'title=[] src='temp_link\\DJI_10086.JPG'/></div><div class=\"zoom\"><img style='width: 44px; height: 44px; margin: 1px; float: left; border: 0px solid black;'title=[] src='temp_link\\DJI_10090.JPG'/></div><div class=\"zoom\"><img style='width: 44px; height: 44px; margin: 1px; float: left; border: 0px solid black;'title=[] src='temp_link\\DJI_10103.JPG'/></div><div class=\"zoom\"><img style='width: 44px; height: 44px; margin: 1px; float: left; border: 0px solid black;'title=[] src='temp_link\\DJI_10104.JPG'/></div><div class=\"zoom\"><img style='width: 44px; height: 44px; margin: 1px; float: left; border: 0px solid black;'title=[] src='temp_link\\DJI_10108.JPG'/></div><div class=\"zoom\"><img style='width: 44px; height: 44px; margin: 1px; float: left; border: 0px solid black;'title=[] src='temp_link\\DJI_10113.JPG'/></div><div class=\"zoom\"><img style='width: 44px; height: 44px; margin: 1px; float: left; border: 0px solid black;'title=[] src='temp_link\\DJI_10115.JPG'/></div><div class=\"zoom\"><img style='width: 44px; height: 44px; margin: 1px; float: left; border: 0px solid black;'title=[] src='temp_link\\DJI_10118.JPG'/></div><div class=\"zoom\"><img style='width: 44px; height: 44px; margin: 1px; float: left; border: 0px solid black;'title=[] src='temp_link\\DJI_10122.JPG'/></div><div class=\"zoom\"><img style='width: 44px; height: 44px; margin: 1px; float: left; border: 0px solid black;'title=[] src='temp_link\\DJI_10125.JPG'/></div><div class=\"zoom\"><img style='width: 44px; height: 44px; margin: 1px; float: left; border: 0px solid black;'title=[] src='temp_link\\DJI_10130.JPG'/></div><div class=\"zoom\"><img style='width: 44px; height: 44px; margin: 1px; float: left; border: 0px solid black;'title=[] src='temp_link\\DJI_10172.JPG'/></div><div class=\"zoom\"><img style='width: 44px; height: 44px; margin: 1px; float: left; border: 0px solid black;'title=[] src='temp_link\\DJI_10173.JPG'/></div><div class=\"zoom\"><img style='width: 44px; height: 44px; margin: 1px; float: left; border: 0px solid black;'title=[] src='temp_link\\DJI_10174.JPG'/></div><div class=\"zoom\"><img style='width: 44px; height: 44px; margin: 1px; float: left; border: 0px solid black;'title=[] src='temp_link\\DJI_10178.JPG'/></div><div class=\"zoom\"><img style='width: 44px; height: 44px; margin: 1px; float: left; border: 0px solid black;'title=[] src='temp_link\\DJI_10181.JPG'/></div><div class=\"zoom\"><img style='width: 44px; height: 44px; margin: 1px; float: left; border: 0px solid black;'title=[] src='temp_link\\DJI_10191.JPG'/></div><div class=\"zoom\"><img style='width: 44px; height: 44px; margin: 1px; float: left; border: 0px solid black;'title=[] src='temp_link\\DJI_10232.JPG'/></div><div class=\"zoom\"><img style='width: 44px; height: 44px; margin: 1px; float: left; border: 0px solid black;'title=[] src='temp_link\\DJI_10234.JPG'/></div><div class=\"zoom\"><img style='width: 44px; height: 44px; margin: 1px; float: left; border: 0px solid black;'title=[] src='temp_link\\DJI_10240.JPG'/></div><div class=\"zoom\"><img style='width: 44px; height: 44px; margin: 1px; float: left; border: 0px solid black;'title=[] src='temp_link\\DJI_10241.JPG'/></div><div class=\"zoom\"><img style='width: 44px; height: 44px; margin: 1px; float: left; border: 0px solid black;'title=[] src='temp_link\\DJI_10289.JPG'/></div><div class=\"zoom\"><img style='width: 44px; height: 44px; margin: 1px; float: left; border: 0px solid black;'title=[] src='temp_link\\DJI_10290.JPG'/></div><div class=\"zoom\"><img style='width: 44px; height: 44px; margin: 1px; float: left; border: 0px solid black;'title=[] src='temp_link\\DJI_10291.JPG'/></div><div class=\"zoom\"><img style='width: 44px; height: 44px; margin: 1px; float: left; border: 0px solid black;'title=[] src='temp_link\\DJI_10295.JPG'/></div><div class=\"zoom\"><img style='width: 44px; height: 44px; margin: 1px; float: left; border: 0px solid black;'title=[] src='temp_link\\DJI_10296.JPG'/></div><div class=\"zoom\"><img style='width: 44px; height: 44px; margin: 1px; float: left; border: 0px solid black;'title=[] src='temp_link\\DJI_10297.JPG'/></div><div class=\"zoom\"><img style='width: 44px; height: 44px; margin: 1px; float: left; border: 0px solid black;'title=[] src='temp_link\\DJI_10299.JPG'/></div><div class=\"zoom\"><img style='width: 44px; height: 44px; margin: 1px; float: left; border: 0px solid black;'title=[] src='temp_link\\DJI_10300.JPG'/></div><div class=\"zoom\"><img style='width: 44px; height: 44px; margin: 1px; float: left; border: 0px solid black;'title=[] src='temp_link\\DJI_10301.JPG'/></div><div class=\"zoom\"><img style='width: 44px; height: 44px; margin: 1px; float: left; border: 0px solid black;'title=[] src='temp_link\\DJI_10318.JPG'/></div><div class=\"zoom\"><img style='width: 44px; height: 44px; margin: 1px; float: left; border: 0px solid black;'title=[] src='temp_link\\DJI_10320.JPG'/></div><div class=\"zoom\"><img style='width: 44px; height: 44px; margin: 1px; float: left; border: 0px solid black;'title=[] src='temp_link\\DJI_10328.JPG'/></div><div class=\"zoom\"><img style='width: 44px; height: 44px; margin: 1px; float: left; border: 0px solid black;'title=[] src='temp_link\\DJI_10329.JPG'/></div><div class=\"zoom\"><img style='width: 44px; height: 44px; margin: 1px; float: left; border: 0px solid black;'title=[] src='temp_link\\DJI_10330.JPG'/></div><div class=\"zoom\"><img style='width: 44px; height: 44px; margin: 1px; float: left; border: 0px solid black;'title=[] src='temp_link\\DJI_10381.JPG'/></div><div class=\"zoom\"><img style='width: 44px; height: 44px; margin: 1px; float: left; border: 0px solid black;'title=[] src='temp_link\\DJI_10382.JPG'/></div><div class=\"zoom\"><img style='width: 44px; height: 44px; margin: 1px; float: left; border: 0px solid black;'title=[] src='temp_link\\DJI_10383.JPG'/></div><div class=\"zoom\"><img style='width: 44px; height: 44px; margin: 1px; float: left; border: 0px solid black;'title=[] src='temp_link\\DJI_10384.JPG'/></div><div class=\"zoom\"><img style='width: 44px; height: 44px; margin: 1px; float: left; border: 0px solid black;'title=[] src='temp_link\\DJI_10385.JPG'/></div><div class=\"zoom\"><img style='width: 44px; height: 44px; margin: 1px; float: left; border: 0px solid black;'title=[] src='temp_link\\DJI_10387.JPG'/></div><div class=\"zoom\"><img style='width: 44px; height: 44px; margin: 1px; float: left; border: 0px solid black;'title=[] src='temp_link\\DJI_10388.JPG'/></div><div class=\"zoom\"><img style='width: 44px; height: 44px; margin: 1px; float: left; border: 0px solid black;'title=[] src='temp_link\\DJI_10389.JPG'/></div><div class=\"zoom\"><img style='width: 44px; height: 44px; margin: 1px; float: left; border: 0px solid black;'title=[] src='temp_link\\DJI_10391.JPG'/></div><div class=\"zoom\"><img style='width: 44px; height: 44px; margin: 1px; float: left; border: 0px solid black;'title=[] src='temp_link\\DJI_10392.JPG'/></div><div class=\"zoom\"><img style='width: 44px; height: 44px; margin: 1px; float: left; border: 0px solid black;'title=[] src='temp_link\\DJI_10394.JPG'/></div><div class=\"zoom\"><img style='width: 44px; height: 44px; margin: 1px; float: left; border: 0px solid black;'title=[] src='temp_link\\DJI_10395.JPG'/></div><div class=\"zoom\"><img style='width: 44px; height: 44px; margin: 1px; float: left; border: 0px solid black;'title=[] src='temp_link\\DJI_10399.JPG'/></div><div class=\"zoom\"><img style='width: 44px; height: 44px; margin: 1px; float: left; border: 0px solid black;'title=[] src='temp_link\\DJI_10429.JPG'/></div><div class=\"zoom\"><img style='width: 44px; height: 44px; margin: 1px; float: left; border: 0px solid black;'title=[] src='temp_link\\DJI_10430.JPG'/></div><div class=\"zoom\"><img style='width: 44px; height: 44px; margin: 1px; float: left; border: 0px solid black;'title=[] src='temp_link\\DJI_10431.JPG'/></div><div class=\"zoom\"><img style='width: 44px; height: 44px; margin: 1px; float: left; border: 0px solid black;'title=[] src='temp_link\\DJI_10432.JPG'/></div><div class=\"zoom\"><img style='width: 44px; height: 44px; margin: 1px; float: left; border: 0px solid black;'title=[] src='temp_link\\DJI_10433.JPG'/></div><div class=\"zoom\"><img style='width: 44px; height: 44px; margin: 1px; float: left; border: 0px solid black;'title=[] src='temp_link\\DJI_10503.JPG'/></div><div class=\"zoom\"><img style='width: 44px; height: 44px; margin: 1px; float: left; border: 0px solid black;'title=[] src='temp_link\\DJI_10504.JPG'/></div><div class=\"zoom\"><img style='width: 44px; height: 44px; margin: 1px; float: left; border: 0px solid black;'title=[] src='temp_link\\DJI_10533.JPG'/></div><div class=\"zoom\"><img style='width: 44px; height: 44px; margin: 1px; float: left; border: 0px solid black;'title=[] src='temp_link\\DJI_10534.JPG'/></div><div class=\"zoom\"><img style='width: 44px; height: 44px; margin: 1px; float: left; border: 0px solid black;'title=[] src='temp_link\\DJI_10539.JPG'/></div><div class=\"zoom\"><img style='width: 44px; height: 44px; margin: 1px; float: left; border: 0px solid black;'title=[] src='temp_link\\DJI_10543.JPG'/></div><div class=\"zoom\"><img style='width: 44px; height: 44px; margin: 1px; float: left; border: 0px solid black;'title=[] src='temp_link\\DJI_10544.JPG'/></div><div class=\"zoom\"><img style='width: 44px; height: 44px; margin: 1px; float: left; border: 0px solid black;'title=[] src='temp_link\\DJI_10552.JPG'/></div><div class=\"zoom\"><img style='width: 44px; height: 44px; margin: 1px; float: left; border: 0px solid black;'title=[] src='temp_link\\DJI_10561.JPG'/></div><div class=\"zoom\"><img style='width: 44px; height: 44px; margin: 1px; float: left; border: 0px solid black;'title=[] src='temp_link\\DJI_10562.JPG'/></div><div class=\"zoom\"><img style='width: 44px; height: 44px; margin: 1px; float: left; border: 0px solid black;'title=[] src='temp_link\\DJI_10572.JPG'/></div><div class=\"zoom\"><img style='width: 44px; height: 44px; margin: 1px; float: left; border: 0px solid black;'title=[] src='temp_link\\DJI_10601.JPG'/></div><div class=\"zoom\"><img style='width: 44px; height: 44px; margin: 1px; float: left; border: 0px solid black;'title=[] src='temp_link\\DJI_10602.JPG'/></div><div class=\"zoom\"><img style='width: 44px; height: 44px; margin: 1px; float: left; border: 0px solid black;'title=[] src='temp_link\\DJI_10606.JPG'/></div><div class=\"zoom\"><img style='width: 44px; height: 44px; margin: 1px; float: left; border: 0px solid black;'title=[] src='temp_link\\DJI_10607.JPG'/></div><div class=\"zoom\"><img style='width: 44px; height: 44px; margin: 1px; float: left; border: 0px solid black;'title=[] src='temp_link\\DJI_10608.JPG'/></div><div class=\"zoom\"><img style='width: 44px; height: 44px; margin: 1px; float: left; border: 0px solid black;'title=[] src='temp_link\\DJI_10610.JPG'/></div><div class=\"zoom\"><img style='width: 44px; height: 44px; margin: 1px; float: left; border: 0px solid black;'title=[] src='temp_link\\DJI_10611.JPG'/></div><div class=\"zoom\"><img style='width: 44px; height: 44px; margin: 1px; float: left; border: 0px solid black;'title=[] src='temp_link\\DJI_10618.JPG'/></div><div class=\"zoom\"><img style='width: 44px; height: 44px; margin: 1px; float: left; border: 0px solid black;'title=[] src='temp_link\\DJI_10619.JPG'/></div><div class=\"zoom\"><img style='width: 44px; height: 44px; margin: 1px; float: left; border: 0px solid black;'title=[] src='temp_link\\DJI_10622.JPG'/></div><div class=\"zoom\"><img style='width: 44px; height: 44px; margin: 1px; float: left; border: 0px solid black;'title=[] src='temp_link\\DJI_10626.JPG'/></div><div class=\"zoom\"><img style='width: 44px; height: 44px; margin: 1px; float: left; border: 0px solid black;'title=[] src='temp_link\\DJI_10627.JPG'/></div><div class=\"zoom\"><img style='width: 44px; height: 44px; margin: 1px; float: left; border: 0px solid black;'title=[] src='temp_link\\DJI_10631.JPG'/></div><div class=\"zoom\"><img style='width: 44px; height: 44px; margin: 1px; float: left; border: 0px solid black;'title=[] src='temp_link\\DJI_10638.JPG'/></div><div class=\"zoom\"><img style='width: 44px; height: 44px; margin: 1px; float: left; border: 0px solid black;'title=[] src='temp_link\\DJI_10639.JPG'/></div><div class=\"zoom\"><img style='width: 44px; height: 44px; margin: 1px; float: left; border: 0px solid black;'title=[] src='temp_link\\DJI_10640.JPG'/></div><div class=\"zoom\"><img style='width: 44px; height: 44px; margin: 1px; float: left; border: 0px solid black;'title=[] src='temp_link\\DJI_10642.JPG'/></div><div class=\"zoom\"><img style='width: 44px; height: 44px; margin: 1px; float: left; border: 0px solid black;'title=[] src='temp_link\\DJI_10643.JPG'/></div><div class=\"zoom\"><img style='width: 44px; height: 44px; margin: 1px; float: left; border: 0px solid black;'title=[] src='temp_link\\DJI_10648.JPG'/></div><div class=\"zoom\"><img style='width: 44px; height: 44px; margin: 1px; float: left; border: 0px solid black;'title=[] src='temp_link\\DJI_10652.JPG'/></div><div class=\"zoom\"><img style='width: 44px; height: 44px; margin: 1px; float: left; border: 0px solid black;'title=[] src='temp_link\\DJI_10656.JPG'/></div><div class=\"zoom\"><img style='width: 44px; height: 44px; margin: 1px; float: left; border: 0px solid black;'title=[] src='temp_link\\DJI_10657.JPG'/></div><div class=\"zoom\"><img style='width: 44px; height: 44px; margin: 1px; float: left; border: 0px solid black;'title=[] src='temp_link\\DJI_10659.JPG'/></div><div class=\"zoom\"><img style='width: 44px; height: 44px; margin: 1px; float: left; border: 0px solid black;'title=[] src='temp_link\\DJI_10660.JPG'/></div><div class=\"zoom\"><img style='width: 44px; height: 44px; margin: 1px; float: left; border: 0px solid black;'title=[] src='temp_link\\DJI_10661.JPG'/></div><div class=\"zoom\"><img style='width: 44px; height: 44px; margin: 1px; float: left; border: 0px solid black;'title=[] src='temp_link\\DJI_10662.JPG'/></div><div class=\"zoom\"><img style='width: 44px; height: 44px; margin: 1px; float: left; border: 0px solid black;'title=[] src='temp_link\\DJI_10663.JPG'/></div><div class=\"zoom\"><img style='width: 44px; height: 44px; margin: 1px; float: left; border: 0px solid black;'title=[] src='temp_link\\DJI_10664.JPG'/></div><div class=\"zoom\"><img style='width: 44px; height: 44px; margin: 1px; float: left; border: 0px solid black;'title=[] src='temp_link\\DJI_10665.JPG'/></div><div class=\"zoom\"><img style='width: 44px; height: 44px; margin: 1px; float: left; border: 0px solid black;'title=[] src='temp_link\\DJI_10666.JPG'/></div><div class=\"zoom\"><img style='width: 44px; height: 44px; margin: 1px; float: left; border: 0px solid black;'title=[] src='temp_link\\DJI_10667.JPG'/></div><div class=\"zoom\"><img style='width: 44px; height: 44px; margin: 1px; float: left; border: 0px solid black;'title=[] src='temp_link\\DJI_10668.JPG'/></div><div class=\"zoom\"><img style='width: 44px; height: 44px; margin: 1px; float: left; border: 0px solid black;'title=[] src='temp_link\\DJI_10669.JPG'/></div><div class=\"zoom\"><img style='width: 44px; height: 44px; margin: 1px; float: left; border: 0px solid black;'title=[] src='temp_link\\DJI_10670.JPG'/></div><div class=\"zoom\"><img style='width: 44px; height: 44px; margin: 1px; float: left; border: 0px solid black;'title=[] src='temp_link\\DJI_10674.JPG'/></div><div class=\"zoom\"><img style='width: 44px; height: 44px; margin: 1px; float: left; border: 0px solid black;'title=[] src='temp_link\\DJI_10675.JPG'/></div><div class=\"zoom\"><img style='width: 44px; height: 44px; margin: 1px; float: left; border: 0px solid black;'title=[] src='temp_link\\DJI_10677.JPG'/></div><div class=\"zoom\"><img style='width: 44px; height: 44px; margin: 1px; float: left; border: 0px solid black;'title=[] src='temp_link\\DJI_10678.JPG'/></div><div class=\"zoom\"><img style='width: 44px; height: 44px; margin: 1px; float: left; border: 0px solid black;'title=[] src='temp_link\\DJI_10680.JPG'/></div><div class=\"zoom\"><img style='width: 44px; height: 44px; margin: 1px; float: left; border: 0px solid black;'title=[] src='temp_link\\DJI_10682.JPG'/></div><div class=\"zoom\"><img style='width: 44px; height: 44px; margin: 1px; float: left; border: 0px solid black;'title=[] src='temp_link\\DJI_10698.JPG'/></div><div class=\"zoom\"><img style='width: 44px; height: 44px; margin: 1px; float: left; border: 0px solid black;'title=[] src='temp_link\\DJI_10699.JPG'/></div><div class=\"zoom\"><img style='width: 44px; height: 44px; margin: 1px; float: left; border: 0px solid black;'title=[] src='temp_link\\DJI_10700.JPG'/></div><div class=\"zoom\"><img style='width: 44px; height: 44px; margin: 1px; float: left; border: 0px solid black;'title=[] src='temp_link\\DJI_10701.JPG'/></div><div class=\"zoom\"><img style='width: 44px; height: 44px; margin: 1px; float: left; border: 0px solid black;'title=[] src='temp_link\\DJI_10709.JPG'/></div><div class=\"zoom\"><img style='width: 44px; height: 44px; margin: 1px; float: left; border: 0px solid black;'title=[] src='temp_link\\DJI_10710.JPG'/></div><div class=\"zoom\"><img style='width: 44px; height: 44px; margin: 1px; float: left; border: 0px solid black;'title=[] src='temp_link\\DJI_10712.JPG'/></div>"
      ],
      "text/plain": [
       "<IPython.core.display.HTML object>"
      ]
     },
     "metadata": {},
     "output_type": "display_data"
    }
   ],
   "source": [
    "# view thumbnails of the training images\n",
    "Li = EasyImageList.from_folder(r\"C:\\Users\\Kaitlin\\Documents\\GitHub\\Semantic-Segmentation-of-Aerial-Cityscapes\\data\\VDD\\train\\src\")\n",
    "Li.symlink_images()\n",
    "Li.html(size=44)"
   ]
  },
  {
   "cell_type": "code",
   "execution_count": 5,
   "id": "c8df594c",
   "metadata": {},
   "outputs": [
    {
     "data": {
      "text/html": [
       "<div class=\"zoom\"><img style='width: 44px; height: 44px; margin: 1px; float: left; border: 0px solid black;'title=[] src='temp_link\\DJI_0008.png'/></div><div class=\"zoom\"><img style='width: 44px; height: 44px; margin: 1px; float: left; border: 0px solid black;'title=[] src='temp_link\\DJI_0010.png'/></div><div class=\"zoom\"><img style='width: 44px; height: 44px; margin: 1px; float: left; border: 0px solid black;'title=[] src='temp_link\\DJI_0011.png'/></div><div class=\"zoom\"><img style='width: 44px; height: 44px; margin: 1px; float: left; border: 0px solid black;'title=[] src='temp_link\\DJI_0012.png'/></div><div class=\"zoom\"><img style='width: 44px; height: 44px; margin: 1px; float: left; border: 0px solid black;'title=[] src='temp_link\\DJI_0013.png'/></div><div class=\"zoom\"><img style='width: 44px; height: 44px; margin: 1px; float: left; border: 0px solid black;'title=[] src='temp_link\\DJI_0014.png'/></div><div class=\"zoom\"><img style='width: 44px; height: 44px; margin: 1px; float: left; border: 0px solid black;'title=[] src='temp_link\\DJI_0017.png'/></div><div class=\"zoom\"><img style='width: 44px; height: 44px; margin: 1px; float: left; border: 0px solid black;'title=[] src='temp_link\\DJI_0019.png'/></div><div class=\"zoom\"><img style='width: 44px; height: 44px; margin: 1px; float: left; border: 0px solid black;'title=[] src='temp_link\\DJI_0020.png'/></div><div class=\"zoom\"><img style='width: 44px; height: 44px; margin: 1px; float: left; border: 0px solid black;'title=[] src='temp_link\\DJI_0021.png'/></div><div class=\"zoom\"><img style='width: 44px; height: 44px; margin: 1px; float: left; border: 0px solid black;'title=[] src='temp_link\\DJI_0022.png'/></div><div class=\"zoom\"><img style='width: 44px; height: 44px; margin: 1px; float: left; border: 0px solid black;'title=[] src='temp_link\\DJI_0025.png'/></div><div class=\"zoom\"><img style='width: 44px; height: 44px; margin: 1px; float: left; border: 0px solid black;'title=[] src='temp_link\\DJI_0026.png'/></div><div class=\"zoom\"><img style='width: 44px; height: 44px; margin: 1px; float: left; border: 0px solid black;'title=[] src='temp_link\\DJI_0027.png'/></div><div class=\"zoom\"><img style='width: 44px; height: 44px; margin: 1px; float: left; border: 0px solid black;'title=[] src='temp_link\\DJI_0028.png'/></div><div class=\"zoom\"><img style='width: 44px; height: 44px; margin: 1px; float: left; border: 0px solid black;'title=[] src='temp_link\\DJI_0029.png'/></div><div class=\"zoom\"><img style='width: 44px; height: 44px; margin: 1px; float: left; border: 0px solid black;'title=[] src='temp_link\\DJI_0030.png'/></div><div class=\"zoom\"><img style='width: 44px; height: 44px; margin: 1px; float: left; border: 0px solid black;'title=[] src='temp_link\\DJI_0032.png'/></div><div class=\"zoom\"><img style='width: 44px; height: 44px; margin: 1px; float: left; border: 0px solid black;'title=[] src='temp_link\\DJI_0033.png'/></div><div class=\"zoom\"><img style='width: 44px; height: 44px; margin: 1px; float: left; border: 0px solid black;'title=[] src='temp_link\\DJI_0034.png'/></div><div class=\"zoom\"><img style='width: 44px; height: 44px; margin: 1px; float: left; border: 0px solid black;'title=[] src='temp_link\\DJI_0035.png'/></div><div class=\"zoom\"><img style='width: 44px; height: 44px; margin: 1px; float: left; border: 0px solid black;'title=[] src='temp_link\\DJI_0319.png'/></div><div class=\"zoom\"><img style='width: 44px; height: 44px; margin: 1px; float: left; border: 0px solid black;'title=[] src='temp_link\\DJI_0320.png'/></div><div class=\"zoom\"><img style='width: 44px; height: 44px; margin: 1px; float: left; border: 0px solid black;'title=[] src='temp_link\\DJI_0322.png'/></div><div class=\"zoom\"><img style='width: 44px; height: 44px; margin: 1px; float: left; border: 0px solid black;'title=[] src='temp_link\\DJI_0330.png'/></div><div class=\"zoom\"><img style='width: 44px; height: 44px; margin: 1px; float: left; border: 0px solid black;'title=[] src='temp_link\\DJI_0337.png'/></div><div class=\"zoom\"><img style='width: 44px; height: 44px; margin: 1px; float: left; border: 0px solid black;'title=[] src='temp_link\\DJI_0340.png'/></div><div class=\"zoom\"><img style='width: 44px; height: 44px; margin: 1px; float: left; border: 0px solid black;'title=[] src='temp_link\\DJI_0344.png'/></div><div class=\"zoom\"><img style='width: 44px; height: 44px; margin: 1px; float: left; border: 0px solid black;'title=[] src='temp_link\\DJI_0345.png'/></div><div class=\"zoom\"><img style='width: 44px; height: 44px; margin: 1px; float: left; border: 0px solid black;'title=[] src='temp_link\\DJI_0346.png'/></div><div class=\"zoom\"><img style='width: 44px; height: 44px; margin: 1px; float: left; border: 0px solid black;'title=[] src='temp_link\\DJI_0349.png'/></div><div class=\"zoom\"><img style='width: 44px; height: 44px; margin: 1px; float: left; border: 0px solid black;'title=[] src='temp_link\\DJI_0350.png'/></div><div class=\"zoom\"><img style='width: 44px; height: 44px; margin: 1px; float: left; border: 0px solid black;'title=[] src='temp_link\\DJI_0358.png'/></div><div class=\"zoom\"><img style='width: 44px; height: 44px; margin: 1px; float: left; border: 0px solid black;'title=[] src='temp_link\\DJI_0361.png'/></div><div class=\"zoom\"><img style='width: 44px; height: 44px; margin: 1px; float: left; border: 0px solid black;'title=[] src='temp_link\\DJI_0363.png'/></div><div class=\"zoom\"><img style='width: 44px; height: 44px; margin: 1px; float: left; border: 0px solid black;'title=[] src='temp_link\\DJI_0364.png'/></div><div class=\"zoom\"><img style='width: 44px; height: 44px; margin: 1px; float: left; border: 0px solid black;'title=[] src='temp_link\\DJI_0366.png'/></div><div class=\"zoom\"><img style='width: 44px; height: 44px; margin: 1px; float: left; border: 0px solid black;'title=[] src='temp_link\\DJI_0367.png'/></div><div class=\"zoom\"><img style='width: 44px; height: 44px; margin: 1px; float: left; border: 0px solid black;'title=[] src='temp_link\\DJI_0368.png'/></div><div class=\"zoom\"><img style='width: 44px; height: 44px; margin: 1px; float: left; border: 0px solid black;'title=[] src='temp_link\\DJI_0369.png'/></div><div class=\"zoom\"><img style='width: 44px; height: 44px; margin: 1px; float: left; border: 0px solid black;'title=[] src='temp_link\\DJI_0372.png'/></div><div class=\"zoom\"><img style='width: 44px; height: 44px; margin: 1px; float: left; border: 0px solid black;'title=[] src='temp_link\\DJI_0373.png'/></div><div class=\"zoom\"><img style='width: 44px; height: 44px; margin: 1px; float: left; border: 0px solid black;'title=[] src='temp_link\\DJI_0375.png'/></div><div class=\"zoom\"><img style='width: 44px; height: 44px; margin: 1px; float: left; border: 0px solid black;'title=[] src='temp_link\\DJI_0382.png'/></div><div class=\"zoom\"><img style='width: 44px; height: 44px; margin: 1px; float: left; border: 0px solid black;'title=[] src='temp_link\\DJI_0383.png'/></div><div class=\"zoom\"><img style='width: 44px; height: 44px; margin: 1px; float: left; border: 0px solid black;'title=[] src='temp_link\\DJI_0385.png'/></div><div class=\"zoom\"><img style='width: 44px; height: 44px; margin: 1px; float: left; border: 0px solid black;'title=[] src='temp_link\\DJI_0387.png'/></div><div class=\"zoom\"><img style='width: 44px; height: 44px; margin: 1px; float: left; border: 0px solid black;'title=[] src='temp_link\\DJI_0388.png'/></div><div class=\"zoom\"><img style='width: 44px; height: 44px; margin: 1px; float: left; border: 0px solid black;'title=[] src='temp_link\\DJI_0395.png'/></div><div class=\"zoom\"><img style='width: 44px; height: 44px; margin: 1px; float: left; border: 0px solid black;'title=[] src='temp_link\\DJI_0398.png'/></div><div class=\"zoom\"><img style='width: 44px; height: 44px; margin: 1px; float: left; border: 0px solid black;'title=[] src='temp_link\\DJI_0408.png'/></div><div class=\"zoom\"><img style='width: 44px; height: 44px; margin: 1px; float: left; border: 0px solid black;'title=[] src='temp_link\\DJI_0413.png'/></div><div class=\"zoom\"><img style='width: 44px; height: 44px; margin: 1px; float: left; border: 0px solid black;'title=[] src='temp_link\\DJI_0415.png'/></div><div class=\"zoom\"><img style='width: 44px; height: 44px; margin: 1px; float: left; border: 0px solid black;'title=[] src='temp_link\\DJI_0417.png'/></div><div class=\"zoom\"><img style='width: 44px; height: 44px; margin: 1px; float: left; border: 0px solid black;'title=[] src='temp_link\\DJI_0423.png'/></div><div class=\"zoom\"><img style='width: 44px; height: 44px; margin: 1px; float: left; border: 0px solid black;'title=[] src='temp_link\\DJI_0424.png'/></div><div class=\"zoom\"><img style='width: 44px; height: 44px; margin: 1px; float: left; border: 0px solid black;'title=[] src='temp_link\\DJI_0430.png'/></div><div class=\"zoom\"><img style='width: 44px; height: 44px; margin: 1px; float: left; border: 0px solid black;'title=[] src='temp_link\\DJI_0431.png'/></div><div class=\"zoom\"><img style='width: 44px; height: 44px; margin: 1px; float: left; border: 0px solid black;'title=[] src='temp_link\\DJI_0438.png'/></div><div class=\"zoom\"><img style='width: 44px; height: 44px; margin: 1px; float: left; border: 0px solid black;'title=[] src='temp_link\\DJI_0442.png'/></div><div class=\"zoom\"><img style='width: 44px; height: 44px; margin: 1px; float: left; border: 0px solid black;'title=[] src='temp_link\\DJI_0446.png'/></div><div class=\"zoom\"><img style='width: 44px; height: 44px; margin: 1px; float: left; border: 0px solid black;'title=[] src='temp_link\\DJI_0452.png'/></div><div class=\"zoom\"><img style='width: 44px; height: 44px; margin: 1px; float: left; border: 0px solid black;'title=[] src='temp_link\\DJI_0456.png'/></div><div class=\"zoom\"><img style='width: 44px; height: 44px; margin: 1px; float: left; border: 0px solid black;'title=[] src='temp_link\\DJI_0457.png'/></div><div class=\"zoom\"><img style='width: 44px; height: 44px; margin: 1px; float: left; border: 0px solid black;'title=[] src='temp_link\\DJI_0460.png'/></div><div class=\"zoom\"><img style='width: 44px; height: 44px; margin: 1px; float: left; border: 0px solid black;'title=[] src='temp_link\\DJI_0468.png'/></div><div class=\"zoom\"><img style='width: 44px; height: 44px; margin: 1px; float: left; border: 0px solid black;'title=[] src='temp_link\\DJI_0471.png'/></div><div class=\"zoom\"><img style='width: 44px; height: 44px; margin: 1px; float: left; border: 0px solid black;'title=[] src='temp_link\\DJI_0476.png'/></div><div class=\"zoom\"><img style='width: 44px; height: 44px; margin: 1px; float: left; border: 0px solid black;'title=[] src='temp_link\\DJI_0477.png'/></div><div class=\"zoom\"><img style='width: 44px; height: 44px; margin: 1px; float: left; border: 0px solid black;'title=[] src='temp_link\\DJI_0478.png'/></div><div class=\"zoom\"><img style='width: 44px; height: 44px; margin: 1px; float: left; border: 0px solid black;'title=[] src='temp_link\\DJI_0479.png'/></div><div class=\"zoom\"><img style='width: 44px; height: 44px; margin: 1px; float: left; border: 0px solid black;'title=[] src='temp_link\\DJI_0480.png'/></div><div class=\"zoom\"><img style='width: 44px; height: 44px; margin: 1px; float: left; border: 0px solid black;'title=[] src='temp_link\\DJI_0481.png'/></div><div class=\"zoom\"><img style='width: 44px; height: 44px; margin: 1px; float: left; border: 0px solid black;'title=[] src='temp_link\\DJI_0486.png'/></div><div class=\"zoom\"><img style='width: 44px; height: 44px; margin: 1px; float: left; border: 0px solid black;'title=[] src='temp_link\\DJI_0487.png'/></div><div class=\"zoom\"><img style='width: 44px; height: 44px; margin: 1px; float: left; border: 0px solid black;'title=[] src='temp_link\\DJI_0488.png'/></div><div class=\"zoom\"><img style='width: 44px; height: 44px; margin: 1px; float: left; border: 0px solid black;'title=[] src='temp_link\\DJI_0489.png'/></div><div class=\"zoom\"><img style='width: 44px; height: 44px; margin: 1px; float: left; border: 0px solid black;'title=[] src='temp_link\\DJI_0490.png'/></div><div class=\"zoom\"><img style='width: 44px; height: 44px; margin: 1px; float: left; border: 0px solid black;'title=[] src='temp_link\\DJI_0491.png'/></div><div class=\"zoom\"><img style='width: 44px; height: 44px; margin: 1px; float: left; border: 0px solid black;'title=[] src='temp_link\\DJI_0492.png'/></div><div class=\"zoom\"><img style='width: 44px; height: 44px; margin: 1px; float: left; border: 0px solid black;'title=[] src='temp_link\\DJI_0507.png'/></div><div class=\"zoom\"><img style='width: 44px; height: 44px; margin: 1px; float: left; border: 0px solid black;'title=[] src='temp_link\\DJI_0515.png'/></div><div class=\"zoom\"><img style='width: 44px; height: 44px; margin: 1px; float: left; border: 0px solid black;'title=[] src='temp_link\\DJI_0517.png'/></div><div class=\"zoom\"><img style='width: 44px; height: 44px; margin: 1px; float: left; border: 0px solid black;'title=[] src='temp_link\\DJI_0522.png'/></div><div class=\"zoom\"><img style='width: 44px; height: 44px; margin: 1px; float: left; border: 0px solid black;'title=[] src='temp_link\\DJI_0524.png'/></div><div class=\"zoom\"><img style='width: 44px; height: 44px; margin: 1px; float: left; border: 0px solid black;'title=[] src='temp_link\\DJI_0528.png'/></div><div class=\"zoom\"><img style='width: 44px; height: 44px; margin: 1px; float: left; border: 0px solid black;'title=[] src='temp_link\\DJI_0533.png'/></div><div class=\"zoom\"><img style='width: 44px; height: 44px; margin: 1px; float: left; border: 0px solid black;'title=[] src='temp_link\\DJI_0535.png'/></div><div class=\"zoom\"><img style='width: 44px; height: 44px; margin: 1px; float: left; border: 0px solid black;'title=[] src='temp_link\\DJI_0539.png'/></div><div class=\"zoom\"><img style='width: 44px; height: 44px; margin: 1px; float: left; border: 0px solid black;'title=[] src='temp_link\\DJI_0547.png'/></div><div class=\"zoom\"><img style='width: 44px; height: 44px; margin: 1px; float: left; border: 0px solid black;'title=[] src='temp_link\\DJI_0556.png'/></div><div class=\"zoom\"><img style='width: 44px; height: 44px; margin: 1px; float: left; border: 0px solid black;'title=[] src='temp_link\\DJI_0561.png'/></div><div class=\"zoom\"><img style='width: 44px; height: 44px; margin: 1px; float: left; border: 0px solid black;'title=[] src='temp_link\\DJI_0563.png'/></div><div class=\"zoom\"><img style='width: 44px; height: 44px; margin: 1px; float: left; border: 0px solid black;'title=[] src='temp_link\\DJI_0570.png'/></div><div class=\"zoom\"><img style='width: 44px; height: 44px; margin: 1px; float: left; border: 0px solid black;'title=[] src='temp_link\\DJI_0575.png'/></div><div class=\"zoom\"><img style='width: 44px; height: 44px; margin: 1px; float: left; border: 0px solid black;'title=[] src='temp_link\\DJI_0578.png'/></div><div class=\"zoom\"><img style='width: 44px; height: 44px; margin: 1px; float: left; border: 0px solid black;'title=[] src='temp_link\\DJI_0589.png'/></div><div class=\"zoom\"><img style='width: 44px; height: 44px; margin: 1px; float: left; border: 0px solid black;'title=[] src='temp_link\\DJI_0590.png'/></div><div class=\"zoom\"><img style='width: 44px; height: 44px; margin: 1px; float: left; border: 0px solid black;'title=[] src='temp_link\\DJI_0597.png'/></div><div class=\"zoom\"><img style='width: 44px; height: 44px; margin: 1px; float: left; border: 0px solid black;'title=[] src='temp_link\\DJI_0646.png'/></div><div class=\"zoom\"><img style='width: 44px; height: 44px; margin: 1px; float: left; border: 0px solid black;'title=[] src='temp_link\\DJI_0679.png'/></div><div class=\"zoom\"><img style='width: 44px; height: 44px; margin: 1px; float: left; border: 0px solid black;'title=[] src='temp_link\\DJI_0680.png'/></div><div class=\"zoom\"><img style='width: 44px; height: 44px; margin: 1px; float: left; border: 0px solid black;'title=[] src='temp_link\\DJI_0683.png'/></div><div class=\"zoom\"><img style='width: 44px; height: 44px; margin: 1px; float: left; border: 0px solid black;'title=[] src='temp_link\\DJI_0693.png'/></div><div class=\"zoom\"><img style='width: 44px; height: 44px; margin: 1px; float: left; border: 0px solid black;'title=[] src='temp_link\\DJI_0711.png'/></div><div class=\"zoom\"><img style='width: 44px; height: 44px; margin: 1px; float: left; border: 0px solid black;'title=[] src='temp_link\\DJI_0715.png'/></div><div class=\"zoom\"><img style='width: 44px; height: 44px; margin: 1px; float: left; border: 0px solid black;'title=[] src='temp_link\\DJI_0745.png'/></div><div class=\"zoom\"><img style='width: 44px; height: 44px; margin: 1px; float: left; border: 0px solid black;'title=[] src='temp_link\\DJI_0762.png'/></div><div class=\"zoom\"><img style='width: 44px; height: 44px; margin: 1px; float: left; border: 0px solid black;'title=[] src='temp_link\\DJI_0766.png'/></div><div class=\"zoom\"><img style='width: 44px; height: 44px; margin: 1px; float: left; border: 0px solid black;'title=[] src='temp_link\\DJI_0773.png'/></div><div class=\"zoom\"><img style='width: 44px; height: 44px; margin: 1px; float: left; border: 0px solid black;'title=[] src='temp_link\\DJI_0778.png'/></div><div class=\"zoom\"><img style='width: 44px; height: 44px; margin: 1px; float: left; border: 0px solid black;'title=[] src='temp_link\\DJI_0789.png'/></div><div class=\"zoom\"><img style='width: 44px; height: 44px; margin: 1px; float: left; border: 0px solid black;'title=[] src='temp_link\\DJI_0795.png'/></div><div class=\"zoom\"><img style='width: 44px; height: 44px; margin: 1px; float: left; border: 0px solid black;'title=[] src='temp_link\\DJI_0796.png'/></div><div class=\"zoom\"><img style='width: 44px; height: 44px; margin: 1px; float: left; border: 0px solid black;'title=[] src='temp_link\\DJI_0797.png'/></div><div class=\"zoom\"><img style='width: 44px; height: 44px; margin: 1px; float: left; border: 0px solid black;'title=[] src='temp_link\\DJI_0802.png'/></div><div class=\"zoom\"><img style='width: 44px; height: 44px; margin: 1px; float: left; border: 0px solid black;'title=[] src='temp_link\\DJI_0805.png'/></div><div class=\"zoom\"><img style='width: 44px; height: 44px; margin: 1px; float: left; border: 0px solid black;'title=[] src='temp_link\\DJI_0820.png'/></div><div class=\"zoom\"><img style='width: 44px; height: 44px; margin: 1px; float: left; border: 0px solid black;'title=[] src='temp_link\\DJI_0821.png'/></div><div class=\"zoom\"><img style='width: 44px; height: 44px; margin: 1px; float: left; border: 0px solid black;'title=[] src='temp_link\\DJI_0822.png'/></div><div class=\"zoom\"><img style='width: 44px; height: 44px; margin: 1px; float: left; border: 0px solid black;'title=[] src='temp_link\\DJI_0824.png'/></div><div class=\"zoom\"><img style='width: 44px; height: 44px; margin: 1px; float: left; border: 0px solid black;'title=[] src='temp_link\\DJI_0825.png'/></div><div class=\"zoom\"><img style='width: 44px; height: 44px; margin: 1px; float: left; border: 0px solid black;'title=[] src='temp_link\\DJI_0827.png'/></div><div class=\"zoom\"><img style='width: 44px; height: 44px; margin: 1px; float: left; border: 0px solid black;'title=[] src='temp_link\\DJI_0828.png'/></div><div class=\"zoom\"><img style='width: 44px; height: 44px; margin: 1px; float: left; border: 0px solid black;'title=[] src='temp_link\\DJI_0829.png'/></div><div class=\"zoom\"><img style='width: 44px; height: 44px; margin: 1px; float: left; border: 0px solid black;'title=[] src='temp_link\\DJI_0835.png'/></div><div class=\"zoom\"><img style='width: 44px; height: 44px; margin: 1px; float: left; border: 0px solid black;'title=[] src='temp_link\\DJI_0837.png'/></div><div class=\"zoom\"><img style='width: 44px; height: 44px; margin: 1px; float: left; border: 0px solid black;'title=[] src='temp_link\\DJI_0838.png'/></div><div class=\"zoom\"><img style='width: 44px; height: 44px; margin: 1px; float: left; border: 0px solid black;'title=[] src='temp_link\\DJI_0839.png'/></div><div class=\"zoom\"><img style='width: 44px; height: 44px; margin: 1px; float: left; border: 0px solid black;'title=[] src='temp_link\\DJI_0914.png'/></div><div class=\"zoom\"><img style='width: 44px; height: 44px; margin: 1px; float: left; border: 0px solid black;'title=[] src='temp_link\\DJI_0915.png'/></div><div class=\"zoom\"><img style='width: 44px; height: 44px; margin: 1px; float: left; border: 0px solid black;'title=[] src='temp_link\\DJI_0919.png'/></div><div class=\"zoom\"><img style='width: 44px; height: 44px; margin: 1px; float: left; border: 0px solid black;'title=[] src='temp_link\\DJI_0957.png'/></div><div class=\"zoom\"><img style='width: 44px; height: 44px; margin: 1px; float: left; border: 0px solid black;'title=[] src='temp_link\\DJI_0958.png'/></div><div class=\"zoom\"><img style='width: 44px; height: 44px; margin: 1px; float: left; border: 0px solid black;'title=[] src='temp_link\\DJI_0971.png'/></div><div class=\"zoom\"><img style='width: 44px; height: 44px; margin: 1px; float: left; border: 0px solid black;'title=[] src='temp_link\\DJI_0973.png'/></div><div class=\"zoom\"><img style='width: 44px; height: 44px; margin: 1px; float: left; border: 0px solid black;'title=[] src='temp_link\\DJI_10001.png'/></div><div class=\"zoom\"><img style='width: 44px; height: 44px; margin: 1px; float: left; border: 0px solid black;'title=[] src='temp_link\\DJI_10003.png'/></div><div class=\"zoom\"><img style='width: 44px; height: 44px; margin: 1px; float: left; border: 0px solid black;'title=[] src='temp_link\\DJI_10010.png'/></div><div class=\"zoom\"><img style='width: 44px; height: 44px; margin: 1px; float: left; border: 0px solid black;'title=[] src='temp_link\\DJI_10015.png'/></div><div class=\"zoom\"><img style='width: 44px; height: 44px; margin: 1px; float: left; border: 0px solid black;'title=[] src='temp_link\\DJI_10016.png'/></div><div class=\"zoom\"><img style='width: 44px; height: 44px; margin: 1px; float: left; border: 0px solid black;'title=[] src='temp_link\\DJI_10017.png'/></div><div class=\"zoom\"><img style='width: 44px; height: 44px; margin: 1px; float: left; border: 0px solid black;'title=[] src='temp_link\\DJI_10020.png'/></div><div class=\"zoom\"><img style='width: 44px; height: 44px; margin: 1px; float: left; border: 0px solid black;'title=[] src='temp_link\\DJI_10022.png'/></div><div class=\"zoom\"><img style='width: 44px; height: 44px; margin: 1px; float: left; border: 0px solid black;'title=[] src='temp_link\\DJI_10025.png'/></div><div class=\"zoom\"><img style='width: 44px; height: 44px; margin: 1px; float: left; border: 0px solid black;'title=[] src='temp_link\\DJI_10026.png'/></div><div class=\"zoom\"><img style='width: 44px; height: 44px; margin: 1px; float: left; border: 0px solid black;'title=[] src='temp_link\\DJI_10027.png'/></div><div class=\"zoom\"><img style='width: 44px; height: 44px; margin: 1px; float: left; border: 0px solid black;'title=[] src='temp_link\\DJI_10030.png'/></div><div class=\"zoom\"><img style='width: 44px; height: 44px; margin: 1px; float: left; border: 0px solid black;'title=[] src='temp_link\\DJI_10031.png'/></div><div class=\"zoom\"><img style='width: 44px; height: 44px; margin: 1px; float: left; border: 0px solid black;'title=[] src='temp_link\\DJI_10032.png'/></div><div class=\"zoom\"><img style='width: 44px; height: 44px; margin: 1px; float: left; border: 0px solid black;'title=[] src='temp_link\\DJI_10034.png'/></div><div class=\"zoom\"><img style='width: 44px; height: 44px; margin: 1px; float: left; border: 0px solid black;'title=[] src='temp_link\\DJI_10036.png'/></div><div class=\"zoom\"><img style='width: 44px; height: 44px; margin: 1px; float: left; border: 0px solid black;'title=[] src='temp_link\\DJI_10037.png'/></div><div class=\"zoom\"><img style='width: 44px; height: 44px; margin: 1px; float: left; border: 0px solid black;'title=[] src='temp_link\\DJI_10039.png'/></div><div class=\"zoom\"><img style='width: 44px; height: 44px; margin: 1px; float: left; border: 0px solid black;'title=[] src='temp_link\\DJI_10040.png'/></div><div class=\"zoom\"><img style='width: 44px; height: 44px; margin: 1px; float: left; border: 0px solid black;'title=[] src='temp_link\\DJI_10041.png'/></div><div class=\"zoom\"><img style='width: 44px; height: 44px; margin: 1px; float: left; border: 0px solid black;'title=[] src='temp_link\\DJI_10044.png'/></div><div class=\"zoom\"><img style='width: 44px; height: 44px; margin: 1px; float: left; border: 0px solid black;'title=[] src='temp_link\\DJI_10045.png'/></div><div class=\"zoom\"><img style='width: 44px; height: 44px; margin: 1px; float: left; border: 0px solid black;'title=[] src='temp_link\\DJI_10046.png'/></div><div class=\"zoom\"><img style='width: 44px; height: 44px; margin: 1px; float: left; border: 0px solid black;'title=[] src='temp_link\\DJI_10047.png'/></div><div class=\"zoom\"><img style='width: 44px; height: 44px; margin: 1px; float: left; border: 0px solid black;'title=[] src='temp_link\\DJI_10048.png'/></div><div class=\"zoom\"><img style='width: 44px; height: 44px; margin: 1px; float: left; border: 0px solid black;'title=[] src='temp_link\\DJI_10049.png'/></div><div class=\"zoom\"><img style='width: 44px; height: 44px; margin: 1px; float: left; border: 0px solid black;'title=[] src='temp_link\\DJI_10052.png'/></div><div class=\"zoom\"><img style='width: 44px; height: 44px; margin: 1px; float: left; border: 0px solid black;'title=[] src='temp_link\\DJI_10053.png'/></div><div class=\"zoom\"><img style='width: 44px; height: 44px; margin: 1px; float: left; border: 0px solid black;'title=[] src='temp_link\\DJI_10059.png'/></div><div class=\"zoom\"><img style='width: 44px; height: 44px; margin: 1px; float: left; border: 0px solid black;'title=[] src='temp_link\\DJI_10072.png'/></div><div class=\"zoom\"><img style='width: 44px; height: 44px; margin: 1px; float: left; border: 0px solid black;'title=[] src='temp_link\\DJI_10073.png'/></div><div class=\"zoom\"><img style='width: 44px; height: 44px; margin: 1px; float: left; border: 0px solid black;'title=[] src='temp_link\\DJI_10077.png'/></div><div class=\"zoom\"><img style='width: 44px; height: 44px; margin: 1px; float: left; border: 0px solid black;'title=[] src='temp_link\\DJI_10081.png'/></div><div class=\"zoom\"><img style='width: 44px; height: 44px; margin: 1px; float: left; border: 0px solid black;'title=[] src='temp_link\\DJI_10086.png'/></div><div class=\"zoom\"><img style='width: 44px; height: 44px; margin: 1px; float: left; border: 0px solid black;'title=[] src='temp_link\\DJI_10090.png'/></div><div class=\"zoom\"><img style='width: 44px; height: 44px; margin: 1px; float: left; border: 0px solid black;'title=[] src='temp_link\\DJI_10103.png'/></div><div class=\"zoom\"><img style='width: 44px; height: 44px; margin: 1px; float: left; border: 0px solid black;'title=[] src='temp_link\\DJI_10104.png'/></div><div class=\"zoom\"><img style='width: 44px; height: 44px; margin: 1px; float: left; border: 0px solid black;'title=[] src='temp_link\\DJI_10108.png'/></div><div class=\"zoom\"><img style='width: 44px; height: 44px; margin: 1px; float: left; border: 0px solid black;'title=[] src='temp_link\\DJI_10113.png'/></div><div class=\"zoom\"><img style='width: 44px; height: 44px; margin: 1px; float: left; border: 0px solid black;'title=[] src='temp_link\\DJI_10115.png'/></div><div class=\"zoom\"><img style='width: 44px; height: 44px; margin: 1px; float: left; border: 0px solid black;'title=[] src='temp_link\\DJI_10118.png'/></div><div class=\"zoom\"><img style='width: 44px; height: 44px; margin: 1px; float: left; border: 0px solid black;'title=[] src='temp_link\\DJI_10122.png'/></div><div class=\"zoom\"><img style='width: 44px; height: 44px; margin: 1px; float: left; border: 0px solid black;'title=[] src='temp_link\\DJI_10125.png'/></div><div class=\"zoom\"><img style='width: 44px; height: 44px; margin: 1px; float: left; border: 0px solid black;'title=[] src='temp_link\\DJI_10130.png'/></div><div class=\"zoom\"><img style='width: 44px; height: 44px; margin: 1px; float: left; border: 0px solid black;'title=[] src='temp_link\\DJI_10172.png'/></div><div class=\"zoom\"><img style='width: 44px; height: 44px; margin: 1px; float: left; border: 0px solid black;'title=[] src='temp_link\\DJI_10173.png'/></div><div class=\"zoom\"><img style='width: 44px; height: 44px; margin: 1px; float: left; border: 0px solid black;'title=[] src='temp_link\\DJI_10174.png'/></div><div class=\"zoom\"><img style='width: 44px; height: 44px; margin: 1px; float: left; border: 0px solid black;'title=[] src='temp_link\\DJI_10178.png'/></div><div class=\"zoom\"><img style='width: 44px; height: 44px; margin: 1px; float: left; border: 0px solid black;'title=[] src='temp_link\\DJI_10181.png'/></div><div class=\"zoom\"><img style='width: 44px; height: 44px; margin: 1px; float: left; border: 0px solid black;'title=[] src='temp_link\\DJI_10191.png'/></div><div class=\"zoom\"><img style='width: 44px; height: 44px; margin: 1px; float: left; border: 0px solid black;'title=[] src='temp_link\\DJI_10232.png'/></div><div class=\"zoom\"><img style='width: 44px; height: 44px; margin: 1px; float: left; border: 0px solid black;'title=[] src='temp_link\\DJI_10234.png'/></div><div class=\"zoom\"><img style='width: 44px; height: 44px; margin: 1px; float: left; border: 0px solid black;'title=[] src='temp_link\\DJI_10240.png'/></div><div class=\"zoom\"><img style='width: 44px; height: 44px; margin: 1px; float: left; border: 0px solid black;'title=[] src='temp_link\\DJI_10241.png'/></div><div class=\"zoom\"><img style='width: 44px; height: 44px; margin: 1px; float: left; border: 0px solid black;'title=[] src='temp_link\\DJI_10289.png'/></div><div class=\"zoom\"><img style='width: 44px; height: 44px; margin: 1px; float: left; border: 0px solid black;'title=[] src='temp_link\\DJI_10290.png'/></div><div class=\"zoom\"><img style='width: 44px; height: 44px; margin: 1px; float: left; border: 0px solid black;'title=[] src='temp_link\\DJI_10291.png'/></div><div class=\"zoom\"><img style='width: 44px; height: 44px; margin: 1px; float: left; border: 0px solid black;'title=[] src='temp_link\\DJI_10295.png'/></div><div class=\"zoom\"><img style='width: 44px; height: 44px; margin: 1px; float: left; border: 0px solid black;'title=[] src='temp_link\\DJI_10296.png'/></div><div class=\"zoom\"><img style='width: 44px; height: 44px; margin: 1px; float: left; border: 0px solid black;'title=[] src='temp_link\\DJI_10297.png'/></div><div class=\"zoom\"><img style='width: 44px; height: 44px; margin: 1px; float: left; border: 0px solid black;'title=[] src='temp_link\\DJI_10299.png'/></div><div class=\"zoom\"><img style='width: 44px; height: 44px; margin: 1px; float: left; border: 0px solid black;'title=[] src='temp_link\\DJI_10300.png'/></div><div class=\"zoom\"><img style='width: 44px; height: 44px; margin: 1px; float: left; border: 0px solid black;'title=[] src='temp_link\\DJI_10301.png'/></div><div class=\"zoom\"><img style='width: 44px; height: 44px; margin: 1px; float: left; border: 0px solid black;'title=[] src='temp_link\\DJI_10318.png'/></div><div class=\"zoom\"><img style='width: 44px; height: 44px; margin: 1px; float: left; border: 0px solid black;'title=[] src='temp_link\\DJI_10320.png'/></div><div class=\"zoom\"><img style='width: 44px; height: 44px; margin: 1px; float: left; border: 0px solid black;'title=[] src='temp_link\\DJI_10328.png'/></div><div class=\"zoom\"><img style='width: 44px; height: 44px; margin: 1px; float: left; border: 0px solid black;'title=[] src='temp_link\\DJI_10329.png'/></div><div class=\"zoom\"><img style='width: 44px; height: 44px; margin: 1px; float: left; border: 0px solid black;'title=[] src='temp_link\\DJI_10330.png'/></div><div class=\"zoom\"><img style='width: 44px; height: 44px; margin: 1px; float: left; border: 0px solid black;'title=[] src='temp_link\\DJI_10381.png'/></div><div class=\"zoom\"><img style='width: 44px; height: 44px; margin: 1px; float: left; border: 0px solid black;'title=[] src='temp_link\\DJI_10382.png'/></div><div class=\"zoom\"><img style='width: 44px; height: 44px; margin: 1px; float: left; border: 0px solid black;'title=[] src='temp_link\\DJI_10383.png'/></div><div class=\"zoom\"><img style='width: 44px; height: 44px; margin: 1px; float: left; border: 0px solid black;'title=[] src='temp_link\\DJI_10384.png'/></div><div class=\"zoom\"><img style='width: 44px; height: 44px; margin: 1px; float: left; border: 0px solid black;'title=[] src='temp_link\\DJI_10385.png'/></div><div class=\"zoom\"><img style='width: 44px; height: 44px; margin: 1px; float: left; border: 0px solid black;'title=[] src='temp_link\\DJI_10387.png'/></div><div class=\"zoom\"><img style='width: 44px; height: 44px; margin: 1px; float: left; border: 0px solid black;'title=[] src='temp_link\\DJI_10388.png'/></div><div class=\"zoom\"><img style='width: 44px; height: 44px; margin: 1px; float: left; border: 0px solid black;'title=[] src='temp_link\\DJI_10389.png'/></div><div class=\"zoom\"><img style='width: 44px; height: 44px; margin: 1px; float: left; border: 0px solid black;'title=[] src='temp_link\\DJI_10391.png'/></div><div class=\"zoom\"><img style='width: 44px; height: 44px; margin: 1px; float: left; border: 0px solid black;'title=[] src='temp_link\\DJI_10392.png'/></div><div class=\"zoom\"><img style='width: 44px; height: 44px; margin: 1px; float: left; border: 0px solid black;'title=[] src='temp_link\\DJI_10394.png'/></div><div class=\"zoom\"><img style='width: 44px; height: 44px; margin: 1px; float: left; border: 0px solid black;'title=[] src='temp_link\\DJI_10395.png'/></div><div class=\"zoom\"><img style='width: 44px; height: 44px; margin: 1px; float: left; border: 0px solid black;'title=[] src='temp_link\\DJI_10399.png'/></div><div class=\"zoom\"><img style='width: 44px; height: 44px; margin: 1px; float: left; border: 0px solid black;'title=[] src='temp_link\\DJI_10429.png'/></div><div class=\"zoom\"><img style='width: 44px; height: 44px; margin: 1px; float: left; border: 0px solid black;'title=[] src='temp_link\\DJI_10430.png'/></div><div class=\"zoom\"><img style='width: 44px; height: 44px; margin: 1px; float: left; border: 0px solid black;'title=[] src='temp_link\\DJI_10431.png'/></div><div class=\"zoom\"><img style='width: 44px; height: 44px; margin: 1px; float: left; border: 0px solid black;'title=[] src='temp_link\\DJI_10432.png'/></div><div class=\"zoom\"><img style='width: 44px; height: 44px; margin: 1px; float: left; border: 0px solid black;'title=[] src='temp_link\\DJI_10433.png'/></div><div class=\"zoom\"><img style='width: 44px; height: 44px; margin: 1px; float: left; border: 0px solid black;'title=[] src='temp_link\\DJI_10503.png'/></div><div class=\"zoom\"><img style='width: 44px; height: 44px; margin: 1px; float: left; border: 0px solid black;'title=[] src='temp_link\\DJI_10504.png'/></div><div class=\"zoom\"><img style='width: 44px; height: 44px; margin: 1px; float: left; border: 0px solid black;'title=[] src='temp_link\\DJI_10533.png'/></div><div class=\"zoom\"><img style='width: 44px; height: 44px; margin: 1px; float: left; border: 0px solid black;'title=[] src='temp_link\\DJI_10534.png'/></div><div class=\"zoom\"><img style='width: 44px; height: 44px; margin: 1px; float: left; border: 0px solid black;'title=[] src='temp_link\\DJI_10539.png'/></div><div class=\"zoom\"><img style='width: 44px; height: 44px; margin: 1px; float: left; border: 0px solid black;'title=[] src='temp_link\\DJI_10543.png'/></div><div class=\"zoom\"><img style='width: 44px; height: 44px; margin: 1px; float: left; border: 0px solid black;'title=[] src='temp_link\\DJI_10544.png'/></div><div class=\"zoom\"><img style='width: 44px; height: 44px; margin: 1px; float: left; border: 0px solid black;'title=[] src='temp_link\\DJI_10552.png'/></div><div class=\"zoom\"><img style='width: 44px; height: 44px; margin: 1px; float: left; border: 0px solid black;'title=[] src='temp_link\\DJI_10561.png'/></div><div class=\"zoom\"><img style='width: 44px; height: 44px; margin: 1px; float: left; border: 0px solid black;'title=[] src='temp_link\\DJI_10562.png'/></div><div class=\"zoom\"><img style='width: 44px; height: 44px; margin: 1px; float: left; border: 0px solid black;'title=[] src='temp_link\\DJI_10572.png'/></div><div class=\"zoom\"><img style='width: 44px; height: 44px; margin: 1px; float: left; border: 0px solid black;'title=[] src='temp_link\\DJI_10601.png'/></div><div class=\"zoom\"><img style='width: 44px; height: 44px; margin: 1px; float: left; border: 0px solid black;'title=[] src='temp_link\\DJI_10602.png'/></div><div class=\"zoom\"><img style='width: 44px; height: 44px; margin: 1px; float: left; border: 0px solid black;'title=[] src='temp_link\\DJI_10606.png'/></div><div class=\"zoom\"><img style='width: 44px; height: 44px; margin: 1px; float: left; border: 0px solid black;'title=[] src='temp_link\\DJI_10607.png'/></div><div class=\"zoom\"><img style='width: 44px; height: 44px; margin: 1px; float: left; border: 0px solid black;'title=[] src='temp_link\\DJI_10608.png'/></div><div class=\"zoom\"><img style='width: 44px; height: 44px; margin: 1px; float: left; border: 0px solid black;'title=[] src='temp_link\\DJI_10610.png'/></div><div class=\"zoom\"><img style='width: 44px; height: 44px; margin: 1px; float: left; border: 0px solid black;'title=[] src='temp_link\\DJI_10611.png'/></div><div class=\"zoom\"><img style='width: 44px; height: 44px; margin: 1px; float: left; border: 0px solid black;'title=[] src='temp_link\\DJI_10618.png'/></div><div class=\"zoom\"><img style='width: 44px; height: 44px; margin: 1px; float: left; border: 0px solid black;'title=[] src='temp_link\\DJI_10619.png'/></div><div class=\"zoom\"><img style='width: 44px; height: 44px; margin: 1px; float: left; border: 0px solid black;'title=[] src='temp_link\\DJI_10622.png'/></div><div class=\"zoom\"><img style='width: 44px; height: 44px; margin: 1px; float: left; border: 0px solid black;'title=[] src='temp_link\\DJI_10626.png'/></div><div class=\"zoom\"><img style='width: 44px; height: 44px; margin: 1px; float: left; border: 0px solid black;'title=[] src='temp_link\\DJI_10627.png'/></div><div class=\"zoom\"><img style='width: 44px; height: 44px; margin: 1px; float: left; border: 0px solid black;'title=[] src='temp_link\\DJI_10631.png'/></div><div class=\"zoom\"><img style='width: 44px; height: 44px; margin: 1px; float: left; border: 0px solid black;'title=[] src='temp_link\\DJI_10638.png'/></div><div class=\"zoom\"><img style='width: 44px; height: 44px; margin: 1px; float: left; border: 0px solid black;'title=[] src='temp_link\\DJI_10639.png'/></div><div class=\"zoom\"><img style='width: 44px; height: 44px; margin: 1px; float: left; border: 0px solid black;'title=[] src='temp_link\\DJI_10640.png'/></div><div class=\"zoom\"><img style='width: 44px; height: 44px; margin: 1px; float: left; border: 0px solid black;'title=[] src='temp_link\\DJI_10642.png'/></div><div class=\"zoom\"><img style='width: 44px; height: 44px; margin: 1px; float: left; border: 0px solid black;'title=[] src='temp_link\\DJI_10643.png'/></div><div class=\"zoom\"><img style='width: 44px; height: 44px; margin: 1px; float: left; border: 0px solid black;'title=[] src='temp_link\\DJI_10648.png'/></div><div class=\"zoom\"><img style='width: 44px; height: 44px; margin: 1px; float: left; border: 0px solid black;'title=[] src='temp_link\\DJI_10652.png'/></div><div class=\"zoom\"><img style='width: 44px; height: 44px; margin: 1px; float: left; border: 0px solid black;'title=[] src='temp_link\\DJI_10656.png'/></div><div class=\"zoom\"><img style='width: 44px; height: 44px; margin: 1px; float: left; border: 0px solid black;'title=[] src='temp_link\\DJI_10657.png'/></div><div class=\"zoom\"><img style='width: 44px; height: 44px; margin: 1px; float: left; border: 0px solid black;'title=[] src='temp_link\\DJI_10659.png'/></div><div class=\"zoom\"><img style='width: 44px; height: 44px; margin: 1px; float: left; border: 0px solid black;'title=[] src='temp_link\\DJI_10660.png'/></div><div class=\"zoom\"><img style='width: 44px; height: 44px; margin: 1px; float: left; border: 0px solid black;'title=[] src='temp_link\\DJI_10661.png'/></div><div class=\"zoom\"><img style='width: 44px; height: 44px; margin: 1px; float: left; border: 0px solid black;'title=[] src='temp_link\\DJI_10662.png'/></div><div class=\"zoom\"><img style='width: 44px; height: 44px; margin: 1px; float: left; border: 0px solid black;'title=[] src='temp_link\\DJI_10663.png'/></div><div class=\"zoom\"><img style='width: 44px; height: 44px; margin: 1px; float: left; border: 0px solid black;'title=[] src='temp_link\\DJI_10664.png'/></div><div class=\"zoom\"><img style='width: 44px; height: 44px; margin: 1px; float: left; border: 0px solid black;'title=[] src='temp_link\\DJI_10665.png'/></div><div class=\"zoom\"><img style='width: 44px; height: 44px; margin: 1px; float: left; border: 0px solid black;'title=[] src='temp_link\\DJI_10666.png'/></div><div class=\"zoom\"><img style='width: 44px; height: 44px; margin: 1px; float: left; border: 0px solid black;'title=[] src='temp_link\\DJI_10667.png'/></div><div class=\"zoom\"><img style='width: 44px; height: 44px; margin: 1px; float: left; border: 0px solid black;'title=[] src='temp_link\\DJI_10668.png'/></div><div class=\"zoom\"><img style='width: 44px; height: 44px; margin: 1px; float: left; border: 0px solid black;'title=[] src='temp_link\\DJI_10669.png'/></div><div class=\"zoom\"><img style='width: 44px; height: 44px; margin: 1px; float: left; border: 0px solid black;'title=[] src='temp_link\\DJI_10670.png'/></div><div class=\"zoom\"><img style='width: 44px; height: 44px; margin: 1px; float: left; border: 0px solid black;'title=[] src='temp_link\\DJI_10674.png'/></div><div class=\"zoom\"><img style='width: 44px; height: 44px; margin: 1px; float: left; border: 0px solid black;'title=[] src='temp_link\\DJI_10675.png'/></div><div class=\"zoom\"><img style='width: 44px; height: 44px; margin: 1px; float: left; border: 0px solid black;'title=[] src='temp_link\\DJI_10677.png'/></div><div class=\"zoom\"><img style='width: 44px; height: 44px; margin: 1px; float: left; border: 0px solid black;'title=[] src='temp_link\\DJI_10678.png'/></div><div class=\"zoom\"><img style='width: 44px; height: 44px; margin: 1px; float: left; border: 0px solid black;'title=[] src='temp_link\\DJI_10680.png'/></div><div class=\"zoom\"><img style='width: 44px; height: 44px; margin: 1px; float: left; border: 0px solid black;'title=[] src='temp_link\\DJI_10682.png'/></div><div class=\"zoom\"><img style='width: 44px; height: 44px; margin: 1px; float: left; border: 0px solid black;'title=[] src='temp_link\\DJI_10698.png'/></div><div class=\"zoom\"><img style='width: 44px; height: 44px; margin: 1px; float: left; border: 0px solid black;'title=[] src='temp_link\\DJI_10699.png'/></div><div class=\"zoom\"><img style='width: 44px; height: 44px; margin: 1px; float: left; border: 0px solid black;'title=[] src='temp_link\\DJI_10700.png'/></div><div class=\"zoom\"><img style='width: 44px; height: 44px; margin: 1px; float: left; border: 0px solid black;'title=[] src='temp_link\\DJI_10701.png'/></div><div class=\"zoom\"><img style='width: 44px; height: 44px; margin: 1px; float: left; border: 0px solid black;'title=[] src='temp_link\\DJI_10709.png'/></div><div class=\"zoom\"><img style='width: 44px; height: 44px; margin: 1px; float: left; border: 0px solid black;'title=[] src='temp_link\\DJI_10710.png'/></div><div class=\"zoom\"><img style='width: 44px; height: 44px; margin: 1px; float: left; border: 0px solid black;'title=[] src='temp_link\\DJI_10712.png'/></div>"
      ],
      "text/plain": [
       "<IPython.core.display.HTML object>"
      ]
     },
     "metadata": {},
     "output_type": "display_data"
    }
   ],
   "source": [
    "# view thumbnails of the training masks\n",
    "Li = EasyImageList.from_folder(r\"C:\\Users\\Kaitlin\\Documents\\GitHub\\Semantic-Segmentation-of-Aerial-Cityscapes\\data\\VDD\\train\\gt\")\n",
    "Li.symlink_images()\n",
    "Li.html(size=44)"
   ]
  },
  {
   "cell_type": "markdown",
   "id": "30359b05",
   "metadata": {},
   "source": [
    "The grount truth (mask) images for the VDD dataset load as black images. Perhaps the RGB values are between 0 and 1 rather than 0 and 255. Let's load the images to investigate."
   ]
  },
  {
   "cell_type": "code",
   "execution_count": 6,
   "id": "31abb89b",
   "metadata": {},
   "outputs": [
    {
     "name": "stderr",
     "output_type": "stream",
     "text": [
      "100%|████████████████████████████████████████████████████████████████████████████████| 280/280 [00:26<00:00, 10.58it/s]\n"
     ]
    }
   ],
   "source": [
    "# import training images\n",
    "image_dataset, image_size, image_aspect_ratio = load_images_from_folder('../data/VDD/train/src/')"
   ]
  },
  {
   "cell_type": "code",
   "execution_count": 7,
   "id": "39581726",
   "metadata": {},
   "outputs": [
    {
     "name": "stderr",
     "output_type": "stream",
     "text": [
      "100%|████████████████████████████████████████████████████████████████████████████████| 280/280 [00:13<00:00, 21.51it/s]\n"
     ]
    }
   ],
   "source": [
    "# import training masks\n",
    "mask_dataset, mask_size, mask_aspect_ratio = load_images_from_folder('../data/VDD/train/gt/')"
   ]
  },
  {
   "cell_type": "code",
   "execution_count": 8,
   "id": "2dc0213a",
   "metadata": {},
   "outputs": [],
   "source": [
    "# convert image datasets to numpy arrays\n",
    "image_dataset = np.array(image_dataset).astype('int')\n",
    "mask_dataset = np.array(mask_dataset).astype('int')"
   ]
  },
  {
   "cell_type": "code",
   "execution_count": 9,
   "id": "61880876",
   "metadata": {},
   "outputs": [
    {
     "name": "stdout",
     "output_type": "stream",
     "text": [
      "(280, 128, 192, 3)\n",
      "(280, 128, 192, 3)\n"
     ]
    },
    {
     "name": "stderr",
     "output_type": "stream",
     "text": [
      "C:\\Users\\Kaitlin\\AppData\\Local\\Temp\\ipykernel_1592\\1794552665.py:9: UserWarning: Matplotlib is currently using agg, which is a non-GUI backend, so cannot show the figure.\n",
      "  plt.show()\n"
     ]
    }
   ],
   "source": [
    "# check dataset shape\n",
    "print(image_dataset.shape)\n",
    "print(mask_dataset.shape)\n",
    "\n",
    "# view sample image and mask\n",
    "fig, axs = plt.subplots(nrows=1, ncols=2, figsize=(9,4.5))\n",
    "axs[0].imshow(image_dataset[0])\n",
    "axs[1].imshow(mask_dataset[0])\n",
    "plt.show()"
   ]
  },
  {
   "cell_type": "markdown",
   "id": "2391be3c",
   "metadata": {},
   "source": [
    "The mask appears black. Let's investigate."
   ]
  },
  {
   "cell_type": "markdown",
   "id": "2bc7a2cf",
   "metadata": {},
   "source": [
    "### Check Image Size and Aspect Ratio"
   ]
  },
  {
   "cell_type": "code",
   "execution_count": 10,
   "id": "a277a4fa",
   "metadata": {},
   "outputs": [
    {
     "name": "stdout",
     "output_type": "stream",
     "text": [
      "[   3 3000 4000]\n",
      "[   3 3000 4000]\n"
     ]
    }
   ],
   "source": [
    "# image size\n",
    "print(np.unique(image_size))\n",
    "print(np.unique(mask_size))"
   ]
  },
  {
   "cell_type": "code",
   "execution_count": 11,
   "id": "ee88c63d",
   "metadata": {},
   "outputs": [
    {
     "name": "stdout",
     "output_type": "stream",
     "text": [
      "[1.33333333]\n",
      "[1.33333333]\n"
     ]
    }
   ],
   "source": [
    "# image aspect ratio\n",
    "print(np.unique(image_aspect_ratio))\n",
    "print(np.unique(mask_aspect_ratio))"
   ]
  },
  {
   "cell_type": "code",
   "execution_count": 12,
   "id": "2b9c0a0f",
   "metadata": {},
   "outputs": [
    {
     "data": {
      "text/plain": [
       "array([0, 1, 2, 3, 4, 5, 6])"
      ]
     },
     "execution_count": 12,
     "metadata": {},
     "output_type": "execute_result"
    }
   ],
   "source": [
    "# check unique values to inspect \"black\" mask\n",
    "np.unique(mask_dataset)"
   ]
  },
  {
   "cell_type": "markdown",
   "id": "7e6528e4",
   "metadata": {},
   "source": [
    "There appears to be 7 unique values for the mask colors. To visualize these different values, let's change the scale from 0 to 6 to 0 to 255."
   ]
  },
  {
   "cell_type": "code",
   "execution_count": 13,
   "id": "d545ec81",
   "metadata": {},
   "outputs": [],
   "source": [
    "# scale mask rgb\n",
    "mask_dataset_scaled = (mask_dataset * 255 / 6).astype('int')"
   ]
  },
  {
   "cell_type": "code",
   "execution_count": 14,
   "id": "7de358bb",
   "metadata": {},
   "outputs": [
    {
     "name": "stderr",
     "output_type": "stream",
     "text": [
      "C:\\Users\\Kaitlin\\AppData\\Local\\Temp\\ipykernel_1592\\3087830407.py:5: UserWarning: Matplotlib is currently using agg, which is a non-GUI backend, so cannot show the figure.\n",
      "  plt.show()\n"
     ]
    }
   ],
   "source": [
    "# view sample image and mask\n",
    "fig, axs = plt.subplots(nrows=1, ncols=2, figsize=(9,4.5))\n",
    "axs[0].imshow(image_dataset[0])\n",
    "axs[1].imshow(mask_dataset_scaled[0])\n",
    "plt.show()"
   ]
  },
  {
   "cell_type": "code",
   "execution_count": 15,
   "id": "ac13e966",
   "metadata": {},
   "outputs": [
    {
     "name": "stderr",
     "output_type": "stream",
     "text": [
      "C:\\Users\\Kaitlin\\AppData\\Local\\Temp\\ipykernel_1592\\3377913292.py:5: UserWarning: Matplotlib is currently using agg, which is a non-GUI backend, so cannot show the figure.\n",
      "  plt.show()\n"
     ]
    }
   ],
   "source": [
    "# view sample image and mask\n",
    "fig, axs = plt.subplots(nrows=1, ncols=2, figsize=(9,4.5))\n",
    "axs[0].imshow(image_dataset[10])\n",
    "axs[1].imshow(mask_dataset_scaled[10])\n",
    "plt.show()"
   ]
  },
  {
   "cell_type": "code",
   "execution_count": 16,
   "id": "23bfdf4c",
   "metadata": {},
   "outputs": [
    {
     "name": "stderr",
     "output_type": "stream",
     "text": [
      "C:\\Users\\Kaitlin\\AppData\\Local\\Temp\\ipykernel_1592\\3604490064.py:5: UserWarning: Matplotlib is currently using agg, which is a non-GUI backend, so cannot show the figure.\n",
      "  plt.show()\n"
     ]
    }
   ],
   "source": [
    "# view sample image and mask\n",
    "fig, axs = plt.subplots(nrows=1, ncols=2, figsize=(9,4.5))\n",
    "axs[0].imshow(image_dataset[190])\n",
    "axs[1].imshow(mask_dataset_scaled[190])\n",
    "plt.show()"
   ]
  },
  {
   "cell_type": "markdown",
   "id": "1e9a0057",
   "metadata": {},
   "source": [
    "Ok great. After viewing a few image-mask comparisons, its clear there is a logical mask within the black images. Although they are masked in grayscale instead of RGB."
   ]
  },
  {
   "cell_type": "markdown",
   "id": "dbefef7b",
   "metadata": {},
   "source": [
    "### Check Pixel Label Distribution"
   ]
  },
  {
   "cell_type": "markdown",
   "id": "7d173886",
   "metadata": {},
   "source": [
    "The website for VDD claims the images are labeled into 7 categories: Wall, Roof, Road, Water, Vehicle, Vegetation and Others. Unfortunately, I cannot find information on which color values denote which class, so I will define the class labels myself."
   ]
  },
  {
   "cell_type": "code",
   "execution_count": 17,
   "id": "aff444e0",
   "metadata": {},
   "outputs": [
    {
     "data": {
      "text/html": [
       "<div>\n",
       "<style scoped>\n",
       "    .dataframe tbody tr th:only-of-type {\n",
       "        vertical-align: middle;\n",
       "    }\n",
       "\n",
       "    .dataframe tbody tr th {\n",
       "        vertical-align: top;\n",
       "    }\n",
       "\n",
       "    .dataframe thead th {\n",
       "        text-align: right;\n",
       "    }\n",
       "</style>\n",
       "<table border=\"1\" class=\"dataframe\">\n",
       "  <thead>\n",
       "    <tr style=\"text-align: right;\">\n",
       "      <th></th>\n",
       "      <th>name</th>\n",
       "      <th>rgb</th>\n",
       "    </tr>\n",
       "  </thead>\n",
       "  <tbody>\n",
       "    <tr>\n",
       "      <th>0</th>\n",
       "      <td>Wall</td>\n",
       "      <td>(0, 0, 0)</td>\n",
       "    </tr>\n",
       "    <tr>\n",
       "      <th>1</th>\n",
       "      <td>Roof</td>\n",
       "      <td>(1, 1, 1)</td>\n",
       "    </tr>\n",
       "    <tr>\n",
       "      <th>2</th>\n",
       "      <td>Road</td>\n",
       "      <td>(2, 2, 2)</td>\n",
       "    </tr>\n",
       "    <tr>\n",
       "      <th>3</th>\n",
       "      <td>Water</td>\n",
       "      <td>(3, 3, 3)</td>\n",
       "    </tr>\n",
       "    <tr>\n",
       "      <th>4</th>\n",
       "      <td>Vehicle</td>\n",
       "      <td>(4, 4, 4)</td>\n",
       "    </tr>\n",
       "    <tr>\n",
       "      <th>5</th>\n",
       "      <td>Vegetation</td>\n",
       "      <td>(5, 5, 5)</td>\n",
       "    </tr>\n",
       "    <tr>\n",
       "      <th>6</th>\n",
       "      <td>Others</td>\n",
       "      <td>(6, 6, 6)</td>\n",
       "    </tr>\n",
       "  </tbody>\n",
       "</table>\n",
       "</div>"
      ],
      "text/plain": [
       "         name        rgb\n",
       "0        Wall  (0, 0, 0)\n",
       "1        Roof  (1, 1, 1)\n",
       "2        Road  (2, 2, 2)\n",
       "3       Water  (3, 3, 3)\n",
       "4     Vehicle  (4, 4, 4)\n",
       "5  Vegetation  (5, 5, 5)\n",
       "6      Others  (6, 6, 6)"
      ]
     },
     "execution_count": 17,
     "metadata": {},
     "output_type": "execute_result"
    }
   ],
   "source": [
    "# label grayscale rgb values according to the 7 categories\n",
    "# NOTE: these need to be updated\n",
    "mask_labels_tuple = pd.DataFrame({'name':['Wall', 'Roof', 'Road', 'Water', 'Vehicle', 'Vegetation', 'Others'],\n",
    "                            'rgb':[(0,0,0), (1,1,1), (2,2,2), (3,3,3), (4,4,4), (5,5,5), (6,6,6)]})\n",
    "mask_labels_tuple"
   ]
  },
  {
   "cell_type": "code",
   "execution_count": 18,
   "id": "ecbd54c0",
   "metadata": {},
   "outputs": [
    {
     "data": {
      "text/plain": [
       "(20643840,)"
      ]
     },
     "execution_count": 18,
     "metadata": {},
     "output_type": "execute_result"
    }
   ],
   "source": [
    "# reshape the mask dataset matrix to a 1-dimensional vector\n",
    "mask_vector = mask_dataset.reshape(-1, order='C')\n",
    "mask_vector.shape"
   ]
  },
  {
   "cell_type": "code",
   "execution_count": 19,
   "id": "83067eee",
   "metadata": {},
   "outputs": [
    {
     "name": "stderr",
     "output_type": "stream",
     "text": [
      "100%|██████████████████████████████████████████████████████████████████████| 6881280/6881280 [14:11<00:00, 8077.11it/s]\n"
     ]
    }
   ],
   "source": [
    "# initialize an array with the length of the number of pixels in this dataset\n",
    "pixel_classes = np.full(int((np.prod(mask_dataset.shape))/3), fill_value = -1, dtype = int)\n",
    "\n",
    "# determine each pixel's mask class\n",
    "unmasked_pixels_i = []\n",
    "for i in tqdm(range(int(mask_vector.shape[0] / 3))):\n",
    "    if np.any(mask_labels_tuple['rgb']==tuple(mask_vector[3*i:3*i+3])):\n",
    "        pixel_classes[i] = mask_labels_tuple[mask_labels_tuple['rgb']==tuple(mask_vector[3*i:3*i+3])].index.values[0]\n",
    "    else:\n",
    "        unmasked_pixels_i.append(i)"
   ]
  },
  {
   "cell_type": "code",
   "execution_count": 20,
   "id": "1553468d",
   "metadata": {},
   "outputs": [
    {
     "data": {
      "text/plain": [
       "array([0, 1, 2, 3, 4, 5, 6])"
      ]
     },
     "execution_count": 20,
     "metadata": {},
     "output_type": "execute_result"
    }
   ],
   "source": [
    "# which mask classes are present in this dataset?\n",
    "np.unique(pixel_classes)"
   ]
  },
  {
   "cell_type": "code",
   "execution_count": 22,
   "id": "4b82813a",
   "metadata": {},
   "outputs": [],
   "source": [
    "# prepare data for plotting\n",
    "pixel_classes_value_counts = pd.Series(Counter(pixel_classes))\n",
    "pixel_classes_value_counts.sort_values(ascending=False, inplace=True)\n",
    "x = range(len(pixel_classes_value_counts.index))  # locations of tick labels\n",
    "heights = pixel_classes_value_counts.values  # heights of bars\n",
    "tick_labels = list(mask_labels_tuple.loc[pixel_classes_value_counts.index]['name'])  # tick labels"
   ]
  },
  {
   "cell_type": "code",
   "execution_count": 23,
   "id": "ccf634c2",
   "metadata": {},
   "outputs": [
    {
     "name": "stderr",
     "output_type": "stream",
     "text": [
      "C:\\Users\\Kaitlin\\AppData\\Local\\Temp\\ipykernel_1592\\2316849141.py:8: UserWarning: Matplotlib is currently using agg, which is a non-GUI backend, so cannot show the figure.\n",
      "  plt.show()\n"
     ]
    }
   ],
   "source": [
    "# do the plotting\n",
    "fig, ax = plt.subplots()\n",
    "ax.bar(x=x, height=heights)#, tick_label=tick_labels)\n",
    "ax.set_title('Pixel Class Distribution')\n",
    "ax.set_xticks(x)\n",
    "ax.set_xticklabels(tick_labels, rotation='vertical')\n",
    "ax.set_ylabel('# of occurances')\n",
    "plt.show()"
   ]
  },
  {
   "cell_type": "markdown",
   "id": "fc030582",
   "metadata": {},
   "source": [
    "There is a degree of class imbalance here, although given the nature of what is being masked, in the real world there isn't really a uniform distribution of these classes."
   ]
  },
  {
   "cell_type": "markdown",
   "id": "a874b0db",
   "metadata": {},
   "source": [
    "## 2nd Dataset: Semantic Drone Dataset"
   ]
  },
  {
   "cell_type": "markdown",
   "id": "61fadbab",
   "metadata": {},
   "source": [
    "### Download Data"
   ]
  },
  {
   "cell_type": "code",
   "execution_count": 24,
   "id": "6c1a6565",
   "metadata": {},
   "outputs": [],
   "source": [
    "# requires manual download from https://www.tugraz.at/index.php?id=22387"
   ]
  },
  {
   "cell_type": "markdown",
   "id": "494d558a",
   "metadata": {},
   "source": [
    "### Visualize Images"
   ]
  },
  {
   "cell_type": "code",
   "execution_count": 25,
   "id": "477aee4a",
   "metadata": {},
   "outputs": [
    {
     "data": {
      "text/html": [
       "<div class=\"zoom\"><img style='width: 44px; height: 44px; margin: 1px; float: left; border: 0px solid black;'title=[] src='temp_link\\000.jpg'/></div><div class=\"zoom\"><img style='width: 44px; height: 44px; margin: 1px; float: left; border: 0px solid black;'title=[] src='temp_link\\001.jpg'/></div><div class=\"zoom\"><img style='width: 44px; height: 44px; margin: 1px; float: left; border: 0px solid black;'title=[] src='temp_link\\002.jpg'/></div><div class=\"zoom\"><img style='width: 44px; height: 44px; margin: 1px; float: left; border: 0px solid black;'title=[] src='temp_link\\003.jpg'/></div><div class=\"zoom\"><img style='width: 44px; height: 44px; margin: 1px; float: left; border: 0px solid black;'title=[] src='temp_link\\004.jpg'/></div><div class=\"zoom\"><img style='width: 44px; height: 44px; margin: 1px; float: left; border: 0px solid black;'title=[] src='temp_link\\005.jpg'/></div><div class=\"zoom\"><img style='width: 44px; height: 44px; margin: 1px; float: left; border: 0px solid black;'title=[] src='temp_link\\006.jpg'/></div><div class=\"zoom\"><img style='width: 44px; height: 44px; margin: 1px; float: left; border: 0px solid black;'title=[] src='temp_link\\008.jpg'/></div><div class=\"zoom\"><img style='width: 44px; height: 44px; margin: 1px; float: left; border: 0px solid black;'title=[] src='temp_link\\011.jpg'/></div><div class=\"zoom\"><img style='width: 44px; height: 44px; margin: 1px; float: left; border: 0px solid black;'title=[] src='temp_link\\013.jpg'/></div><div class=\"zoom\"><img style='width: 44px; height: 44px; margin: 1px; float: left; border: 0px solid black;'title=[] src='temp_link\\014.jpg'/></div><div class=\"zoom\"><img style='width: 44px; height: 44px; margin: 1px; float: left; border: 0px solid black;'title=[] src='temp_link\\015.jpg'/></div><div class=\"zoom\"><img style='width: 44px; height: 44px; margin: 1px; float: left; border: 0px solid black;'title=[] src='temp_link\\016.jpg'/></div><div class=\"zoom\"><img style='width: 44px; height: 44px; margin: 1px; float: left; border: 0px solid black;'title=[] src='temp_link\\018.jpg'/></div><div class=\"zoom\"><img style='width: 44px; height: 44px; margin: 1px; float: left; border: 0px solid black;'title=[] src='temp_link\\019.jpg'/></div><div class=\"zoom\"><img style='width: 44px; height: 44px; margin: 1px; float: left; border: 0px solid black;'title=[] src='temp_link\\021.jpg'/></div><div class=\"zoom\"><img style='width: 44px; height: 44px; margin: 1px; float: left; border: 0px solid black;'title=[] src='temp_link\\022.jpg'/></div><div class=\"zoom\"><img style='width: 44px; height: 44px; margin: 1px; float: left; border: 0px solid black;'title=[] src='temp_link\\023.jpg'/></div><div class=\"zoom\"><img style='width: 44px; height: 44px; margin: 1px; float: left; border: 0px solid black;'title=[] src='temp_link\\026.jpg'/></div><div class=\"zoom\"><img style='width: 44px; height: 44px; margin: 1px; float: left; border: 0px solid black;'title=[] src='temp_link\\028.jpg'/></div><div class=\"zoom\"><img style='width: 44px; height: 44px; margin: 1px; float: left; border: 0px solid black;'title=[] src='temp_link\\031.jpg'/></div><div class=\"zoom\"><img style='width: 44px; height: 44px; margin: 1px; float: left; border: 0px solid black;'title=[] src='temp_link\\035.jpg'/></div><div class=\"zoom\"><img style='width: 44px; height: 44px; margin: 1px; float: left; border: 0px solid black;'title=[] src='temp_link\\038.jpg'/></div><div class=\"zoom\"><img style='width: 44px; height: 44px; margin: 1px; float: left; border: 0px solid black;'title=[] src='temp_link\\040.jpg'/></div><div class=\"zoom\"><img style='width: 44px; height: 44px; margin: 1px; float: left; border: 0px solid black;'title=[] src='temp_link\\041.jpg'/></div><div class=\"zoom\"><img style='width: 44px; height: 44px; margin: 1px; float: left; border: 0px solid black;'title=[] src='temp_link\\042.jpg'/></div><div class=\"zoom\"><img style='width: 44px; height: 44px; margin: 1px; float: left; border: 0px solid black;'title=[] src='temp_link\\043.jpg'/></div><div class=\"zoom\"><img style='width: 44px; height: 44px; margin: 1px; float: left; border: 0px solid black;'title=[] src='temp_link\\044.jpg'/></div><div class=\"zoom\"><img style='width: 44px; height: 44px; margin: 1px; float: left; border: 0px solid black;'title=[] src='temp_link\\045.jpg'/></div><div class=\"zoom\"><img style='width: 44px; height: 44px; margin: 1px; float: left; border: 0px solid black;'title=[] src='temp_link\\047.jpg'/></div><div class=\"zoom\"><img style='width: 44px; height: 44px; margin: 1px; float: left; border: 0px solid black;'title=[] src='temp_link\\049.jpg'/></div><div class=\"zoom\"><img style='width: 44px; height: 44px; margin: 1px; float: left; border: 0px solid black;'title=[] src='temp_link\\051.jpg'/></div><div class=\"zoom\"><img style='width: 44px; height: 44px; margin: 1px; float: left; border: 0px solid black;'title=[] src='temp_link\\052.jpg'/></div><div class=\"zoom\"><img style='width: 44px; height: 44px; margin: 1px; float: left; border: 0px solid black;'title=[] src='temp_link\\053.jpg'/></div><div class=\"zoom\"><img style='width: 44px; height: 44px; margin: 1px; float: left; border: 0px solid black;'title=[] src='temp_link\\055.jpg'/></div><div class=\"zoom\"><img style='width: 44px; height: 44px; margin: 1px; float: left; border: 0px solid black;'title=[] src='temp_link\\056.jpg'/></div><div class=\"zoom\"><img style='width: 44px; height: 44px; margin: 1px; float: left; border: 0px solid black;'title=[] src='temp_link\\057.jpg'/></div><div class=\"zoom\"><img style='width: 44px; height: 44px; margin: 1px; float: left; border: 0px solid black;'title=[] src='temp_link\\058.jpg'/></div><div class=\"zoom\"><img style='width: 44px; height: 44px; margin: 1px; float: left; border: 0px solid black;'title=[] src='temp_link\\059.jpg'/></div><div class=\"zoom\"><img style='width: 44px; height: 44px; margin: 1px; float: left; border: 0px solid black;'title=[] src='temp_link\\060.jpg'/></div><div class=\"zoom\"><img style='width: 44px; height: 44px; margin: 1px; float: left; border: 0px solid black;'title=[] src='temp_link\\062.jpg'/></div><div class=\"zoom\"><img style='width: 44px; height: 44px; margin: 1px; float: left; border: 0px solid black;'title=[] src='temp_link\\063.jpg'/></div><div class=\"zoom\"><img style='width: 44px; height: 44px; margin: 1px; float: left; border: 0px solid black;'title=[] src='temp_link\\065.jpg'/></div><div class=\"zoom\"><img style='width: 44px; height: 44px; margin: 1px; float: left; border: 0px solid black;'title=[] src='temp_link\\068.jpg'/></div><div class=\"zoom\"><img style='width: 44px; height: 44px; margin: 1px; float: left; border: 0px solid black;'title=[] src='temp_link\\070.jpg'/></div><div class=\"zoom\"><img style='width: 44px; height: 44px; margin: 1px; float: left; border: 0px solid black;'title=[] src='temp_link\\071.jpg'/></div><div class=\"zoom\"><img style='width: 44px; height: 44px; margin: 1px; float: left; border: 0px solid black;'title=[] src='temp_link\\073.jpg'/></div><div class=\"zoom\"><img style='width: 44px; height: 44px; margin: 1px; float: left; border: 0px solid black;'title=[] src='temp_link\\074.jpg'/></div><div class=\"zoom\"><img style='width: 44px; height: 44px; margin: 1px; float: left; border: 0px solid black;'title=[] src='temp_link\\075.jpg'/></div><div class=\"zoom\"><img style='width: 44px; height: 44px; margin: 1px; float: left; border: 0px solid black;'title=[] src='temp_link\\077.jpg'/></div><div class=\"zoom\"><img style='width: 44px; height: 44px; margin: 1px; float: left; border: 0px solid black;'title=[] src='temp_link\\078.jpg'/></div><div class=\"zoom\"><img style='width: 44px; height: 44px; margin: 1px; float: left; border: 0px solid black;'title=[] src='temp_link\\079.jpg'/></div><div class=\"zoom\"><img style='width: 44px; height: 44px; margin: 1px; float: left; border: 0px solid black;'title=[] src='temp_link\\080.jpg'/></div><div class=\"zoom\"><img style='width: 44px; height: 44px; margin: 1px; float: left; border: 0px solid black;'title=[] src='temp_link\\081.jpg'/></div><div class=\"zoom\"><img style='width: 44px; height: 44px; margin: 1px; float: left; border: 0px solid black;'title=[] src='temp_link\\083.jpg'/></div><div class=\"zoom\"><img style='width: 44px; height: 44px; margin: 1px; float: left; border: 0px solid black;'title=[] src='temp_link\\086.jpg'/></div><div class=\"zoom\"><img style='width: 44px; height: 44px; margin: 1px; float: left; border: 0px solid black;'title=[] src='temp_link\\088.jpg'/></div><div class=\"zoom\"><img style='width: 44px; height: 44px; margin: 1px; float: left; border: 0px solid black;'title=[] src='temp_link\\089.jpg'/></div><div class=\"zoom\"><img style='width: 44px; height: 44px; margin: 1px; float: left; border: 0px solid black;'title=[] src='temp_link\\092.jpg'/></div><div class=\"zoom\"><img style='width: 44px; height: 44px; margin: 1px; float: left; border: 0px solid black;'title=[] src='temp_link\\095.jpg'/></div><div class=\"zoom\"><img style='width: 44px; height: 44px; margin: 1px; float: left; border: 0px solid black;'title=[] src='temp_link\\098.jpg'/></div><div class=\"zoom\"><img style='width: 44px; height: 44px; margin: 1px; float: left; border: 0px solid black;'title=[] src='temp_link\\099.jpg'/></div><div class=\"zoom\"><img style='width: 44px; height: 44px; margin: 1px; float: left; border: 0px solid black;'title=[] src='temp_link\\100.jpg'/></div><div class=\"zoom\"><img style='width: 44px; height: 44px; margin: 1px; float: left; border: 0px solid black;'title=[] src='temp_link\\101.jpg'/></div><div class=\"zoom\"><img style='width: 44px; height: 44px; margin: 1px; float: left; border: 0px solid black;'title=[] src='temp_link\\102.jpg'/></div><div class=\"zoom\"><img style='width: 44px; height: 44px; margin: 1px; float: left; border: 0px solid black;'title=[] src='temp_link\\103.jpg'/></div><div class=\"zoom\"><img style='width: 44px; height: 44px; margin: 1px; float: left; border: 0px solid black;'title=[] src='temp_link\\104.jpg'/></div><div class=\"zoom\"><img style='width: 44px; height: 44px; margin: 1px; float: left; border: 0px solid black;'title=[] src='temp_link\\106.jpg'/></div><div class=\"zoom\"><img style='width: 44px; height: 44px; margin: 1px; float: left; border: 0px solid black;'title=[] src='temp_link\\107.jpg'/></div><div class=\"zoom\"><img style='width: 44px; height: 44px; margin: 1px; float: left; border: 0px solid black;'title=[] src='temp_link\\109.jpg'/></div><div class=\"zoom\"><img style='width: 44px; height: 44px; margin: 1px; float: left; border: 0px solid black;'title=[] src='temp_link\\110.jpg'/></div><div class=\"zoom\"><img style='width: 44px; height: 44px; margin: 1px; float: left; border: 0px solid black;'title=[] src='temp_link\\111.jpg'/></div><div class=\"zoom\"><img style='width: 44px; height: 44px; margin: 1px; float: left; border: 0px solid black;'title=[] src='temp_link\\112.jpg'/></div><div class=\"zoom\"><img style='width: 44px; height: 44px; margin: 1px; float: left; border: 0px solid black;'title=[] src='temp_link\\113.jpg'/></div><div class=\"zoom\"><img style='width: 44px; height: 44px; margin: 1px; float: left; border: 0px solid black;'title=[] src='temp_link\\116.jpg'/></div><div class=\"zoom\"><img style='width: 44px; height: 44px; margin: 1px; float: left; border: 0px solid black;'title=[] src='temp_link\\117.jpg'/></div><div class=\"zoom\"><img style='width: 44px; height: 44px; margin: 1px; float: left; border: 0px solid black;'title=[] src='temp_link\\118.jpg'/></div><div class=\"zoom\"><img style='width: 44px; height: 44px; margin: 1px; float: left; border: 0px solid black;'title=[] src='temp_link\\119.jpg'/></div><div class=\"zoom\"><img style='width: 44px; height: 44px; margin: 1px; float: left; border: 0px solid black;'title=[] src='temp_link\\120.jpg'/></div><div class=\"zoom\"><img style='width: 44px; height: 44px; margin: 1px; float: left; border: 0px solid black;'title=[] src='temp_link\\121.jpg'/></div><div class=\"zoom\"><img style='width: 44px; height: 44px; margin: 1px; float: left; border: 0px solid black;'title=[] src='temp_link\\122.jpg'/></div><div class=\"zoom\"><img style='width: 44px; height: 44px; margin: 1px; float: left; border: 0px solid black;'title=[] src='temp_link\\123.jpg'/></div><div class=\"zoom\"><img style='width: 44px; height: 44px; margin: 1px; float: left; border: 0px solid black;'title=[] src='temp_link\\124.jpg'/></div><div class=\"zoom\"><img style='width: 44px; height: 44px; margin: 1px; float: left; border: 0px solid black;'title=[] src='temp_link\\126.jpg'/></div><div class=\"zoom\"><img style='width: 44px; height: 44px; margin: 1px; float: left; border: 0px solid black;'title=[] src='temp_link\\128.jpg'/></div><div class=\"zoom\"><img style='width: 44px; height: 44px; margin: 1px; float: left; border: 0px solid black;'title=[] src='temp_link\\130.jpg'/></div><div class=\"zoom\"><img style='width: 44px; height: 44px; margin: 1px; float: left; border: 0px solid black;'title=[] src='temp_link\\133.jpg'/></div><div class=\"zoom\"><img style='width: 44px; height: 44px; margin: 1px; float: left; border: 0px solid black;'title=[] src='temp_link\\134.jpg'/></div><div class=\"zoom\"><img style='width: 44px; height: 44px; margin: 1px; float: left; border: 0px solid black;'title=[] src='temp_link\\135.jpg'/></div><div class=\"zoom\"><img style='width: 44px; height: 44px; margin: 1px; float: left; border: 0px solid black;'title=[] src='temp_link\\136.jpg'/></div><div class=\"zoom\"><img style='width: 44px; height: 44px; margin: 1px; float: left; border: 0px solid black;'title=[] src='temp_link\\137.jpg'/></div><div class=\"zoom\"><img style='width: 44px; height: 44px; margin: 1px; float: left; border: 0px solid black;'title=[] src='temp_link\\138.jpg'/></div><div class=\"zoom\"><img style='width: 44px; height: 44px; margin: 1px; float: left; border: 0px solid black;'title=[] src='temp_link\\139.jpg'/></div><div class=\"zoom\"><img style='width: 44px; height: 44px; margin: 1px; float: left; border: 0px solid black;'title=[] src='temp_link\\140.jpg'/></div><div class=\"zoom\"><img style='width: 44px; height: 44px; margin: 1px; float: left; border: 0px solid black;'title=[] src='temp_link\\141.jpg'/></div><div class=\"zoom\"><img style='width: 44px; height: 44px; margin: 1px; float: left; border: 0px solid black;'title=[] src='temp_link\\145.jpg'/></div><div class=\"zoom\"><img style='width: 44px; height: 44px; margin: 1px; float: left; border: 0px solid black;'title=[] src='temp_link\\146.jpg'/></div><div class=\"zoom\"><img style='width: 44px; height: 44px; margin: 1px; float: left; border: 0px solid black;'title=[] src='temp_link\\147.jpg'/></div><div class=\"zoom\"><img style='width: 44px; height: 44px; margin: 1px; float: left; border: 0px solid black;'title=[] src='temp_link\\148.jpg'/></div><div class=\"zoom\"><img style='width: 44px; height: 44px; margin: 1px; float: left; border: 0px solid black;'title=[] src='temp_link\\149.jpg'/></div><div class=\"zoom\"><img style='width: 44px; height: 44px; margin: 1px; float: left; border: 0px solid black;'title=[] src='temp_link\\150.jpg'/></div><div class=\"zoom\"><img style='width: 44px; height: 44px; margin: 1px; float: left; border: 0px solid black;'title=[] src='temp_link\\153.jpg'/></div><div class=\"zoom\"><img style='width: 44px; height: 44px; margin: 1px; float: left; border: 0px solid black;'title=[] src='temp_link\\154.jpg'/></div><div class=\"zoom\"><img style='width: 44px; height: 44px; margin: 1px; float: left; border: 0px solid black;'title=[] src='temp_link\\155.jpg'/></div><div class=\"zoom\"><img style='width: 44px; height: 44px; margin: 1px; float: left; border: 0px solid black;'title=[] src='temp_link\\156.jpg'/></div><div class=\"zoom\"><img style='width: 44px; height: 44px; margin: 1px; float: left; border: 0px solid black;'title=[] src='temp_link\\157.jpg'/></div><div class=\"zoom\"><img style='width: 44px; height: 44px; margin: 1px; float: left; border: 0px solid black;'title=[] src='temp_link\\158.jpg'/></div><div class=\"zoom\"><img style='width: 44px; height: 44px; margin: 1px; float: left; border: 0px solid black;'title=[] src='temp_link\\159.jpg'/></div><div class=\"zoom\"><img style='width: 44px; height: 44px; margin: 1px; float: left; border: 0px solid black;'title=[] src='temp_link\\160.jpg'/></div><div class=\"zoom\"><img style='width: 44px; height: 44px; margin: 1px; float: left; border: 0px solid black;'title=[] src='temp_link\\161.jpg'/></div><div class=\"zoom\"><img style='width: 44px; height: 44px; margin: 1px; float: left; border: 0px solid black;'title=[] src='temp_link\\162.jpg'/></div><div class=\"zoom\"><img style='width: 44px; height: 44px; margin: 1px; float: left; border: 0px solid black;'title=[] src='temp_link\\163.jpg'/></div><div class=\"zoom\"><img style='width: 44px; height: 44px; margin: 1px; float: left; border: 0px solid black;'title=[] src='temp_link\\164.jpg'/></div><div class=\"zoom\"><img style='width: 44px; height: 44px; margin: 1px; float: left; border: 0px solid black;'title=[] src='temp_link\\165.jpg'/></div><div class=\"zoom\"><img style='width: 44px; height: 44px; margin: 1px; float: left; border: 0px solid black;'title=[] src='temp_link\\166.jpg'/></div><div class=\"zoom\"><img style='width: 44px; height: 44px; margin: 1px; float: left; border: 0px solid black;'title=[] src='temp_link\\167.jpg'/></div><div class=\"zoom\"><img style='width: 44px; height: 44px; margin: 1px; float: left; border: 0px solid black;'title=[] src='temp_link\\170.jpg'/></div><div class=\"zoom\"><img style='width: 44px; height: 44px; margin: 1px; float: left; border: 0px solid black;'title=[] src='temp_link\\171.jpg'/></div><div class=\"zoom\"><img style='width: 44px; height: 44px; margin: 1px; float: left; border: 0px solid black;'title=[] src='temp_link\\172.jpg'/></div><div class=\"zoom\"><img style='width: 44px; height: 44px; margin: 1px; float: left; border: 0px solid black;'title=[] src='temp_link\\173.jpg'/></div><div class=\"zoom\"><img style='width: 44px; height: 44px; margin: 1px; float: left; border: 0px solid black;'title=[] src='temp_link\\174.jpg'/></div><div class=\"zoom\"><img style='width: 44px; height: 44px; margin: 1px; float: left; border: 0px solid black;'title=[] src='temp_link\\175.jpg'/></div><div class=\"zoom\"><img style='width: 44px; height: 44px; margin: 1px; float: left; border: 0px solid black;'title=[] src='temp_link\\176.jpg'/></div><div class=\"zoom\"><img style='width: 44px; height: 44px; margin: 1px; float: left; border: 0px solid black;'title=[] src='temp_link\\177.jpg'/></div><div class=\"zoom\"><img style='width: 44px; height: 44px; margin: 1px; float: left; border: 0px solid black;'title=[] src='temp_link\\178.jpg'/></div><div class=\"zoom\"><img style='width: 44px; height: 44px; margin: 1px; float: left; border: 0px solid black;'title=[] src='temp_link\\179.jpg'/></div><div class=\"zoom\"><img style='width: 44px; height: 44px; margin: 1px; float: left; border: 0px solid black;'title=[] src='temp_link\\180.jpg'/></div><div class=\"zoom\"><img style='width: 44px; height: 44px; margin: 1px; float: left; border: 0px solid black;'title=[] src='temp_link\\181.jpg'/></div><div class=\"zoom\"><img style='width: 44px; height: 44px; margin: 1px; float: left; border: 0px solid black;'title=[] src='temp_link\\182.jpg'/></div><div class=\"zoom\"><img style='width: 44px; height: 44px; margin: 1px; float: left; border: 0px solid black;'title=[] src='temp_link\\185.jpg'/></div><div class=\"zoom\"><img style='width: 44px; height: 44px; margin: 1px; float: left; border: 0px solid black;'title=[] src='temp_link\\186.jpg'/></div><div class=\"zoom\"><img style='width: 44px; height: 44px; margin: 1px; float: left; border: 0px solid black;'title=[] src='temp_link\\188.jpg'/></div><div class=\"zoom\"><img style='width: 44px; height: 44px; margin: 1px; float: left; border: 0px solid black;'title=[] src='temp_link\\190.jpg'/></div><div class=\"zoom\"><img style='width: 44px; height: 44px; margin: 1px; float: left; border: 0px solid black;'title=[] src='temp_link\\192.jpg'/></div><div class=\"zoom\"><img style='width: 44px; height: 44px; margin: 1px; float: left; border: 0px solid black;'title=[] src='temp_link\\193.jpg'/></div><div class=\"zoom\"><img style='width: 44px; height: 44px; margin: 1px; float: left; border: 0px solid black;'title=[] src='temp_link\\194.jpg'/></div><div class=\"zoom\"><img style='width: 44px; height: 44px; margin: 1px; float: left; border: 0px solid black;'title=[] src='temp_link\\195.jpg'/></div><div class=\"zoom\"><img style='width: 44px; height: 44px; margin: 1px; float: left; border: 0px solid black;'title=[] src='temp_link\\198.jpg'/></div><div class=\"zoom\"><img style='width: 44px; height: 44px; margin: 1px; float: left; border: 0px solid black;'title=[] src='temp_link\\199.jpg'/></div><div class=\"zoom\"><img style='width: 44px; height: 44px; margin: 1px; float: left; border: 0px solid black;'title=[] src='temp_link\\200.jpg'/></div><div class=\"zoom\"><img style='width: 44px; height: 44px; margin: 1px; float: left; border: 0px solid black;'title=[] src='temp_link\\202.jpg'/></div><div class=\"zoom\"><img style='width: 44px; height: 44px; margin: 1px; float: left; border: 0px solid black;'title=[] src='temp_link\\204.jpg'/></div><div class=\"zoom\"><img style='width: 44px; height: 44px; margin: 1px; float: left; border: 0px solid black;'title=[] src='temp_link\\206.jpg'/></div><div class=\"zoom\"><img style='width: 44px; height: 44px; margin: 1px; float: left; border: 0px solid black;'title=[] src='temp_link\\207.jpg'/></div><div class=\"zoom\"><img style='width: 44px; height: 44px; margin: 1px; float: left; border: 0px solid black;'title=[] src='temp_link\\208.jpg'/></div><div class=\"zoom\"><img style='width: 44px; height: 44px; margin: 1px; float: left; border: 0px solid black;'title=[] src='temp_link\\209.jpg'/></div><div class=\"zoom\"><img style='width: 44px; height: 44px; margin: 1px; float: left; border: 0px solid black;'title=[] src='temp_link\\213.jpg'/></div><div class=\"zoom\"><img style='width: 44px; height: 44px; margin: 1px; float: left; border: 0px solid black;'title=[] src='temp_link\\214.jpg'/></div><div class=\"zoom\"><img style='width: 44px; height: 44px; margin: 1px; float: left; border: 0px solid black;'title=[] src='temp_link\\215.jpg'/></div><div class=\"zoom\"><img style='width: 44px; height: 44px; margin: 1px; float: left; border: 0px solid black;'title=[] src='temp_link\\216.jpg'/></div><div class=\"zoom\"><img style='width: 44px; height: 44px; margin: 1px; float: left; border: 0px solid black;'title=[] src='temp_link\\217.jpg'/></div><div class=\"zoom\"><img style='width: 44px; height: 44px; margin: 1px; float: left; border: 0px solid black;'title=[] src='temp_link\\219.jpg'/></div><div class=\"zoom\"><img style='width: 44px; height: 44px; margin: 1px; float: left; border: 0px solid black;'title=[] src='temp_link\\220.jpg'/></div><div class=\"zoom\"><img style='width: 44px; height: 44px; margin: 1px; float: left; border: 0px solid black;'title=[] src='temp_link\\221.jpg'/></div><div class=\"zoom\"><img style='width: 44px; height: 44px; margin: 1px; float: left; border: 0px solid black;'title=[] src='temp_link\\222.jpg'/></div><div class=\"zoom\"><img style='width: 44px; height: 44px; margin: 1px; float: left; border: 0px solid black;'title=[] src='temp_link\\223.jpg'/></div><div class=\"zoom\"><img style='width: 44px; height: 44px; margin: 1px; float: left; border: 0px solid black;'title=[] src='temp_link\\225.jpg'/></div><div class=\"zoom\"><img style='width: 44px; height: 44px; margin: 1px; float: left; border: 0px solid black;'title=[] src='temp_link\\226.jpg'/></div><div class=\"zoom\"><img style='width: 44px; height: 44px; margin: 1px; float: left; border: 0px solid black;'title=[] src='temp_link\\228.jpg'/></div><div class=\"zoom\"><img style='width: 44px; height: 44px; margin: 1px; float: left; border: 0px solid black;'title=[] src='temp_link\\229.jpg'/></div><div class=\"zoom\"><img style='width: 44px; height: 44px; margin: 1px; float: left; border: 0px solid black;'title=[] src='temp_link\\230.jpg'/></div><div class=\"zoom\"><img style='width: 44px; height: 44px; margin: 1px; float: left; border: 0px solid black;'title=[] src='temp_link\\232.jpg'/></div><div class=\"zoom\"><img style='width: 44px; height: 44px; margin: 1px; float: left; border: 0px solid black;'title=[] src='temp_link\\233.jpg'/></div><div class=\"zoom\"><img style='width: 44px; height: 44px; margin: 1px; float: left; border: 0px solid black;'title=[] src='temp_link\\234.jpg'/></div><div class=\"zoom\"><img style='width: 44px; height: 44px; margin: 1px; float: left; border: 0px solid black;'title=[] src='temp_link\\235.jpg'/></div><div class=\"zoom\"><img style='width: 44px; height: 44px; margin: 1px; float: left; border: 0px solid black;'title=[] src='temp_link\\236.jpg'/></div><div class=\"zoom\"><img style='width: 44px; height: 44px; margin: 1px; float: left; border: 0px solid black;'title=[] src='temp_link\\237.jpg'/></div><div class=\"zoom\"><img style='width: 44px; height: 44px; margin: 1px; float: left; border: 0px solid black;'title=[] src='temp_link\\238.jpg'/></div><div class=\"zoom\"><img style='width: 44px; height: 44px; margin: 1px; float: left; border: 0px solid black;'title=[] src='temp_link\\239.jpg'/></div><div class=\"zoom\"><img style='width: 44px; height: 44px; margin: 1px; float: left; border: 0px solid black;'title=[] src='temp_link\\240.jpg'/></div><div class=\"zoom\"><img style='width: 44px; height: 44px; margin: 1px; float: left; border: 0px solid black;'title=[] src='temp_link\\243.jpg'/></div><div class=\"zoom\"><img style='width: 44px; height: 44px; margin: 1px; float: left; border: 0px solid black;'title=[] src='temp_link\\244.jpg'/></div><div class=\"zoom\"><img style='width: 44px; height: 44px; margin: 1px; float: left; border: 0px solid black;'title=[] src='temp_link\\246.jpg'/></div><div class=\"zoom\"><img style='width: 44px; height: 44px; margin: 1px; float: left; border: 0px solid black;'title=[] src='temp_link\\248.jpg'/></div><div class=\"zoom\"><img style='width: 44px; height: 44px; margin: 1px; float: left; border: 0px solid black;'title=[] src='temp_link\\250.jpg'/></div><div class=\"zoom\"><img style='width: 44px; height: 44px; margin: 1px; float: left; border: 0px solid black;'title=[] src='temp_link\\251.jpg'/></div><div class=\"zoom\"><img style='width: 44px; height: 44px; margin: 1px; float: left; border: 0px solid black;'title=[] src='temp_link\\252.jpg'/></div><div class=\"zoom\"><img style='width: 44px; height: 44px; margin: 1px; float: left; border: 0px solid black;'title=[] src='temp_link\\255.jpg'/></div><div class=\"zoom\"><img style='width: 44px; height: 44px; margin: 1px; float: left; border: 0px solid black;'title=[] src='temp_link\\257.jpg'/></div><div class=\"zoom\"><img style='width: 44px; height: 44px; margin: 1px; float: left; border: 0px solid black;'title=[] src='temp_link\\258.jpg'/></div><div class=\"zoom\"><img style='width: 44px; height: 44px; margin: 1px; float: left; border: 0px solid black;'title=[] src='temp_link\\259.jpg'/></div><div class=\"zoom\"><img style='width: 44px; height: 44px; margin: 1px; float: left; border: 0px solid black;'title=[] src='temp_link\\260.jpg'/></div><div class=\"zoom\"><img style='width: 44px; height: 44px; margin: 1px; float: left; border: 0px solid black;'title=[] src='temp_link\\261.jpg'/></div><div class=\"zoom\"><img style='width: 44px; height: 44px; margin: 1px; float: left; border: 0px solid black;'title=[] src='temp_link\\262.jpg'/></div><div class=\"zoom\"><img style='width: 44px; height: 44px; margin: 1px; float: left; border: 0px solid black;'title=[] src='temp_link\\263.jpg'/></div><div class=\"zoom\"><img style='width: 44px; height: 44px; margin: 1px; float: left; border: 0px solid black;'title=[] src='temp_link\\265.jpg'/></div><div class=\"zoom\"><img style='width: 44px; height: 44px; margin: 1px; float: left; border: 0px solid black;'title=[] src='temp_link\\266.jpg'/></div><div class=\"zoom\"><img style='width: 44px; height: 44px; margin: 1px; float: left; border: 0px solid black;'title=[] src='temp_link\\271.jpg'/></div><div class=\"zoom\"><img style='width: 44px; height: 44px; margin: 1px; float: left; border: 0px solid black;'title=[] src='temp_link\\272.jpg'/></div><div class=\"zoom\"><img style='width: 44px; height: 44px; margin: 1px; float: left; border: 0px solid black;'title=[] src='temp_link\\273.jpg'/></div><div class=\"zoom\"><img style='width: 44px; height: 44px; margin: 1px; float: left; border: 0px solid black;'title=[] src='temp_link\\275.jpg'/></div><div class=\"zoom\"><img style='width: 44px; height: 44px; margin: 1px; float: left; border: 0px solid black;'title=[] src='temp_link\\276.jpg'/></div><div class=\"zoom\"><img style='width: 44px; height: 44px; margin: 1px; float: left; border: 0px solid black;'title=[] src='temp_link\\277.jpg'/></div><div class=\"zoom\"><img style='width: 44px; height: 44px; margin: 1px; float: left; border: 0px solid black;'title=[] src='temp_link\\281.jpg'/></div><div class=\"zoom\"><img style='width: 44px; height: 44px; margin: 1px; float: left; border: 0px solid black;'title=[] src='temp_link\\283.jpg'/></div><div class=\"zoom\"><img style='width: 44px; height: 44px; margin: 1px; float: left; border: 0px solid black;'title=[] src='temp_link\\287.jpg'/></div><div class=\"zoom\"><img style='width: 44px; height: 44px; margin: 1px; float: left; border: 0px solid black;'title=[] src='temp_link\\288.jpg'/></div><div class=\"zoom\"><img style='width: 44px; height: 44px; margin: 1px; float: left; border: 0px solid black;'title=[] src='temp_link\\289.jpg'/></div><div class=\"zoom\"><img style='width: 44px; height: 44px; margin: 1px; float: left; border: 0px solid black;'title=[] src='temp_link\\290.jpg'/></div><div class=\"zoom\"><img style='width: 44px; height: 44px; margin: 1px; float: left; border: 0px solid black;'title=[] src='temp_link\\292.jpg'/></div><div class=\"zoom\"><img style='width: 44px; height: 44px; margin: 1px; float: left; border: 0px solid black;'title=[] src='temp_link\\294.jpg'/></div><div class=\"zoom\"><img style='width: 44px; height: 44px; margin: 1px; float: left; border: 0px solid black;'title=[] src='temp_link\\295.jpg'/></div><div class=\"zoom\"><img style='width: 44px; height: 44px; margin: 1px; float: left; border: 0px solid black;'title=[] src='temp_link\\296.jpg'/></div><div class=\"zoom\"><img style='width: 44px; height: 44px; margin: 1px; float: left; border: 0px solid black;'title=[] src='temp_link\\298.jpg'/></div><div class=\"zoom\"><img style='width: 44px; height: 44px; margin: 1px; float: left; border: 0px solid black;'title=[] src='temp_link\\299.jpg'/></div><div class=\"zoom\"><img style='width: 44px; height: 44px; margin: 1px; float: left; border: 0px solid black;'title=[] src='temp_link\\301.jpg'/></div><div class=\"zoom\"><img style='width: 44px; height: 44px; margin: 1px; float: left; border: 0px solid black;'title=[] src='temp_link\\302.jpg'/></div><div class=\"zoom\"><img style='width: 44px; height: 44px; margin: 1px; float: left; border: 0px solid black;'title=[] src='temp_link\\303.jpg'/></div><div class=\"zoom\"><img style='width: 44px; height: 44px; margin: 1px; float: left; border: 0px solid black;'title=[] src='temp_link\\304.jpg'/></div><div class=\"zoom\"><img style='width: 44px; height: 44px; margin: 1px; float: left; border: 0px solid black;'title=[] src='temp_link\\305.jpg'/></div><div class=\"zoom\"><img style='width: 44px; height: 44px; margin: 1px; float: left; border: 0px solid black;'title=[] src='temp_link\\306.jpg'/></div><div class=\"zoom\"><img style='width: 44px; height: 44px; margin: 1px; float: left; border: 0px solid black;'title=[] src='temp_link\\309.jpg'/></div><div class=\"zoom\"><img style='width: 44px; height: 44px; margin: 1px; float: left; border: 0px solid black;'title=[] src='temp_link\\310.jpg'/></div><div class=\"zoom\"><img style='width: 44px; height: 44px; margin: 1px; float: left; border: 0px solid black;'title=[] src='temp_link\\311.jpg'/></div><div class=\"zoom\"><img style='width: 44px; height: 44px; margin: 1px; float: left; border: 0px solid black;'title=[] src='temp_link\\312.jpg'/></div><div class=\"zoom\"><img style='width: 44px; height: 44px; margin: 1px; float: left; border: 0px solid black;'title=[] src='temp_link\\313.jpg'/></div><div class=\"zoom\"><img style='width: 44px; height: 44px; margin: 1px; float: left; border: 0px solid black;'title=[] src='temp_link\\314.jpg'/></div><div class=\"zoom\"><img style='width: 44px; height: 44px; margin: 1px; float: left; border: 0px solid black;'title=[] src='temp_link\\316.jpg'/></div><div class=\"zoom\"><img style='width: 44px; height: 44px; margin: 1px; float: left; border: 0px solid black;'title=[] src='temp_link\\318.jpg'/></div><div class=\"zoom\"><img style='width: 44px; height: 44px; margin: 1px; float: left; border: 0px solid black;'title=[] src='temp_link\\320.jpg'/></div><div class=\"zoom\"><img style='width: 44px; height: 44px; margin: 1px; float: left; border: 0px solid black;'title=[] src='temp_link\\321.jpg'/></div><div class=\"zoom\"><img style='width: 44px; height: 44px; margin: 1px; float: left; border: 0px solid black;'title=[] src='temp_link\\322.jpg'/></div><div class=\"zoom\"><img style='width: 44px; height: 44px; margin: 1px; float: left; border: 0px solid black;'title=[] src='temp_link\\323.jpg'/></div><div class=\"zoom\"><img style='width: 44px; height: 44px; margin: 1px; float: left; border: 0px solid black;'title=[] src='temp_link\\324.jpg'/></div><div class=\"zoom\"><img style='width: 44px; height: 44px; margin: 1px; float: left; border: 0px solid black;'title=[] src='temp_link\\325.jpg'/></div><div class=\"zoom\"><img style='width: 44px; height: 44px; margin: 1px; float: left; border: 0px solid black;'title=[] src='temp_link\\326.jpg'/></div><div class=\"zoom\"><img style='width: 44px; height: 44px; margin: 1px; float: left; border: 0px solid black;'title=[] src='temp_link\\329.jpg'/></div><div class=\"zoom\"><img style='width: 44px; height: 44px; margin: 1px; float: left; border: 0px solid black;'title=[] src='temp_link\\330.jpg'/></div><div class=\"zoom\"><img style='width: 44px; height: 44px; margin: 1px; float: left; border: 0px solid black;'title=[] src='temp_link\\331.jpg'/></div><div class=\"zoom\"><img style='width: 44px; height: 44px; margin: 1px; float: left; border: 0px solid black;'title=[] src='temp_link\\332.jpg'/></div><div class=\"zoom\"><img style='width: 44px; height: 44px; margin: 1px; float: left; border: 0px solid black;'title=[] src='temp_link\\334.jpg'/></div><div class=\"zoom\"><img style='width: 44px; height: 44px; margin: 1px; float: left; border: 0px solid black;'title=[] src='temp_link\\335.jpg'/></div><div class=\"zoom\"><img style='width: 44px; height: 44px; margin: 1px; float: left; border: 0px solid black;'title=[] src='temp_link\\338.jpg'/></div><div class=\"zoom\"><img style='width: 44px; height: 44px; margin: 1px; float: left; border: 0px solid black;'title=[] src='temp_link\\339.jpg'/></div><div class=\"zoom\"><img style='width: 44px; height: 44px; margin: 1px; float: left; border: 0px solid black;'title=[] src='temp_link\\341.jpg'/></div><div class=\"zoom\"><img style='width: 44px; height: 44px; margin: 1px; float: left; border: 0px solid black;'title=[] src='temp_link\\342.jpg'/></div><div class=\"zoom\"><img style='width: 44px; height: 44px; margin: 1px; float: left; border: 0px solid black;'title=[] src='temp_link\\344.jpg'/></div><div class=\"zoom\"><img style='width: 44px; height: 44px; margin: 1px; float: left; border: 0px solid black;'title=[] src='temp_link\\345.jpg'/></div><div class=\"zoom\"><img style='width: 44px; height: 44px; margin: 1px; float: left; border: 0px solid black;'title=[] src='temp_link\\346.jpg'/></div><div class=\"zoom\"><img style='width: 44px; height: 44px; margin: 1px; float: left; border: 0px solid black;'title=[] src='temp_link\\347.jpg'/></div><div class=\"zoom\"><img style='width: 44px; height: 44px; margin: 1px; float: left; border: 0px solid black;'title=[] src='temp_link\\348.jpg'/></div><div class=\"zoom\"><img style='width: 44px; height: 44px; margin: 1px; float: left; border: 0px solid black;'title=[] src='temp_link\\349.jpg'/></div><div class=\"zoom\"><img style='width: 44px; height: 44px; margin: 1px; float: left; border: 0px solid black;'title=[] src='temp_link\\351.jpg'/></div><div class=\"zoom\"><img style='width: 44px; height: 44px; margin: 1px; float: left; border: 0px solid black;'title=[] src='temp_link\\355.jpg'/></div><div class=\"zoom\"><img style='width: 44px; height: 44px; margin: 1px; float: left; border: 0px solid black;'title=[] src='temp_link\\356.jpg'/></div><div class=\"zoom\"><img style='width: 44px; height: 44px; margin: 1px; float: left; border: 0px solid black;'title=[] src='temp_link\\361.jpg'/></div><div class=\"zoom\"><img style='width: 44px; height: 44px; margin: 1px; float: left; border: 0px solid black;'title=[] src='temp_link\\363.jpg'/></div><div class=\"zoom\"><img style='width: 44px; height: 44px; margin: 1px; float: left; border: 0px solid black;'title=[] src='temp_link\\366.jpg'/></div><div class=\"zoom\"><img style='width: 44px; height: 44px; margin: 1px; float: left; border: 0px solid black;'title=[] src='temp_link\\367.jpg'/></div><div class=\"zoom\"><img style='width: 44px; height: 44px; margin: 1px; float: left; border: 0px solid black;'title=[] src='temp_link\\372.jpg'/></div><div class=\"zoom\"><img style='width: 44px; height: 44px; margin: 1px; float: left; border: 0px solid black;'title=[] src='temp_link\\373.jpg'/></div><div class=\"zoom\"><img style='width: 44px; height: 44px; margin: 1px; float: left; border: 0px solid black;'title=[] src='temp_link\\375.jpg'/></div><div class=\"zoom\"><img style='width: 44px; height: 44px; margin: 1px; float: left; border: 0px solid black;'title=[] src='temp_link\\376.jpg'/></div><div class=\"zoom\"><img style='width: 44px; height: 44px; margin: 1px; float: left; border: 0px solid black;'title=[] src='temp_link\\378.jpg'/></div><div class=\"zoom\"><img style='width: 44px; height: 44px; margin: 1px; float: left; border: 0px solid black;'title=[] src='temp_link\\380.jpg'/></div><div class=\"zoom\"><img style='width: 44px; height: 44px; margin: 1px; float: left; border: 0px solid black;'title=[] src='temp_link\\381.jpg'/></div><div class=\"zoom\"><img style='width: 44px; height: 44px; margin: 1px; float: left; border: 0px solid black;'title=[] src='temp_link\\382.jpg'/></div><div class=\"zoom\"><img style='width: 44px; height: 44px; margin: 1px; float: left; border: 0px solid black;'title=[] src='temp_link\\383.jpg'/></div><div class=\"zoom\"><img style='width: 44px; height: 44px; margin: 1px; float: left; border: 0px solid black;'title=[] src='temp_link\\385.jpg'/></div><div class=\"zoom\"><img style='width: 44px; height: 44px; margin: 1px; float: left; border: 0px solid black;'title=[] src='temp_link\\386.jpg'/></div><div class=\"zoom\"><img style='width: 44px; height: 44px; margin: 1px; float: left; border: 0px solid black;'title=[] src='temp_link\\388.jpg'/></div><div class=\"zoom\"><img style='width: 44px; height: 44px; margin: 1px; float: left; border: 0px solid black;'title=[] src='temp_link\\389.jpg'/></div><div class=\"zoom\"><img style='width: 44px; height: 44px; margin: 1px; float: left; border: 0px solid black;'title=[] src='temp_link\\390.jpg'/></div><div class=\"zoom\"><img style='width: 44px; height: 44px; margin: 1px; float: left; border: 0px solid black;'title=[] src='temp_link\\391.jpg'/></div><div class=\"zoom\"><img style='width: 44px; height: 44px; margin: 1px; float: left; border: 0px solid black;'title=[] src='temp_link\\393.jpg'/></div><div class=\"zoom\"><img style='width: 44px; height: 44px; margin: 1px; float: left; border: 0px solid black;'title=[] src='temp_link\\397.jpg'/></div><div class=\"zoom\"><img style='width: 44px; height: 44px; margin: 1px; float: left; border: 0px solid black;'title=[] src='temp_link\\398.jpg'/></div><div class=\"zoom\"><img style='width: 44px; height: 44px; margin: 1px; float: left; border: 0px solid black;'title=[] src='temp_link\\403.jpg'/></div><div class=\"zoom\"><img style='width: 44px; height: 44px; margin: 1px; float: left; border: 0px solid black;'title=[] src='temp_link\\406.jpg'/></div><div class=\"zoom\"><img style='width: 44px; height: 44px; margin: 1px; float: left; border: 0px solid black;'title=[] src='temp_link\\408.jpg'/></div><div class=\"zoom\"><img style='width: 44px; height: 44px; margin: 1px; float: left; border: 0px solid black;'title=[] src='temp_link\\409.jpg'/></div><div class=\"zoom\"><img style='width: 44px; height: 44px; margin: 1px; float: left; border: 0px solid black;'title=[] src='temp_link\\410.jpg'/></div><div class=\"zoom\"><img style='width: 44px; height: 44px; margin: 1px; float: left; border: 0px solid black;'title=[] src='temp_link\\411.jpg'/></div><div class=\"zoom\"><img style='width: 44px; height: 44px; margin: 1px; float: left; border: 0px solid black;'title=[] src='temp_link\\412.jpg'/></div><div class=\"zoom\"><img style='width: 44px; height: 44px; margin: 1px; float: left; border: 0px solid black;'title=[] src='temp_link\\413.jpg'/></div><div class=\"zoom\"><img style='width: 44px; height: 44px; margin: 1px; float: left; border: 0px solid black;'title=[] src='temp_link\\414.jpg'/></div><div class=\"zoom\"><img style='width: 44px; height: 44px; margin: 1px; float: left; border: 0px solid black;'title=[] src='temp_link\\416.jpg'/></div><div class=\"zoom\"><img style='width: 44px; height: 44px; margin: 1px; float: left; border: 0px solid black;'title=[] src='temp_link\\419.jpg'/></div><div class=\"zoom\"><img style='width: 44px; height: 44px; margin: 1px; float: left; border: 0px solid black;'title=[] src='temp_link\\420.jpg'/></div><div class=\"zoom\"><img style='width: 44px; height: 44px; margin: 1px; float: left; border: 0px solid black;'title=[] src='temp_link\\421.jpg'/></div><div class=\"zoom\"><img style='width: 44px; height: 44px; margin: 1px; float: left; border: 0px solid black;'title=[] src='temp_link\\423.jpg'/></div><div class=\"zoom\"><img style='width: 44px; height: 44px; margin: 1px; float: left; border: 0px solid black;'title=[] src='temp_link\\424.jpg'/></div><div class=\"zoom\"><img style='width: 44px; height: 44px; margin: 1px; float: left; border: 0px solid black;'title=[] src='temp_link\\425.jpg'/></div><div class=\"zoom\"><img style='width: 44px; height: 44px; margin: 1px; float: left; border: 0px solid black;'title=[] src='temp_link\\426.jpg'/></div><div class=\"zoom\"><img style='width: 44px; height: 44px; margin: 1px; float: left; border: 0px solid black;'title=[] src='temp_link\\427.jpg'/></div><div class=\"zoom\"><img style='width: 44px; height: 44px; margin: 1px; float: left; border: 0px solid black;'title=[] src='temp_link\\428.jpg'/></div><div class=\"zoom\"><img style='width: 44px; height: 44px; margin: 1px; float: left; border: 0px solid black;'title=[] src='temp_link\\429.jpg'/></div><div class=\"zoom\"><img style='width: 44px; height: 44px; margin: 1px; float: left; border: 0px solid black;'title=[] src='temp_link\\430.jpg'/></div><div class=\"zoom\"><img style='width: 44px; height: 44px; margin: 1px; float: left; border: 0px solid black;'title=[] src='temp_link\\431.jpg'/></div><div class=\"zoom\"><img style='width: 44px; height: 44px; margin: 1px; float: left; border: 0px solid black;'title=[] src='temp_link\\433.jpg'/></div><div class=\"zoom\"><img style='width: 44px; height: 44px; margin: 1px; float: left; border: 0px solid black;'title=[] src='temp_link\\434.jpg'/></div><div class=\"zoom\"><img style='width: 44px; height: 44px; margin: 1px; float: left; border: 0px solid black;'title=[] src='temp_link\\435.jpg'/></div><div class=\"zoom\"><img style='width: 44px; height: 44px; margin: 1px; float: left; border: 0px solid black;'title=[] src='temp_link\\437.jpg'/></div><div class=\"zoom\"><img style='width: 44px; height: 44px; margin: 1px; float: left; border: 0px solid black;'title=[] src='temp_link\\438.jpg'/></div><div class=\"zoom\"><img style='width: 44px; height: 44px; margin: 1px; float: left; border: 0px solid black;'title=[] src='temp_link\\439.jpg'/></div><div class=\"zoom\"><img style='width: 44px; height: 44px; margin: 1px; float: left; border: 0px solid black;'title=[] src='temp_link\\440.jpg'/></div><div class=\"zoom\"><img style='width: 44px; height: 44px; margin: 1px; float: left; border: 0px solid black;'title=[] src='temp_link\\442.jpg'/></div><div class=\"zoom\"><img style='width: 44px; height: 44px; margin: 1px; float: left; border: 0px solid black;'title=[] src='temp_link\\443.jpg'/></div><div class=\"zoom\"><img style='width: 44px; height: 44px; margin: 1px; float: left; border: 0px solid black;'title=[] src='temp_link\\444.jpg'/></div><div class=\"zoom\"><img style='width: 44px; height: 44px; margin: 1px; float: left; border: 0px solid black;'title=[] src='temp_link\\445.jpg'/></div><div class=\"zoom\"><img style='width: 44px; height: 44px; margin: 1px; float: left; border: 0px solid black;'title=[] src='temp_link\\446.jpg'/></div><div class=\"zoom\"><img style='width: 44px; height: 44px; margin: 1px; float: left; border: 0px solid black;'title=[] src='temp_link\\447.jpg'/></div><div class=\"zoom\"><img style='width: 44px; height: 44px; margin: 1px; float: left; border: 0px solid black;'title=[] src='temp_link\\451.jpg'/></div><div class=\"zoom\"><img style='width: 44px; height: 44px; margin: 1px; float: left; border: 0px solid black;'title=[] src='temp_link\\452.jpg'/></div><div class=\"zoom\"><img style='width: 44px; height: 44px; margin: 1px; float: left; border: 0px solid black;'title=[] src='temp_link\\454.jpg'/></div><div class=\"zoom\"><img style='width: 44px; height: 44px; margin: 1px; float: left; border: 0px solid black;'title=[] src='temp_link\\455.jpg'/></div><div class=\"zoom\"><img style='width: 44px; height: 44px; margin: 1px; float: left; border: 0px solid black;'title=[] src='temp_link\\457.jpg'/></div><div class=\"zoom\"><img style='width: 44px; height: 44px; margin: 1px; float: left; border: 0px solid black;'title=[] src='temp_link\\458.jpg'/></div><div class=\"zoom\"><img style='width: 44px; height: 44px; margin: 1px; float: left; border: 0px solid black;'title=[] src='temp_link\\460.jpg'/></div><div class=\"zoom\"><img style='width: 44px; height: 44px; margin: 1px; float: left; border: 0px solid black;'title=[] src='temp_link\\461.jpg'/></div><div class=\"zoom\"><img style='width: 44px; height: 44px; margin: 1px; float: left; border: 0px solid black;'title=[] src='temp_link\\462.jpg'/></div><div class=\"zoom\"><img style='width: 44px; height: 44px; margin: 1px; float: left; border: 0px solid black;'title=[] src='temp_link\\463.jpg'/></div><div class=\"zoom\"><img style='width: 44px; height: 44px; margin: 1px; float: left; border: 0px solid black;'title=[] src='temp_link\\464.jpg'/></div><div class=\"zoom\"><img style='width: 44px; height: 44px; margin: 1px; float: left; border: 0px solid black;'title=[] src='temp_link\\465.jpg'/></div><div class=\"zoom\"><img style='width: 44px; height: 44px; margin: 1px; float: left; border: 0px solid black;'title=[] src='temp_link\\467.jpg'/></div><div class=\"zoom\"><img style='width: 44px; height: 44px; margin: 1px; float: left; border: 0px solid black;'title=[] src='temp_link\\470.jpg'/></div><div class=\"zoom\"><img style='width: 44px; height: 44px; margin: 1px; float: left; border: 0px solid black;'title=[] src='temp_link\\472.jpg'/></div><div class=\"zoom\"><img style='width: 44px; height: 44px; margin: 1px; float: left; border: 0px solid black;'title=[] src='temp_link\\473.jpg'/></div><div class=\"zoom\"><img style='width: 44px; height: 44px; margin: 1px; float: left; border: 0px solid black;'title=[] src='temp_link\\474.jpg'/></div><div class=\"zoom\"><img style='width: 44px; height: 44px; margin: 1px; float: left; border: 0px solid black;'title=[] src='temp_link\\475.jpg'/></div><div class=\"zoom\"><img style='width: 44px; height: 44px; margin: 1px; float: left; border: 0px solid black;'title=[] src='temp_link\\476.jpg'/></div><div class=\"zoom\"><img style='width: 44px; height: 44px; margin: 1px; float: left; border: 0px solid black;'title=[] src='temp_link\\478.jpg'/></div><div class=\"zoom\"><img style='width: 44px; height: 44px; margin: 1px; float: left; border: 0px solid black;'title=[] src='temp_link\\479.jpg'/></div><div class=\"zoom\"><img style='width: 44px; height: 44px; margin: 1px; float: left; border: 0px solid black;'title=[] src='temp_link\\480.jpg'/></div><div class=\"zoom\"><img style='width: 44px; height: 44px; margin: 1px; float: left; border: 0px solid black;'title=[] src='temp_link\\484.jpg'/></div><div class=\"zoom\"><img style='width: 44px; height: 44px; margin: 1px; float: left; border: 0px solid black;'title=[] src='temp_link\\485.jpg'/></div><div class=\"zoom\"><img style='width: 44px; height: 44px; margin: 1px; float: left; border: 0px solid black;'title=[] src='temp_link\\488.jpg'/></div><div class=\"zoom\"><img style='width: 44px; height: 44px; margin: 1px; float: left; border: 0px solid black;'title=[] src='temp_link\\489.jpg'/></div><div class=\"zoom\"><img style='width: 44px; height: 44px; margin: 1px; float: left; border: 0px solid black;'title=[] src='temp_link\\491.jpg'/></div><div class=\"zoom\"><img style='width: 44px; height: 44px; margin: 1px; float: left; border: 0px solid black;'title=[] src='temp_link\\493.jpg'/></div><div class=\"zoom\"><img style='width: 44px; height: 44px; margin: 1px; float: left; border: 0px solid black;'title=[] src='temp_link\\494.jpg'/></div><div class=\"zoom\"><img style='width: 44px; height: 44px; margin: 1px; float: left; border: 0px solid black;'title=[] src='temp_link\\497.jpg'/></div><div class=\"zoom\"><img style='width: 44px; height: 44px; margin: 1px; float: left; border: 0px solid black;'title=[] src='temp_link\\498.jpg'/></div><div class=\"zoom\"><img style='width: 44px; height: 44px; margin: 1px; float: left; border: 0px solid black;'title=[] src='temp_link\\499.jpg'/></div><div class=\"zoom\"><img style='width: 44px; height: 44px; margin: 1px; float: left; border: 0px solid black;'title=[] src='temp_link\\500.jpg'/></div><div class=\"zoom\"><img style='width: 44px; height: 44px; margin: 1px; float: left; border: 0px solid black;'title=[] src='temp_link\\501.jpg'/></div><div class=\"zoom\"><img style='width: 44px; height: 44px; margin: 1px; float: left; border: 0px solid black;'title=[] src='temp_link\\502.jpg'/></div><div class=\"zoom\"><img style='width: 44px; height: 44px; margin: 1px; float: left; border: 0px solid black;'title=[] src='temp_link\\507.jpg'/></div><div class=\"zoom\"><img style='width: 44px; height: 44px; margin: 1px; float: left; border: 0px solid black;'title=[] src='temp_link\\508.jpg'/></div><div class=\"zoom\"><img style='width: 44px; height: 44px; margin: 1px; float: left; border: 0px solid black;'title=[] src='temp_link\\509.jpg'/></div><div class=\"zoom\"><img style='width: 44px; height: 44px; margin: 1px; float: left; border: 0px solid black;'title=[] src='temp_link\\510.jpg'/></div><div class=\"zoom\"><img style='width: 44px; height: 44px; margin: 1px; float: left; border: 0px solid black;'title=[] src='temp_link\\512.jpg'/></div><div class=\"zoom\"><img style='width: 44px; height: 44px; margin: 1px; float: left; border: 0px solid black;'title=[] src='temp_link\\513.jpg'/></div><div class=\"zoom\"><img style='width: 44px; height: 44px; margin: 1px; float: left; border: 0px solid black;'title=[] src='temp_link\\514.jpg'/></div><div class=\"zoom\"><img style='width: 44px; height: 44px; margin: 1px; float: left; border: 0px solid black;'title=[] src='temp_link\\515.jpg'/></div><div class=\"zoom\"><img style='width: 44px; height: 44px; margin: 1px; float: left; border: 0px solid black;'title=[] src='temp_link\\517.jpg'/></div><div class=\"zoom\"><img style='width: 44px; height: 44px; margin: 1px; float: left; border: 0px solid black;'title=[] src='temp_link\\518.jpg'/></div><div class=\"zoom\"><img style='width: 44px; height: 44px; margin: 1px; float: left; border: 0px solid black;'title=[] src='temp_link\\521.jpg'/></div><div class=\"zoom\"><img style='width: 44px; height: 44px; margin: 1px; float: left; border: 0px solid black;'title=[] src='temp_link\\524.jpg'/></div><div class=\"zoom\"><img style='width: 44px; height: 44px; margin: 1px; float: left; border: 0px solid black;'title=[] src='temp_link\\525.jpg'/></div><div class=\"zoom\"><img style='width: 44px; height: 44px; margin: 1px; float: left; border: 0px solid black;'title=[] src='temp_link\\526.jpg'/></div><div class=\"zoom\"><img style='width: 44px; height: 44px; margin: 1px; float: left; border: 0px solid black;'title=[] src='temp_link\\529.jpg'/></div><div class=\"zoom\"><img style='width: 44px; height: 44px; margin: 1px; float: left; border: 0px solid black;'title=[] src='temp_link\\530.jpg'/></div><div class=\"zoom\"><img style='width: 44px; height: 44px; margin: 1px; float: left; border: 0px solid black;'title=[] src='temp_link\\531.jpg'/></div><div class=\"zoom\"><img style='width: 44px; height: 44px; margin: 1px; float: left; border: 0px solid black;'title=[] src='temp_link\\532.jpg'/></div><div class=\"zoom\"><img style='width: 44px; height: 44px; margin: 1px; float: left; border: 0px solid black;'title=[] src='temp_link\\533.jpg'/></div><div class=\"zoom\"><img style='width: 44px; height: 44px; margin: 1px; float: left; border: 0px solid black;'title=[] src='temp_link\\535.jpg'/></div><div class=\"zoom\"><img style='width: 44px; height: 44px; margin: 1px; float: left; border: 0px solid black;'title=[] src='temp_link\\536.jpg'/></div><div class=\"zoom\"><img style='width: 44px; height: 44px; margin: 1px; float: left; border: 0px solid black;'title=[] src='temp_link\\537.jpg'/></div><div class=\"zoom\"><img style='width: 44px; height: 44px; margin: 1px; float: left; border: 0px solid black;'title=[] src='temp_link\\538.jpg'/></div><div class=\"zoom\"><img style='width: 44px; height: 44px; margin: 1px; float: left; border: 0px solid black;'title=[] src='temp_link\\540.jpg'/></div><div class=\"zoom\"><img style='width: 44px; height: 44px; margin: 1px; float: left; border: 0px solid black;'title=[] src='temp_link\\543.jpg'/></div><div class=\"zoom\"><img style='width: 44px; height: 44px; margin: 1px; float: left; border: 0px solid black;'title=[] src='temp_link\\544.jpg'/></div><div class=\"zoom\"><img style='width: 44px; height: 44px; margin: 1px; float: left; border: 0px solid black;'title=[] src='temp_link\\545.jpg'/></div><div class=\"zoom\"><img style='width: 44px; height: 44px; margin: 1px; float: left; border: 0px solid black;'title=[] src='temp_link\\549.jpg'/></div><div class=\"zoom\"><img style='width: 44px; height: 44px; margin: 1px; float: left; border: 0px solid black;'title=[] src='temp_link\\551.jpg'/></div><div class=\"zoom\"><img style='width: 44px; height: 44px; margin: 1px; float: left; border: 0px solid black;'title=[] src='temp_link\\554.jpg'/></div><div class=\"zoom\"><img style='width: 44px; height: 44px; margin: 1px; float: left; border: 0px solid black;'title=[] src='temp_link\\556.jpg'/></div><div class=\"zoom\"><img style='width: 44px; height: 44px; margin: 1px; float: left; border: 0px solid black;'title=[] src='temp_link\\558.jpg'/></div><div class=\"zoom\"><img style='width: 44px; height: 44px; margin: 1px; float: left; border: 0px solid black;'title=[] src='temp_link\\559.jpg'/></div><div class=\"zoom\"><img style='width: 44px; height: 44px; margin: 1px; float: left; border: 0px solid black;'title=[] src='temp_link\\560.jpg'/></div><div class=\"zoom\"><img style='width: 44px; height: 44px; margin: 1px; float: left; border: 0px solid black;'title=[] src='temp_link\\561.jpg'/></div><div class=\"zoom\"><img style='width: 44px; height: 44px; margin: 1px; float: left; border: 0px solid black;'title=[] src='temp_link\\563.jpg'/></div><div class=\"zoom\"><img style='width: 44px; height: 44px; margin: 1px; float: left; border: 0px solid black;'title=[] src='temp_link\\564.jpg'/></div><div class=\"zoom\"><img style='width: 44px; height: 44px; margin: 1px; float: left; border: 0px solid black;'title=[] src='temp_link\\565.jpg'/></div><div class=\"zoom\"><img style='width: 44px; height: 44px; margin: 1px; float: left; border: 0px solid black;'title=[] src='temp_link\\566.jpg'/></div><div class=\"zoom\"><img style='width: 44px; height: 44px; margin: 1px; float: left; border: 0px solid black;'title=[] src='temp_link\\567.jpg'/></div><div class=\"zoom\"><img style='width: 44px; height: 44px; margin: 1px; float: left; border: 0px solid black;'title=[] src='temp_link\\568.jpg'/></div><div class=\"zoom\"><img style='width: 44px; height: 44px; margin: 1px; float: left; border: 0px solid black;'title=[] src='temp_link\\569.jpg'/></div><div class=\"zoom\"><img style='width: 44px; height: 44px; margin: 1px; float: left; border: 0px solid black;'title=[] src='temp_link\\570.jpg'/></div><div class=\"zoom\"><img style='width: 44px; height: 44px; margin: 1px; float: left; border: 0px solid black;'title=[] src='temp_link\\572.jpg'/></div><div class=\"zoom\"><img style='width: 44px; height: 44px; margin: 1px; float: left; border: 0px solid black;'title=[] src='temp_link\\573.jpg'/></div><div class=\"zoom\"><img style='width: 44px; height: 44px; margin: 1px; float: left; border: 0px solid black;'title=[] src='temp_link\\574.jpg'/></div><div class=\"zoom\"><img style='width: 44px; height: 44px; margin: 1px; float: left; border: 0px solid black;'title=[] src='temp_link\\576.jpg'/></div><div class=\"zoom\"><img style='width: 44px; height: 44px; margin: 1px; float: left; border: 0px solid black;'title=[] src='temp_link\\579.jpg'/></div><div class=\"zoom\"><img style='width: 44px; height: 44px; margin: 1px; float: left; border: 0px solid black;'title=[] src='temp_link\\580.jpg'/></div><div class=\"zoom\"><img style='width: 44px; height: 44px; margin: 1px; float: left; border: 0px solid black;'title=[] src='temp_link\\582.jpg'/></div><div class=\"zoom\"><img style='width: 44px; height: 44px; margin: 1px; float: left; border: 0px solid black;'title=[] src='temp_link\\583.jpg'/></div><div class=\"zoom\"><img style='width: 44px; height: 44px; margin: 1px; float: left; border: 0px solid black;'title=[] src='temp_link\\584.jpg'/></div><div class=\"zoom\"><img style='width: 44px; height: 44px; margin: 1px; float: left; border: 0px solid black;'title=[] src='temp_link\\585.jpg'/></div><div class=\"zoom\"><img style='width: 44px; height: 44px; margin: 1px; float: left; border: 0px solid black;'title=[] src='temp_link\\586.jpg'/></div><div class=\"zoom\"><img style='width: 44px; height: 44px; margin: 1px; float: left; border: 0px solid black;'title=[] src='temp_link\\587.jpg'/></div><div class=\"zoom\"><img style='width: 44px; height: 44px; margin: 1px; float: left; border: 0px solid black;'title=[] src='temp_link\\588.jpg'/></div><div class=\"zoom\"><img style='width: 44px; height: 44px; margin: 1px; float: left; border: 0px solid black;'title=[] src='temp_link\\590.jpg'/></div><div class=\"zoom\"><img style='width: 44px; height: 44px; margin: 1px; float: left; border: 0px solid black;'title=[] src='temp_link\\591.jpg'/></div><div class=\"zoom\"><img style='width: 44px; height: 44px; margin: 1px; float: left; border: 0px solid black;'title=[] src='temp_link\\592.jpg'/></div><div class=\"zoom\"><img style='width: 44px; height: 44px; margin: 1px; float: left; border: 0px solid black;'title=[] src='temp_link\\593.jpg'/></div><div class=\"zoom\"><img style='width: 44px; height: 44px; margin: 1px; float: left; border: 0px solid black;'title=[] src='temp_link\\594.jpg'/></div><div class=\"zoom\"><img style='width: 44px; height: 44px; margin: 1px; float: left; border: 0px solid black;'title=[] src='temp_link\\596.jpg'/></div><div class=\"zoom\"><img style='width: 44px; height: 44px; margin: 1px; float: left; border: 0px solid black;'title=[] src='temp_link\\598.jpg'/></div>"
      ],
      "text/plain": [
       "<IPython.core.display.HTML object>"
      ]
     },
     "metadata": {},
     "output_type": "display_data"
    }
   ],
   "source": [
    "Li = EasyImageList.from_folder(r\"C:\\Users\\Kaitlin\\Documents\\GitHub\\Semantic-Segmentation-of-Aerial-Cityscapes\\data\\semantic_drone_dataset\\training_set\\images\")\n",
    "Li.symlink_images()\n",
    "Li.html(size=44)"
   ]
  },
  {
   "cell_type": "code",
   "execution_count": 26,
   "id": "c6d74419",
   "metadata": {},
   "outputs": [
    {
     "data": {
      "text/html": [
       "<div class=\"zoom\"><img style='width: 44px; height: 44px; margin: 1px; float: left; border: 0px solid black;'title=[] src='temp_link\\000.png'/></div><div class=\"zoom\"><img style='width: 44px; height: 44px; margin: 1px; float: left; border: 0px solid black;'title=[] src='temp_link\\001.png'/></div><div class=\"zoom\"><img style='width: 44px; height: 44px; margin: 1px; float: left; border: 0px solid black;'title=[] src='temp_link\\002.png'/></div><div class=\"zoom\"><img style='width: 44px; height: 44px; margin: 1px; float: left; border: 0px solid black;'title=[] src='temp_link\\003.png'/></div><div class=\"zoom\"><img style='width: 44px; height: 44px; margin: 1px; float: left; border: 0px solid black;'title=[] src='temp_link\\004.png'/></div><div class=\"zoom\"><img style='width: 44px; height: 44px; margin: 1px; float: left; border: 0px solid black;'title=[] src='temp_link\\005.png'/></div><div class=\"zoom\"><img style='width: 44px; height: 44px; margin: 1px; float: left; border: 0px solid black;'title=[] src='temp_link\\006.png'/></div><div class=\"zoom\"><img style='width: 44px; height: 44px; margin: 1px; float: left; border: 0px solid black;'title=[] src='temp_link\\008.png'/></div><div class=\"zoom\"><img style='width: 44px; height: 44px; margin: 1px; float: left; border: 0px solid black;'title=[] src='temp_link\\011.png'/></div><div class=\"zoom\"><img style='width: 44px; height: 44px; margin: 1px; float: left; border: 0px solid black;'title=[] src='temp_link\\013.png'/></div><div class=\"zoom\"><img style='width: 44px; height: 44px; margin: 1px; float: left; border: 0px solid black;'title=[] src='temp_link\\014.png'/></div><div class=\"zoom\"><img style='width: 44px; height: 44px; margin: 1px; float: left; border: 0px solid black;'title=[] src='temp_link\\015.png'/></div><div class=\"zoom\"><img style='width: 44px; height: 44px; margin: 1px; float: left; border: 0px solid black;'title=[] src='temp_link\\016.png'/></div><div class=\"zoom\"><img style='width: 44px; height: 44px; margin: 1px; float: left; border: 0px solid black;'title=[] src='temp_link\\018.png'/></div><div class=\"zoom\"><img style='width: 44px; height: 44px; margin: 1px; float: left; border: 0px solid black;'title=[] src='temp_link\\019.png'/></div><div class=\"zoom\"><img style='width: 44px; height: 44px; margin: 1px; float: left; border: 0px solid black;'title=[] src='temp_link\\021.png'/></div><div class=\"zoom\"><img style='width: 44px; height: 44px; margin: 1px; float: left; border: 0px solid black;'title=[] src='temp_link\\022.png'/></div><div class=\"zoom\"><img style='width: 44px; height: 44px; margin: 1px; float: left; border: 0px solid black;'title=[] src='temp_link\\023.png'/></div><div class=\"zoom\"><img style='width: 44px; height: 44px; margin: 1px; float: left; border: 0px solid black;'title=[] src='temp_link\\026.png'/></div><div class=\"zoom\"><img style='width: 44px; height: 44px; margin: 1px; float: left; border: 0px solid black;'title=[] src='temp_link\\028.png'/></div><div class=\"zoom\"><img style='width: 44px; height: 44px; margin: 1px; float: left; border: 0px solid black;'title=[] src='temp_link\\031.png'/></div><div class=\"zoom\"><img style='width: 44px; height: 44px; margin: 1px; float: left; border: 0px solid black;'title=[] src='temp_link\\035.png'/></div><div class=\"zoom\"><img style='width: 44px; height: 44px; margin: 1px; float: left; border: 0px solid black;'title=[] src='temp_link\\038.png'/></div><div class=\"zoom\"><img style='width: 44px; height: 44px; margin: 1px; float: left; border: 0px solid black;'title=[] src='temp_link\\040.png'/></div><div class=\"zoom\"><img style='width: 44px; height: 44px; margin: 1px; float: left; border: 0px solid black;'title=[] src='temp_link\\041.png'/></div><div class=\"zoom\"><img style='width: 44px; height: 44px; margin: 1px; float: left; border: 0px solid black;'title=[] src='temp_link\\042.png'/></div><div class=\"zoom\"><img style='width: 44px; height: 44px; margin: 1px; float: left; border: 0px solid black;'title=[] src='temp_link\\043.png'/></div><div class=\"zoom\"><img style='width: 44px; height: 44px; margin: 1px; float: left; border: 0px solid black;'title=[] src='temp_link\\044.png'/></div><div class=\"zoom\"><img style='width: 44px; height: 44px; margin: 1px; float: left; border: 0px solid black;'title=[] src='temp_link\\045.png'/></div><div class=\"zoom\"><img style='width: 44px; height: 44px; margin: 1px; float: left; border: 0px solid black;'title=[] src='temp_link\\047.png'/></div><div class=\"zoom\"><img style='width: 44px; height: 44px; margin: 1px; float: left; border: 0px solid black;'title=[] src='temp_link\\049.png'/></div><div class=\"zoom\"><img style='width: 44px; height: 44px; margin: 1px; float: left; border: 0px solid black;'title=[] src='temp_link\\051.png'/></div><div class=\"zoom\"><img style='width: 44px; height: 44px; margin: 1px; float: left; border: 0px solid black;'title=[] src='temp_link\\052.png'/></div><div class=\"zoom\"><img style='width: 44px; height: 44px; margin: 1px; float: left; border: 0px solid black;'title=[] src='temp_link\\053.png'/></div><div class=\"zoom\"><img style='width: 44px; height: 44px; margin: 1px; float: left; border: 0px solid black;'title=[] src='temp_link\\055.png'/></div><div class=\"zoom\"><img style='width: 44px; height: 44px; margin: 1px; float: left; border: 0px solid black;'title=[] src='temp_link\\056.png'/></div><div class=\"zoom\"><img style='width: 44px; height: 44px; margin: 1px; float: left; border: 0px solid black;'title=[] src='temp_link\\057.png'/></div><div class=\"zoom\"><img style='width: 44px; height: 44px; margin: 1px; float: left; border: 0px solid black;'title=[] src='temp_link\\058.png'/></div><div class=\"zoom\"><img style='width: 44px; height: 44px; margin: 1px; float: left; border: 0px solid black;'title=[] src='temp_link\\059.png'/></div><div class=\"zoom\"><img style='width: 44px; height: 44px; margin: 1px; float: left; border: 0px solid black;'title=[] src='temp_link\\060.png'/></div><div class=\"zoom\"><img style='width: 44px; height: 44px; margin: 1px; float: left; border: 0px solid black;'title=[] src='temp_link\\062.png'/></div><div class=\"zoom\"><img style='width: 44px; height: 44px; margin: 1px; float: left; border: 0px solid black;'title=[] src='temp_link\\063.png'/></div><div class=\"zoom\"><img style='width: 44px; height: 44px; margin: 1px; float: left; border: 0px solid black;'title=[] src='temp_link\\065.png'/></div><div class=\"zoom\"><img style='width: 44px; height: 44px; margin: 1px; float: left; border: 0px solid black;'title=[] src='temp_link\\068.png'/></div><div class=\"zoom\"><img style='width: 44px; height: 44px; margin: 1px; float: left; border: 0px solid black;'title=[] src='temp_link\\070.png'/></div><div class=\"zoom\"><img style='width: 44px; height: 44px; margin: 1px; float: left; border: 0px solid black;'title=[] src='temp_link\\071.png'/></div><div class=\"zoom\"><img style='width: 44px; height: 44px; margin: 1px; float: left; border: 0px solid black;'title=[] src='temp_link\\073.png'/></div><div class=\"zoom\"><img style='width: 44px; height: 44px; margin: 1px; float: left; border: 0px solid black;'title=[] src='temp_link\\074.png'/></div><div class=\"zoom\"><img style='width: 44px; height: 44px; margin: 1px; float: left; border: 0px solid black;'title=[] src='temp_link\\075.png'/></div><div class=\"zoom\"><img style='width: 44px; height: 44px; margin: 1px; float: left; border: 0px solid black;'title=[] src='temp_link\\077.png'/></div><div class=\"zoom\"><img style='width: 44px; height: 44px; margin: 1px; float: left; border: 0px solid black;'title=[] src='temp_link\\078.png'/></div><div class=\"zoom\"><img style='width: 44px; height: 44px; margin: 1px; float: left; border: 0px solid black;'title=[] src='temp_link\\079.png'/></div><div class=\"zoom\"><img style='width: 44px; height: 44px; margin: 1px; float: left; border: 0px solid black;'title=[] src='temp_link\\080.png'/></div><div class=\"zoom\"><img style='width: 44px; height: 44px; margin: 1px; float: left; border: 0px solid black;'title=[] src='temp_link\\081.png'/></div><div class=\"zoom\"><img style='width: 44px; height: 44px; margin: 1px; float: left; border: 0px solid black;'title=[] src='temp_link\\083.png'/></div><div class=\"zoom\"><img style='width: 44px; height: 44px; margin: 1px; float: left; border: 0px solid black;'title=[] src='temp_link\\086.png'/></div><div class=\"zoom\"><img style='width: 44px; height: 44px; margin: 1px; float: left; border: 0px solid black;'title=[] src='temp_link\\088.png'/></div><div class=\"zoom\"><img style='width: 44px; height: 44px; margin: 1px; float: left; border: 0px solid black;'title=[] src='temp_link\\089.png'/></div><div class=\"zoom\"><img style='width: 44px; height: 44px; margin: 1px; float: left; border: 0px solid black;'title=[] src='temp_link\\092.png'/></div><div class=\"zoom\"><img style='width: 44px; height: 44px; margin: 1px; float: left; border: 0px solid black;'title=[] src='temp_link\\095.png'/></div><div class=\"zoom\"><img style='width: 44px; height: 44px; margin: 1px; float: left; border: 0px solid black;'title=[] src='temp_link\\098.png'/></div><div class=\"zoom\"><img style='width: 44px; height: 44px; margin: 1px; float: left; border: 0px solid black;'title=[] src='temp_link\\099.png'/></div><div class=\"zoom\"><img style='width: 44px; height: 44px; margin: 1px; float: left; border: 0px solid black;'title=[] src='temp_link\\100.png'/></div><div class=\"zoom\"><img style='width: 44px; height: 44px; margin: 1px; float: left; border: 0px solid black;'title=[] src='temp_link\\101.png'/></div><div class=\"zoom\"><img style='width: 44px; height: 44px; margin: 1px; float: left; border: 0px solid black;'title=[] src='temp_link\\102.png'/></div><div class=\"zoom\"><img style='width: 44px; height: 44px; margin: 1px; float: left; border: 0px solid black;'title=[] src='temp_link\\103.png'/></div><div class=\"zoom\"><img style='width: 44px; height: 44px; margin: 1px; float: left; border: 0px solid black;'title=[] src='temp_link\\104.png'/></div><div class=\"zoom\"><img style='width: 44px; height: 44px; margin: 1px; float: left; border: 0px solid black;'title=[] src='temp_link\\106.png'/></div><div class=\"zoom\"><img style='width: 44px; height: 44px; margin: 1px; float: left; border: 0px solid black;'title=[] src='temp_link\\107.png'/></div><div class=\"zoom\"><img style='width: 44px; height: 44px; margin: 1px; float: left; border: 0px solid black;'title=[] src='temp_link\\109.png'/></div><div class=\"zoom\"><img style='width: 44px; height: 44px; margin: 1px; float: left; border: 0px solid black;'title=[] src='temp_link\\110.png'/></div><div class=\"zoom\"><img style='width: 44px; height: 44px; margin: 1px; float: left; border: 0px solid black;'title=[] src='temp_link\\111.png'/></div><div class=\"zoom\"><img style='width: 44px; height: 44px; margin: 1px; float: left; border: 0px solid black;'title=[] src='temp_link\\112.png'/></div><div class=\"zoom\"><img style='width: 44px; height: 44px; margin: 1px; float: left; border: 0px solid black;'title=[] src='temp_link\\113.png'/></div><div class=\"zoom\"><img style='width: 44px; height: 44px; margin: 1px; float: left; border: 0px solid black;'title=[] src='temp_link\\116.png'/></div><div class=\"zoom\"><img style='width: 44px; height: 44px; margin: 1px; float: left; border: 0px solid black;'title=[] src='temp_link\\117.png'/></div><div class=\"zoom\"><img style='width: 44px; height: 44px; margin: 1px; float: left; border: 0px solid black;'title=[] src='temp_link\\118.png'/></div><div class=\"zoom\"><img style='width: 44px; height: 44px; margin: 1px; float: left; border: 0px solid black;'title=[] src='temp_link\\119.png'/></div><div class=\"zoom\"><img style='width: 44px; height: 44px; margin: 1px; float: left; border: 0px solid black;'title=[] src='temp_link\\120.png'/></div><div class=\"zoom\"><img style='width: 44px; height: 44px; margin: 1px; float: left; border: 0px solid black;'title=[] src='temp_link\\121.png'/></div><div class=\"zoom\"><img style='width: 44px; height: 44px; margin: 1px; float: left; border: 0px solid black;'title=[] src='temp_link\\122.png'/></div><div class=\"zoom\"><img style='width: 44px; height: 44px; margin: 1px; float: left; border: 0px solid black;'title=[] src='temp_link\\123.png'/></div><div class=\"zoom\"><img style='width: 44px; height: 44px; margin: 1px; float: left; border: 0px solid black;'title=[] src='temp_link\\124.png'/></div><div class=\"zoom\"><img style='width: 44px; height: 44px; margin: 1px; float: left; border: 0px solid black;'title=[] src='temp_link\\126.png'/></div><div class=\"zoom\"><img style='width: 44px; height: 44px; margin: 1px; float: left; border: 0px solid black;'title=[] src='temp_link\\128.png'/></div><div class=\"zoom\"><img style='width: 44px; height: 44px; margin: 1px; float: left; border: 0px solid black;'title=[] src='temp_link\\130.png'/></div><div class=\"zoom\"><img style='width: 44px; height: 44px; margin: 1px; float: left; border: 0px solid black;'title=[] src='temp_link\\133.png'/></div><div class=\"zoom\"><img style='width: 44px; height: 44px; margin: 1px; float: left; border: 0px solid black;'title=[] src='temp_link\\134.png'/></div><div class=\"zoom\"><img style='width: 44px; height: 44px; margin: 1px; float: left; border: 0px solid black;'title=[] src='temp_link\\135.png'/></div><div class=\"zoom\"><img style='width: 44px; height: 44px; margin: 1px; float: left; border: 0px solid black;'title=[] src='temp_link\\136.png'/></div><div class=\"zoom\"><img style='width: 44px; height: 44px; margin: 1px; float: left; border: 0px solid black;'title=[] src='temp_link\\137.png'/></div><div class=\"zoom\"><img style='width: 44px; height: 44px; margin: 1px; float: left; border: 0px solid black;'title=[] src='temp_link\\138.png'/></div><div class=\"zoom\"><img style='width: 44px; height: 44px; margin: 1px; float: left; border: 0px solid black;'title=[] src='temp_link\\139.png'/></div><div class=\"zoom\"><img style='width: 44px; height: 44px; margin: 1px; float: left; border: 0px solid black;'title=[] src='temp_link\\140.png'/></div><div class=\"zoom\"><img style='width: 44px; height: 44px; margin: 1px; float: left; border: 0px solid black;'title=[] src='temp_link\\141.png'/></div><div class=\"zoom\"><img style='width: 44px; height: 44px; margin: 1px; float: left; border: 0px solid black;'title=[] src='temp_link\\145.png'/></div><div class=\"zoom\"><img style='width: 44px; height: 44px; margin: 1px; float: left; border: 0px solid black;'title=[] src='temp_link\\146.png'/></div><div class=\"zoom\"><img style='width: 44px; height: 44px; margin: 1px; float: left; border: 0px solid black;'title=[] src='temp_link\\147.png'/></div><div class=\"zoom\"><img style='width: 44px; height: 44px; margin: 1px; float: left; border: 0px solid black;'title=[] src='temp_link\\148.png'/></div><div class=\"zoom\"><img style='width: 44px; height: 44px; margin: 1px; float: left; border: 0px solid black;'title=[] src='temp_link\\149.png'/></div><div class=\"zoom\"><img style='width: 44px; height: 44px; margin: 1px; float: left; border: 0px solid black;'title=[] src='temp_link\\150.png'/></div><div class=\"zoom\"><img style='width: 44px; height: 44px; margin: 1px; float: left; border: 0px solid black;'title=[] src='temp_link\\153.png'/></div><div class=\"zoom\"><img style='width: 44px; height: 44px; margin: 1px; float: left; border: 0px solid black;'title=[] src='temp_link\\154.png'/></div><div class=\"zoom\"><img style='width: 44px; height: 44px; margin: 1px; float: left; border: 0px solid black;'title=[] src='temp_link\\155.png'/></div><div class=\"zoom\"><img style='width: 44px; height: 44px; margin: 1px; float: left; border: 0px solid black;'title=[] src='temp_link\\156.png'/></div><div class=\"zoom\"><img style='width: 44px; height: 44px; margin: 1px; float: left; border: 0px solid black;'title=[] src='temp_link\\157.png'/></div><div class=\"zoom\"><img style='width: 44px; height: 44px; margin: 1px; float: left; border: 0px solid black;'title=[] src='temp_link\\158.png'/></div><div class=\"zoom\"><img style='width: 44px; height: 44px; margin: 1px; float: left; border: 0px solid black;'title=[] src='temp_link\\159.png'/></div><div class=\"zoom\"><img style='width: 44px; height: 44px; margin: 1px; float: left; border: 0px solid black;'title=[] src='temp_link\\160.png'/></div><div class=\"zoom\"><img style='width: 44px; height: 44px; margin: 1px; float: left; border: 0px solid black;'title=[] src='temp_link\\161.png'/></div><div class=\"zoom\"><img style='width: 44px; height: 44px; margin: 1px; float: left; border: 0px solid black;'title=[] src='temp_link\\162.png'/></div><div class=\"zoom\"><img style='width: 44px; height: 44px; margin: 1px; float: left; border: 0px solid black;'title=[] src='temp_link\\163.png'/></div><div class=\"zoom\"><img style='width: 44px; height: 44px; margin: 1px; float: left; border: 0px solid black;'title=[] src='temp_link\\164.png'/></div><div class=\"zoom\"><img style='width: 44px; height: 44px; margin: 1px; float: left; border: 0px solid black;'title=[] src='temp_link\\165.png'/></div><div class=\"zoom\"><img style='width: 44px; height: 44px; margin: 1px; float: left; border: 0px solid black;'title=[] src='temp_link\\166.png'/></div><div class=\"zoom\"><img style='width: 44px; height: 44px; margin: 1px; float: left; border: 0px solid black;'title=[] src='temp_link\\167.png'/></div><div class=\"zoom\"><img style='width: 44px; height: 44px; margin: 1px; float: left; border: 0px solid black;'title=[] src='temp_link\\170.png'/></div><div class=\"zoom\"><img style='width: 44px; height: 44px; margin: 1px; float: left; border: 0px solid black;'title=[] src='temp_link\\171.png'/></div><div class=\"zoom\"><img style='width: 44px; height: 44px; margin: 1px; float: left; border: 0px solid black;'title=[] src='temp_link\\172.png'/></div><div class=\"zoom\"><img style='width: 44px; height: 44px; margin: 1px; float: left; border: 0px solid black;'title=[] src='temp_link\\173.png'/></div><div class=\"zoom\"><img style='width: 44px; height: 44px; margin: 1px; float: left; border: 0px solid black;'title=[] src='temp_link\\174.png'/></div><div class=\"zoom\"><img style='width: 44px; height: 44px; margin: 1px; float: left; border: 0px solid black;'title=[] src='temp_link\\175.png'/></div><div class=\"zoom\"><img style='width: 44px; height: 44px; margin: 1px; float: left; border: 0px solid black;'title=[] src='temp_link\\176.png'/></div><div class=\"zoom\"><img style='width: 44px; height: 44px; margin: 1px; float: left; border: 0px solid black;'title=[] src='temp_link\\177.png'/></div><div class=\"zoom\"><img style='width: 44px; height: 44px; margin: 1px; float: left; border: 0px solid black;'title=[] src='temp_link\\178.png'/></div><div class=\"zoom\"><img style='width: 44px; height: 44px; margin: 1px; float: left; border: 0px solid black;'title=[] src='temp_link\\179.png'/></div><div class=\"zoom\"><img style='width: 44px; height: 44px; margin: 1px; float: left; border: 0px solid black;'title=[] src='temp_link\\180.png'/></div><div class=\"zoom\"><img style='width: 44px; height: 44px; margin: 1px; float: left; border: 0px solid black;'title=[] src='temp_link\\181.png'/></div><div class=\"zoom\"><img style='width: 44px; height: 44px; margin: 1px; float: left; border: 0px solid black;'title=[] src='temp_link\\182.png'/></div><div class=\"zoom\"><img style='width: 44px; height: 44px; margin: 1px; float: left; border: 0px solid black;'title=[] src='temp_link\\185.png'/></div><div class=\"zoom\"><img style='width: 44px; height: 44px; margin: 1px; float: left; border: 0px solid black;'title=[] src='temp_link\\186.png'/></div><div class=\"zoom\"><img style='width: 44px; height: 44px; margin: 1px; float: left; border: 0px solid black;'title=[] src='temp_link\\188.png'/></div><div class=\"zoom\"><img style='width: 44px; height: 44px; margin: 1px; float: left; border: 0px solid black;'title=[] src='temp_link\\190.png'/></div><div class=\"zoom\"><img style='width: 44px; height: 44px; margin: 1px; float: left; border: 0px solid black;'title=[] src='temp_link\\192.png'/></div><div class=\"zoom\"><img style='width: 44px; height: 44px; margin: 1px; float: left; border: 0px solid black;'title=[] src='temp_link\\193.png'/></div><div class=\"zoom\"><img style='width: 44px; height: 44px; margin: 1px; float: left; border: 0px solid black;'title=[] src='temp_link\\194.png'/></div><div class=\"zoom\"><img style='width: 44px; height: 44px; margin: 1px; float: left; border: 0px solid black;'title=[] src='temp_link\\195.png'/></div><div class=\"zoom\"><img style='width: 44px; height: 44px; margin: 1px; float: left; border: 0px solid black;'title=[] src='temp_link\\198.png'/></div><div class=\"zoom\"><img style='width: 44px; height: 44px; margin: 1px; float: left; border: 0px solid black;'title=[] src='temp_link\\199.png'/></div><div class=\"zoom\"><img style='width: 44px; height: 44px; margin: 1px; float: left; border: 0px solid black;'title=[] src='temp_link\\200.png'/></div><div class=\"zoom\"><img style='width: 44px; height: 44px; margin: 1px; float: left; border: 0px solid black;'title=[] src='temp_link\\202.png'/></div><div class=\"zoom\"><img style='width: 44px; height: 44px; margin: 1px; float: left; border: 0px solid black;'title=[] src='temp_link\\204.png'/></div><div class=\"zoom\"><img style='width: 44px; height: 44px; margin: 1px; float: left; border: 0px solid black;'title=[] src='temp_link\\206.png'/></div><div class=\"zoom\"><img style='width: 44px; height: 44px; margin: 1px; float: left; border: 0px solid black;'title=[] src='temp_link\\207.png'/></div><div class=\"zoom\"><img style='width: 44px; height: 44px; margin: 1px; float: left; border: 0px solid black;'title=[] src='temp_link\\208.png'/></div><div class=\"zoom\"><img style='width: 44px; height: 44px; margin: 1px; float: left; border: 0px solid black;'title=[] src='temp_link\\209.png'/></div><div class=\"zoom\"><img style='width: 44px; height: 44px; margin: 1px; float: left; border: 0px solid black;'title=[] src='temp_link\\213.png'/></div><div class=\"zoom\"><img style='width: 44px; height: 44px; margin: 1px; float: left; border: 0px solid black;'title=[] src='temp_link\\214.png'/></div><div class=\"zoom\"><img style='width: 44px; height: 44px; margin: 1px; float: left; border: 0px solid black;'title=[] src='temp_link\\215.png'/></div><div class=\"zoom\"><img style='width: 44px; height: 44px; margin: 1px; float: left; border: 0px solid black;'title=[] src='temp_link\\216.png'/></div><div class=\"zoom\"><img style='width: 44px; height: 44px; margin: 1px; float: left; border: 0px solid black;'title=[] src='temp_link\\217.png'/></div><div class=\"zoom\"><img style='width: 44px; height: 44px; margin: 1px; float: left; border: 0px solid black;'title=[] src='temp_link\\219.png'/></div><div class=\"zoom\"><img style='width: 44px; height: 44px; margin: 1px; float: left; border: 0px solid black;'title=[] src='temp_link\\220.png'/></div><div class=\"zoom\"><img style='width: 44px; height: 44px; margin: 1px; float: left; border: 0px solid black;'title=[] src='temp_link\\221.png'/></div><div class=\"zoom\"><img style='width: 44px; height: 44px; margin: 1px; float: left; border: 0px solid black;'title=[] src='temp_link\\222.png'/></div><div class=\"zoom\"><img style='width: 44px; height: 44px; margin: 1px; float: left; border: 0px solid black;'title=[] src='temp_link\\223.png'/></div><div class=\"zoom\"><img style='width: 44px; height: 44px; margin: 1px; float: left; border: 0px solid black;'title=[] src='temp_link\\225.png'/></div><div class=\"zoom\"><img style='width: 44px; height: 44px; margin: 1px; float: left; border: 0px solid black;'title=[] src='temp_link\\226.png'/></div><div class=\"zoom\"><img style='width: 44px; height: 44px; margin: 1px; float: left; border: 0px solid black;'title=[] src='temp_link\\228.png'/></div><div class=\"zoom\"><img style='width: 44px; height: 44px; margin: 1px; float: left; border: 0px solid black;'title=[] src='temp_link\\229.png'/></div><div class=\"zoom\"><img style='width: 44px; height: 44px; margin: 1px; float: left; border: 0px solid black;'title=[] src='temp_link\\230.png'/></div><div class=\"zoom\"><img style='width: 44px; height: 44px; margin: 1px; float: left; border: 0px solid black;'title=[] src='temp_link\\232.png'/></div><div class=\"zoom\"><img style='width: 44px; height: 44px; margin: 1px; float: left; border: 0px solid black;'title=[] src='temp_link\\233.png'/></div><div class=\"zoom\"><img style='width: 44px; height: 44px; margin: 1px; float: left; border: 0px solid black;'title=[] src='temp_link\\234.png'/></div><div class=\"zoom\"><img style='width: 44px; height: 44px; margin: 1px; float: left; border: 0px solid black;'title=[] src='temp_link\\235.png'/></div><div class=\"zoom\"><img style='width: 44px; height: 44px; margin: 1px; float: left; border: 0px solid black;'title=[] src='temp_link\\236.png'/></div><div class=\"zoom\"><img style='width: 44px; height: 44px; margin: 1px; float: left; border: 0px solid black;'title=[] src='temp_link\\237.png'/></div><div class=\"zoom\"><img style='width: 44px; height: 44px; margin: 1px; float: left; border: 0px solid black;'title=[] src='temp_link\\238.png'/></div><div class=\"zoom\"><img style='width: 44px; height: 44px; margin: 1px; float: left; border: 0px solid black;'title=[] src='temp_link\\239.png'/></div><div class=\"zoom\"><img style='width: 44px; height: 44px; margin: 1px; float: left; border: 0px solid black;'title=[] src='temp_link\\240.png'/></div><div class=\"zoom\"><img style='width: 44px; height: 44px; margin: 1px; float: left; border: 0px solid black;'title=[] src='temp_link\\243.png'/></div><div class=\"zoom\"><img style='width: 44px; height: 44px; margin: 1px; float: left; border: 0px solid black;'title=[] src='temp_link\\244.png'/></div><div class=\"zoom\"><img style='width: 44px; height: 44px; margin: 1px; float: left; border: 0px solid black;'title=[] src='temp_link\\246.png'/></div><div class=\"zoom\"><img style='width: 44px; height: 44px; margin: 1px; float: left; border: 0px solid black;'title=[] src='temp_link\\248.png'/></div><div class=\"zoom\"><img style='width: 44px; height: 44px; margin: 1px; float: left; border: 0px solid black;'title=[] src='temp_link\\250.png'/></div><div class=\"zoom\"><img style='width: 44px; height: 44px; margin: 1px; float: left; border: 0px solid black;'title=[] src='temp_link\\251.png'/></div><div class=\"zoom\"><img style='width: 44px; height: 44px; margin: 1px; float: left; border: 0px solid black;'title=[] src='temp_link\\252.png'/></div><div class=\"zoom\"><img style='width: 44px; height: 44px; margin: 1px; float: left; border: 0px solid black;'title=[] src='temp_link\\255.png'/></div><div class=\"zoom\"><img style='width: 44px; height: 44px; margin: 1px; float: left; border: 0px solid black;'title=[] src='temp_link\\257.png'/></div><div class=\"zoom\"><img style='width: 44px; height: 44px; margin: 1px; float: left; border: 0px solid black;'title=[] src='temp_link\\258.png'/></div><div class=\"zoom\"><img style='width: 44px; height: 44px; margin: 1px; float: left; border: 0px solid black;'title=[] src='temp_link\\259.png'/></div><div class=\"zoom\"><img style='width: 44px; height: 44px; margin: 1px; float: left; border: 0px solid black;'title=[] src='temp_link\\260.png'/></div><div class=\"zoom\"><img style='width: 44px; height: 44px; margin: 1px; float: left; border: 0px solid black;'title=[] src='temp_link\\261.png'/></div><div class=\"zoom\"><img style='width: 44px; height: 44px; margin: 1px; float: left; border: 0px solid black;'title=[] src='temp_link\\262.png'/></div><div class=\"zoom\"><img style='width: 44px; height: 44px; margin: 1px; float: left; border: 0px solid black;'title=[] src='temp_link\\263.png'/></div><div class=\"zoom\"><img style='width: 44px; height: 44px; margin: 1px; float: left; border: 0px solid black;'title=[] src='temp_link\\265.png'/></div><div class=\"zoom\"><img style='width: 44px; height: 44px; margin: 1px; float: left; border: 0px solid black;'title=[] src='temp_link\\266.png'/></div><div class=\"zoom\"><img style='width: 44px; height: 44px; margin: 1px; float: left; border: 0px solid black;'title=[] src='temp_link\\271.png'/></div><div class=\"zoom\"><img style='width: 44px; height: 44px; margin: 1px; float: left; border: 0px solid black;'title=[] src='temp_link\\272.png'/></div><div class=\"zoom\"><img style='width: 44px; height: 44px; margin: 1px; float: left; border: 0px solid black;'title=[] src='temp_link\\273.png'/></div><div class=\"zoom\"><img style='width: 44px; height: 44px; margin: 1px; float: left; border: 0px solid black;'title=[] src='temp_link\\275.png'/></div><div class=\"zoom\"><img style='width: 44px; height: 44px; margin: 1px; float: left; border: 0px solid black;'title=[] src='temp_link\\276.png'/></div><div class=\"zoom\"><img style='width: 44px; height: 44px; margin: 1px; float: left; border: 0px solid black;'title=[] src='temp_link\\277.png'/></div><div class=\"zoom\"><img style='width: 44px; height: 44px; margin: 1px; float: left; border: 0px solid black;'title=[] src='temp_link\\281.png'/></div><div class=\"zoom\"><img style='width: 44px; height: 44px; margin: 1px; float: left; border: 0px solid black;'title=[] src='temp_link\\283.png'/></div><div class=\"zoom\"><img style='width: 44px; height: 44px; margin: 1px; float: left; border: 0px solid black;'title=[] src='temp_link\\287.png'/></div><div class=\"zoom\"><img style='width: 44px; height: 44px; margin: 1px; float: left; border: 0px solid black;'title=[] src='temp_link\\288.png'/></div><div class=\"zoom\"><img style='width: 44px; height: 44px; margin: 1px; float: left; border: 0px solid black;'title=[] src='temp_link\\289.png'/></div><div class=\"zoom\"><img style='width: 44px; height: 44px; margin: 1px; float: left; border: 0px solid black;'title=[] src='temp_link\\290.png'/></div><div class=\"zoom\"><img style='width: 44px; height: 44px; margin: 1px; float: left; border: 0px solid black;'title=[] src='temp_link\\292.png'/></div><div class=\"zoom\"><img style='width: 44px; height: 44px; margin: 1px; float: left; border: 0px solid black;'title=[] src='temp_link\\294.png'/></div><div class=\"zoom\"><img style='width: 44px; height: 44px; margin: 1px; float: left; border: 0px solid black;'title=[] src='temp_link\\295.png'/></div><div class=\"zoom\"><img style='width: 44px; height: 44px; margin: 1px; float: left; border: 0px solid black;'title=[] src='temp_link\\296.png'/></div><div class=\"zoom\"><img style='width: 44px; height: 44px; margin: 1px; float: left; border: 0px solid black;'title=[] src='temp_link\\298.png'/></div><div class=\"zoom\"><img style='width: 44px; height: 44px; margin: 1px; float: left; border: 0px solid black;'title=[] src='temp_link\\299.png'/></div><div class=\"zoom\"><img style='width: 44px; height: 44px; margin: 1px; float: left; border: 0px solid black;'title=[] src='temp_link\\301.png'/></div><div class=\"zoom\"><img style='width: 44px; height: 44px; margin: 1px; float: left; border: 0px solid black;'title=[] src='temp_link\\302.png'/></div><div class=\"zoom\"><img style='width: 44px; height: 44px; margin: 1px; float: left; border: 0px solid black;'title=[] src='temp_link\\303.png'/></div><div class=\"zoom\"><img style='width: 44px; height: 44px; margin: 1px; float: left; border: 0px solid black;'title=[] src='temp_link\\304.png'/></div><div class=\"zoom\"><img style='width: 44px; height: 44px; margin: 1px; float: left; border: 0px solid black;'title=[] src='temp_link\\305.png'/></div><div class=\"zoom\"><img style='width: 44px; height: 44px; margin: 1px; float: left; border: 0px solid black;'title=[] src='temp_link\\306.png'/></div><div class=\"zoom\"><img style='width: 44px; height: 44px; margin: 1px; float: left; border: 0px solid black;'title=[] src='temp_link\\309.png'/></div><div class=\"zoom\"><img style='width: 44px; height: 44px; margin: 1px; float: left; border: 0px solid black;'title=[] src='temp_link\\310.png'/></div><div class=\"zoom\"><img style='width: 44px; height: 44px; margin: 1px; float: left; border: 0px solid black;'title=[] src='temp_link\\311.png'/></div><div class=\"zoom\"><img style='width: 44px; height: 44px; margin: 1px; float: left; border: 0px solid black;'title=[] src='temp_link\\312.png'/></div><div class=\"zoom\"><img style='width: 44px; height: 44px; margin: 1px; float: left; border: 0px solid black;'title=[] src='temp_link\\313.png'/></div><div class=\"zoom\"><img style='width: 44px; height: 44px; margin: 1px; float: left; border: 0px solid black;'title=[] src='temp_link\\314.png'/></div><div class=\"zoom\"><img style='width: 44px; height: 44px; margin: 1px; float: left; border: 0px solid black;'title=[] src='temp_link\\316.png'/></div><div class=\"zoom\"><img style='width: 44px; height: 44px; margin: 1px; float: left; border: 0px solid black;'title=[] src='temp_link\\318.png'/></div><div class=\"zoom\"><img style='width: 44px; height: 44px; margin: 1px; float: left; border: 0px solid black;'title=[] src='temp_link\\320.png'/></div><div class=\"zoom\"><img style='width: 44px; height: 44px; margin: 1px; float: left; border: 0px solid black;'title=[] src='temp_link\\321.png'/></div><div class=\"zoom\"><img style='width: 44px; height: 44px; margin: 1px; float: left; border: 0px solid black;'title=[] src='temp_link\\322.png'/></div><div class=\"zoom\"><img style='width: 44px; height: 44px; margin: 1px; float: left; border: 0px solid black;'title=[] src='temp_link\\323.png'/></div><div class=\"zoom\"><img style='width: 44px; height: 44px; margin: 1px; float: left; border: 0px solid black;'title=[] src='temp_link\\324.png'/></div><div class=\"zoom\"><img style='width: 44px; height: 44px; margin: 1px; float: left; border: 0px solid black;'title=[] src='temp_link\\325.png'/></div><div class=\"zoom\"><img style='width: 44px; height: 44px; margin: 1px; float: left; border: 0px solid black;'title=[] src='temp_link\\326.png'/></div><div class=\"zoom\"><img style='width: 44px; height: 44px; margin: 1px; float: left; border: 0px solid black;'title=[] src='temp_link\\329.png'/></div><div class=\"zoom\"><img style='width: 44px; height: 44px; margin: 1px; float: left; border: 0px solid black;'title=[] src='temp_link\\330.png'/></div><div class=\"zoom\"><img style='width: 44px; height: 44px; margin: 1px; float: left; border: 0px solid black;'title=[] src='temp_link\\331.png'/></div><div class=\"zoom\"><img style='width: 44px; height: 44px; margin: 1px; float: left; border: 0px solid black;'title=[] src='temp_link\\332.png'/></div><div class=\"zoom\"><img style='width: 44px; height: 44px; margin: 1px; float: left; border: 0px solid black;'title=[] src='temp_link\\334.png'/></div><div class=\"zoom\"><img style='width: 44px; height: 44px; margin: 1px; float: left; border: 0px solid black;'title=[] src='temp_link\\335.png'/></div><div class=\"zoom\"><img style='width: 44px; height: 44px; margin: 1px; float: left; border: 0px solid black;'title=[] src='temp_link\\338.png'/></div><div class=\"zoom\"><img style='width: 44px; height: 44px; margin: 1px; float: left; border: 0px solid black;'title=[] src='temp_link\\339.png'/></div><div class=\"zoom\"><img style='width: 44px; height: 44px; margin: 1px; float: left; border: 0px solid black;'title=[] src='temp_link\\341.png'/></div><div class=\"zoom\"><img style='width: 44px; height: 44px; margin: 1px; float: left; border: 0px solid black;'title=[] src='temp_link\\342.png'/></div><div class=\"zoom\"><img style='width: 44px; height: 44px; margin: 1px; float: left; border: 0px solid black;'title=[] src='temp_link\\344.png'/></div><div class=\"zoom\"><img style='width: 44px; height: 44px; margin: 1px; float: left; border: 0px solid black;'title=[] src='temp_link\\345.png'/></div><div class=\"zoom\"><img style='width: 44px; height: 44px; margin: 1px; float: left; border: 0px solid black;'title=[] src='temp_link\\346.png'/></div><div class=\"zoom\"><img style='width: 44px; height: 44px; margin: 1px; float: left; border: 0px solid black;'title=[] src='temp_link\\347.png'/></div><div class=\"zoom\"><img style='width: 44px; height: 44px; margin: 1px; float: left; border: 0px solid black;'title=[] src='temp_link\\348.png'/></div><div class=\"zoom\"><img style='width: 44px; height: 44px; margin: 1px; float: left; border: 0px solid black;'title=[] src='temp_link\\349.png'/></div><div class=\"zoom\"><img style='width: 44px; height: 44px; margin: 1px; float: left; border: 0px solid black;'title=[] src='temp_link\\351.png'/></div><div class=\"zoom\"><img style='width: 44px; height: 44px; margin: 1px; float: left; border: 0px solid black;'title=[] src='temp_link\\355.png'/></div><div class=\"zoom\"><img style='width: 44px; height: 44px; margin: 1px; float: left; border: 0px solid black;'title=[] src='temp_link\\356.png'/></div><div class=\"zoom\"><img style='width: 44px; height: 44px; margin: 1px; float: left; border: 0px solid black;'title=[] src='temp_link\\361.png'/></div><div class=\"zoom\"><img style='width: 44px; height: 44px; margin: 1px; float: left; border: 0px solid black;'title=[] src='temp_link\\363.png'/></div><div class=\"zoom\"><img style='width: 44px; height: 44px; margin: 1px; float: left; border: 0px solid black;'title=[] src='temp_link\\366.png'/></div><div class=\"zoom\"><img style='width: 44px; height: 44px; margin: 1px; float: left; border: 0px solid black;'title=[] src='temp_link\\367.png'/></div><div class=\"zoom\"><img style='width: 44px; height: 44px; margin: 1px; float: left; border: 0px solid black;'title=[] src='temp_link\\372.png'/></div><div class=\"zoom\"><img style='width: 44px; height: 44px; margin: 1px; float: left; border: 0px solid black;'title=[] src='temp_link\\373.png'/></div><div class=\"zoom\"><img style='width: 44px; height: 44px; margin: 1px; float: left; border: 0px solid black;'title=[] src='temp_link\\375.png'/></div><div class=\"zoom\"><img style='width: 44px; height: 44px; margin: 1px; float: left; border: 0px solid black;'title=[] src='temp_link\\376.png'/></div><div class=\"zoom\"><img style='width: 44px; height: 44px; margin: 1px; float: left; border: 0px solid black;'title=[] src='temp_link\\378.png'/></div><div class=\"zoom\"><img style='width: 44px; height: 44px; margin: 1px; float: left; border: 0px solid black;'title=[] src='temp_link\\380.png'/></div><div class=\"zoom\"><img style='width: 44px; height: 44px; margin: 1px; float: left; border: 0px solid black;'title=[] src='temp_link\\381.png'/></div><div class=\"zoom\"><img style='width: 44px; height: 44px; margin: 1px; float: left; border: 0px solid black;'title=[] src='temp_link\\382.png'/></div><div class=\"zoom\"><img style='width: 44px; height: 44px; margin: 1px; float: left; border: 0px solid black;'title=[] src='temp_link\\383.png'/></div><div class=\"zoom\"><img style='width: 44px; height: 44px; margin: 1px; float: left; border: 0px solid black;'title=[] src='temp_link\\385.png'/></div><div class=\"zoom\"><img style='width: 44px; height: 44px; margin: 1px; float: left; border: 0px solid black;'title=[] src='temp_link\\386.png'/></div><div class=\"zoom\"><img style='width: 44px; height: 44px; margin: 1px; float: left; border: 0px solid black;'title=[] src='temp_link\\388.png'/></div><div class=\"zoom\"><img style='width: 44px; height: 44px; margin: 1px; float: left; border: 0px solid black;'title=[] src='temp_link\\389.png'/></div><div class=\"zoom\"><img style='width: 44px; height: 44px; margin: 1px; float: left; border: 0px solid black;'title=[] src='temp_link\\390.png'/></div><div class=\"zoom\"><img style='width: 44px; height: 44px; margin: 1px; float: left; border: 0px solid black;'title=[] src='temp_link\\391.png'/></div><div class=\"zoom\"><img style='width: 44px; height: 44px; margin: 1px; float: left; border: 0px solid black;'title=[] src='temp_link\\393.png'/></div><div class=\"zoom\"><img style='width: 44px; height: 44px; margin: 1px; float: left; border: 0px solid black;'title=[] src='temp_link\\397.png'/></div><div class=\"zoom\"><img style='width: 44px; height: 44px; margin: 1px; float: left; border: 0px solid black;'title=[] src='temp_link\\398.png'/></div><div class=\"zoom\"><img style='width: 44px; height: 44px; margin: 1px; float: left; border: 0px solid black;'title=[] src='temp_link\\403.png'/></div><div class=\"zoom\"><img style='width: 44px; height: 44px; margin: 1px; float: left; border: 0px solid black;'title=[] src='temp_link\\406.png'/></div><div class=\"zoom\"><img style='width: 44px; height: 44px; margin: 1px; float: left; border: 0px solid black;'title=[] src='temp_link\\408.png'/></div><div class=\"zoom\"><img style='width: 44px; height: 44px; margin: 1px; float: left; border: 0px solid black;'title=[] src='temp_link\\409.png'/></div><div class=\"zoom\"><img style='width: 44px; height: 44px; margin: 1px; float: left; border: 0px solid black;'title=[] src='temp_link\\410.png'/></div><div class=\"zoom\"><img style='width: 44px; height: 44px; margin: 1px; float: left; border: 0px solid black;'title=[] src='temp_link\\411.png'/></div><div class=\"zoom\"><img style='width: 44px; height: 44px; margin: 1px; float: left; border: 0px solid black;'title=[] src='temp_link\\412.png'/></div><div class=\"zoom\"><img style='width: 44px; height: 44px; margin: 1px; float: left; border: 0px solid black;'title=[] src='temp_link\\413.png'/></div><div class=\"zoom\"><img style='width: 44px; height: 44px; margin: 1px; float: left; border: 0px solid black;'title=[] src='temp_link\\414.png'/></div><div class=\"zoom\"><img style='width: 44px; height: 44px; margin: 1px; float: left; border: 0px solid black;'title=[] src='temp_link\\416.png'/></div><div class=\"zoom\"><img style='width: 44px; height: 44px; margin: 1px; float: left; border: 0px solid black;'title=[] src='temp_link\\419.png'/></div><div class=\"zoom\"><img style='width: 44px; height: 44px; margin: 1px; float: left; border: 0px solid black;'title=[] src='temp_link\\420.png'/></div><div class=\"zoom\"><img style='width: 44px; height: 44px; margin: 1px; float: left; border: 0px solid black;'title=[] src='temp_link\\421.png'/></div><div class=\"zoom\"><img style='width: 44px; height: 44px; margin: 1px; float: left; border: 0px solid black;'title=[] src='temp_link\\423.png'/></div><div class=\"zoom\"><img style='width: 44px; height: 44px; margin: 1px; float: left; border: 0px solid black;'title=[] src='temp_link\\424.png'/></div><div class=\"zoom\"><img style='width: 44px; height: 44px; margin: 1px; float: left; border: 0px solid black;'title=[] src='temp_link\\425.png'/></div><div class=\"zoom\"><img style='width: 44px; height: 44px; margin: 1px; float: left; border: 0px solid black;'title=[] src='temp_link\\426.png'/></div><div class=\"zoom\"><img style='width: 44px; height: 44px; margin: 1px; float: left; border: 0px solid black;'title=[] src='temp_link\\427.png'/></div><div class=\"zoom\"><img style='width: 44px; height: 44px; margin: 1px; float: left; border: 0px solid black;'title=[] src='temp_link\\428.png'/></div><div class=\"zoom\"><img style='width: 44px; height: 44px; margin: 1px; float: left; border: 0px solid black;'title=[] src='temp_link\\429.png'/></div><div class=\"zoom\"><img style='width: 44px; height: 44px; margin: 1px; float: left; border: 0px solid black;'title=[] src='temp_link\\430.png'/></div><div class=\"zoom\"><img style='width: 44px; height: 44px; margin: 1px; float: left; border: 0px solid black;'title=[] src='temp_link\\431.png'/></div><div class=\"zoom\"><img style='width: 44px; height: 44px; margin: 1px; float: left; border: 0px solid black;'title=[] src='temp_link\\433.png'/></div><div class=\"zoom\"><img style='width: 44px; height: 44px; margin: 1px; float: left; border: 0px solid black;'title=[] src='temp_link\\434.png'/></div><div class=\"zoom\"><img style='width: 44px; height: 44px; margin: 1px; float: left; border: 0px solid black;'title=[] src='temp_link\\435.png'/></div><div class=\"zoom\"><img style='width: 44px; height: 44px; margin: 1px; float: left; border: 0px solid black;'title=[] src='temp_link\\437.png'/></div><div class=\"zoom\"><img style='width: 44px; height: 44px; margin: 1px; float: left; border: 0px solid black;'title=[] src='temp_link\\438.png'/></div><div class=\"zoom\"><img style='width: 44px; height: 44px; margin: 1px; float: left; border: 0px solid black;'title=[] src='temp_link\\439.png'/></div><div class=\"zoom\"><img style='width: 44px; height: 44px; margin: 1px; float: left; border: 0px solid black;'title=[] src='temp_link\\440.png'/></div><div class=\"zoom\"><img style='width: 44px; height: 44px; margin: 1px; float: left; border: 0px solid black;'title=[] src='temp_link\\442.png'/></div><div class=\"zoom\"><img style='width: 44px; height: 44px; margin: 1px; float: left; border: 0px solid black;'title=[] src='temp_link\\443.png'/></div><div class=\"zoom\"><img style='width: 44px; height: 44px; margin: 1px; float: left; border: 0px solid black;'title=[] src='temp_link\\444.png'/></div><div class=\"zoom\"><img style='width: 44px; height: 44px; margin: 1px; float: left; border: 0px solid black;'title=[] src='temp_link\\445.png'/></div><div class=\"zoom\"><img style='width: 44px; height: 44px; margin: 1px; float: left; border: 0px solid black;'title=[] src='temp_link\\446.png'/></div><div class=\"zoom\"><img style='width: 44px; height: 44px; margin: 1px; float: left; border: 0px solid black;'title=[] src='temp_link\\447.png'/></div><div class=\"zoom\"><img style='width: 44px; height: 44px; margin: 1px; float: left; border: 0px solid black;'title=[] src='temp_link\\451.png'/></div><div class=\"zoom\"><img style='width: 44px; height: 44px; margin: 1px; float: left; border: 0px solid black;'title=[] src='temp_link\\452.png'/></div><div class=\"zoom\"><img style='width: 44px; height: 44px; margin: 1px; float: left; border: 0px solid black;'title=[] src='temp_link\\454.png'/></div><div class=\"zoom\"><img style='width: 44px; height: 44px; margin: 1px; float: left; border: 0px solid black;'title=[] src='temp_link\\455.png'/></div><div class=\"zoom\"><img style='width: 44px; height: 44px; margin: 1px; float: left; border: 0px solid black;'title=[] src='temp_link\\457.png'/></div><div class=\"zoom\"><img style='width: 44px; height: 44px; margin: 1px; float: left; border: 0px solid black;'title=[] src='temp_link\\458.png'/></div><div class=\"zoom\"><img style='width: 44px; height: 44px; margin: 1px; float: left; border: 0px solid black;'title=[] src='temp_link\\460.png'/></div><div class=\"zoom\"><img style='width: 44px; height: 44px; margin: 1px; float: left; border: 0px solid black;'title=[] src='temp_link\\461.png'/></div><div class=\"zoom\"><img style='width: 44px; height: 44px; margin: 1px; float: left; border: 0px solid black;'title=[] src='temp_link\\462.png'/></div><div class=\"zoom\"><img style='width: 44px; height: 44px; margin: 1px; float: left; border: 0px solid black;'title=[] src='temp_link\\463.png'/></div><div class=\"zoom\"><img style='width: 44px; height: 44px; margin: 1px; float: left; border: 0px solid black;'title=[] src='temp_link\\464.png'/></div><div class=\"zoom\"><img style='width: 44px; height: 44px; margin: 1px; float: left; border: 0px solid black;'title=[] src='temp_link\\465.png'/></div><div class=\"zoom\"><img style='width: 44px; height: 44px; margin: 1px; float: left; border: 0px solid black;'title=[] src='temp_link\\467.png'/></div><div class=\"zoom\"><img style='width: 44px; height: 44px; margin: 1px; float: left; border: 0px solid black;'title=[] src='temp_link\\470.png'/></div><div class=\"zoom\"><img style='width: 44px; height: 44px; margin: 1px; float: left; border: 0px solid black;'title=[] src='temp_link\\472.png'/></div><div class=\"zoom\"><img style='width: 44px; height: 44px; margin: 1px; float: left; border: 0px solid black;'title=[] src='temp_link\\473.png'/></div><div class=\"zoom\"><img style='width: 44px; height: 44px; margin: 1px; float: left; border: 0px solid black;'title=[] src='temp_link\\474.png'/></div><div class=\"zoom\"><img style='width: 44px; height: 44px; margin: 1px; float: left; border: 0px solid black;'title=[] src='temp_link\\475.png'/></div><div class=\"zoom\"><img style='width: 44px; height: 44px; margin: 1px; float: left; border: 0px solid black;'title=[] src='temp_link\\476.png'/></div><div class=\"zoom\"><img style='width: 44px; height: 44px; margin: 1px; float: left; border: 0px solid black;'title=[] src='temp_link\\478.png'/></div><div class=\"zoom\"><img style='width: 44px; height: 44px; margin: 1px; float: left; border: 0px solid black;'title=[] src='temp_link\\479.png'/></div><div class=\"zoom\"><img style='width: 44px; height: 44px; margin: 1px; float: left; border: 0px solid black;'title=[] src='temp_link\\480.png'/></div><div class=\"zoom\"><img style='width: 44px; height: 44px; margin: 1px; float: left; border: 0px solid black;'title=[] src='temp_link\\484.png'/></div><div class=\"zoom\"><img style='width: 44px; height: 44px; margin: 1px; float: left; border: 0px solid black;'title=[] src='temp_link\\485.png'/></div><div class=\"zoom\"><img style='width: 44px; height: 44px; margin: 1px; float: left; border: 0px solid black;'title=[] src='temp_link\\488.png'/></div><div class=\"zoom\"><img style='width: 44px; height: 44px; margin: 1px; float: left; border: 0px solid black;'title=[] src='temp_link\\489.png'/></div><div class=\"zoom\"><img style='width: 44px; height: 44px; margin: 1px; float: left; border: 0px solid black;'title=[] src='temp_link\\491.png'/></div><div class=\"zoom\"><img style='width: 44px; height: 44px; margin: 1px; float: left; border: 0px solid black;'title=[] src='temp_link\\493.png'/></div><div class=\"zoom\"><img style='width: 44px; height: 44px; margin: 1px; float: left; border: 0px solid black;'title=[] src='temp_link\\494.png'/></div><div class=\"zoom\"><img style='width: 44px; height: 44px; margin: 1px; float: left; border: 0px solid black;'title=[] src='temp_link\\497.png'/></div><div class=\"zoom\"><img style='width: 44px; height: 44px; margin: 1px; float: left; border: 0px solid black;'title=[] src='temp_link\\498.png'/></div><div class=\"zoom\"><img style='width: 44px; height: 44px; margin: 1px; float: left; border: 0px solid black;'title=[] src='temp_link\\499.png'/></div><div class=\"zoom\"><img style='width: 44px; height: 44px; margin: 1px; float: left; border: 0px solid black;'title=[] src='temp_link\\500.png'/></div><div class=\"zoom\"><img style='width: 44px; height: 44px; margin: 1px; float: left; border: 0px solid black;'title=[] src='temp_link\\501.png'/></div><div class=\"zoom\"><img style='width: 44px; height: 44px; margin: 1px; float: left; border: 0px solid black;'title=[] src='temp_link\\502.png'/></div><div class=\"zoom\"><img style='width: 44px; height: 44px; margin: 1px; float: left; border: 0px solid black;'title=[] src='temp_link\\507.png'/></div><div class=\"zoom\"><img style='width: 44px; height: 44px; margin: 1px; float: left; border: 0px solid black;'title=[] src='temp_link\\508.png'/></div><div class=\"zoom\"><img style='width: 44px; height: 44px; margin: 1px; float: left; border: 0px solid black;'title=[] src='temp_link\\509.png'/></div><div class=\"zoom\"><img style='width: 44px; height: 44px; margin: 1px; float: left; border: 0px solid black;'title=[] src='temp_link\\510.png'/></div><div class=\"zoom\"><img style='width: 44px; height: 44px; margin: 1px; float: left; border: 0px solid black;'title=[] src='temp_link\\512.png'/></div><div class=\"zoom\"><img style='width: 44px; height: 44px; margin: 1px; float: left; border: 0px solid black;'title=[] src='temp_link\\513.png'/></div><div class=\"zoom\"><img style='width: 44px; height: 44px; margin: 1px; float: left; border: 0px solid black;'title=[] src='temp_link\\514.png'/></div><div class=\"zoom\"><img style='width: 44px; height: 44px; margin: 1px; float: left; border: 0px solid black;'title=[] src='temp_link\\515.png'/></div><div class=\"zoom\"><img style='width: 44px; height: 44px; margin: 1px; float: left; border: 0px solid black;'title=[] src='temp_link\\517.png'/></div><div class=\"zoom\"><img style='width: 44px; height: 44px; margin: 1px; float: left; border: 0px solid black;'title=[] src='temp_link\\518.png'/></div><div class=\"zoom\"><img style='width: 44px; height: 44px; margin: 1px; float: left; border: 0px solid black;'title=[] src='temp_link\\521.png'/></div><div class=\"zoom\"><img style='width: 44px; height: 44px; margin: 1px; float: left; border: 0px solid black;'title=[] src='temp_link\\524.png'/></div><div class=\"zoom\"><img style='width: 44px; height: 44px; margin: 1px; float: left; border: 0px solid black;'title=[] src='temp_link\\525.png'/></div><div class=\"zoom\"><img style='width: 44px; height: 44px; margin: 1px; float: left; border: 0px solid black;'title=[] src='temp_link\\526.png'/></div><div class=\"zoom\"><img style='width: 44px; height: 44px; margin: 1px; float: left; border: 0px solid black;'title=[] src='temp_link\\529.png'/></div><div class=\"zoom\"><img style='width: 44px; height: 44px; margin: 1px; float: left; border: 0px solid black;'title=[] src='temp_link\\530.png'/></div><div class=\"zoom\"><img style='width: 44px; height: 44px; margin: 1px; float: left; border: 0px solid black;'title=[] src='temp_link\\531.png'/></div><div class=\"zoom\"><img style='width: 44px; height: 44px; margin: 1px; float: left; border: 0px solid black;'title=[] src='temp_link\\532.png'/></div><div class=\"zoom\"><img style='width: 44px; height: 44px; margin: 1px; float: left; border: 0px solid black;'title=[] src='temp_link\\533.png'/></div><div class=\"zoom\"><img style='width: 44px; height: 44px; margin: 1px; float: left; border: 0px solid black;'title=[] src='temp_link\\535.png'/></div><div class=\"zoom\"><img style='width: 44px; height: 44px; margin: 1px; float: left; border: 0px solid black;'title=[] src='temp_link\\536.png'/></div><div class=\"zoom\"><img style='width: 44px; height: 44px; margin: 1px; float: left; border: 0px solid black;'title=[] src='temp_link\\537.png'/></div><div class=\"zoom\"><img style='width: 44px; height: 44px; margin: 1px; float: left; border: 0px solid black;'title=[] src='temp_link\\538.png'/></div><div class=\"zoom\"><img style='width: 44px; height: 44px; margin: 1px; float: left; border: 0px solid black;'title=[] src='temp_link\\540.png'/></div><div class=\"zoom\"><img style='width: 44px; height: 44px; margin: 1px; float: left; border: 0px solid black;'title=[] src='temp_link\\543.png'/></div><div class=\"zoom\"><img style='width: 44px; height: 44px; margin: 1px; float: left; border: 0px solid black;'title=[] src='temp_link\\544.png'/></div><div class=\"zoom\"><img style='width: 44px; height: 44px; margin: 1px; float: left; border: 0px solid black;'title=[] src='temp_link\\545.png'/></div><div class=\"zoom\"><img style='width: 44px; height: 44px; margin: 1px; float: left; border: 0px solid black;'title=[] src='temp_link\\549.png'/></div><div class=\"zoom\"><img style='width: 44px; height: 44px; margin: 1px; float: left; border: 0px solid black;'title=[] src='temp_link\\551.png'/></div><div class=\"zoom\"><img style='width: 44px; height: 44px; margin: 1px; float: left; border: 0px solid black;'title=[] src='temp_link\\554.png'/></div><div class=\"zoom\"><img style='width: 44px; height: 44px; margin: 1px; float: left; border: 0px solid black;'title=[] src='temp_link\\556.png'/></div><div class=\"zoom\"><img style='width: 44px; height: 44px; margin: 1px; float: left; border: 0px solid black;'title=[] src='temp_link\\558.png'/></div><div class=\"zoom\"><img style='width: 44px; height: 44px; margin: 1px; float: left; border: 0px solid black;'title=[] src='temp_link\\559.png'/></div><div class=\"zoom\"><img style='width: 44px; height: 44px; margin: 1px; float: left; border: 0px solid black;'title=[] src='temp_link\\560.png'/></div><div class=\"zoom\"><img style='width: 44px; height: 44px; margin: 1px; float: left; border: 0px solid black;'title=[] src='temp_link\\561.png'/></div><div class=\"zoom\"><img style='width: 44px; height: 44px; margin: 1px; float: left; border: 0px solid black;'title=[] src='temp_link\\563.png'/></div><div class=\"zoom\"><img style='width: 44px; height: 44px; margin: 1px; float: left; border: 0px solid black;'title=[] src='temp_link\\564.png'/></div><div class=\"zoom\"><img style='width: 44px; height: 44px; margin: 1px; float: left; border: 0px solid black;'title=[] src='temp_link\\565.png'/></div><div class=\"zoom\"><img style='width: 44px; height: 44px; margin: 1px; float: left; border: 0px solid black;'title=[] src='temp_link\\566.png'/></div><div class=\"zoom\"><img style='width: 44px; height: 44px; margin: 1px; float: left; border: 0px solid black;'title=[] src='temp_link\\567.png'/></div><div class=\"zoom\"><img style='width: 44px; height: 44px; margin: 1px; float: left; border: 0px solid black;'title=[] src='temp_link\\568.png'/></div><div class=\"zoom\"><img style='width: 44px; height: 44px; margin: 1px; float: left; border: 0px solid black;'title=[] src='temp_link\\569.png'/></div><div class=\"zoom\"><img style='width: 44px; height: 44px; margin: 1px; float: left; border: 0px solid black;'title=[] src='temp_link\\570.png'/></div><div class=\"zoom\"><img style='width: 44px; height: 44px; margin: 1px; float: left; border: 0px solid black;'title=[] src='temp_link\\572.png'/></div><div class=\"zoom\"><img style='width: 44px; height: 44px; margin: 1px; float: left; border: 0px solid black;'title=[] src='temp_link\\573.png'/></div><div class=\"zoom\"><img style='width: 44px; height: 44px; margin: 1px; float: left; border: 0px solid black;'title=[] src='temp_link\\574.png'/></div><div class=\"zoom\"><img style='width: 44px; height: 44px; margin: 1px; float: left; border: 0px solid black;'title=[] src='temp_link\\576.png'/></div><div class=\"zoom\"><img style='width: 44px; height: 44px; margin: 1px; float: left; border: 0px solid black;'title=[] src='temp_link\\579.png'/></div><div class=\"zoom\"><img style='width: 44px; height: 44px; margin: 1px; float: left; border: 0px solid black;'title=[] src='temp_link\\580.png'/></div><div class=\"zoom\"><img style='width: 44px; height: 44px; margin: 1px; float: left; border: 0px solid black;'title=[] src='temp_link\\582.png'/></div><div class=\"zoom\"><img style='width: 44px; height: 44px; margin: 1px; float: left; border: 0px solid black;'title=[] src='temp_link\\583.png'/></div><div class=\"zoom\"><img style='width: 44px; height: 44px; margin: 1px; float: left; border: 0px solid black;'title=[] src='temp_link\\584.png'/></div><div class=\"zoom\"><img style='width: 44px; height: 44px; margin: 1px; float: left; border: 0px solid black;'title=[] src='temp_link\\585.png'/></div><div class=\"zoom\"><img style='width: 44px; height: 44px; margin: 1px; float: left; border: 0px solid black;'title=[] src='temp_link\\586.png'/></div><div class=\"zoom\"><img style='width: 44px; height: 44px; margin: 1px; float: left; border: 0px solid black;'title=[] src='temp_link\\587.png'/></div><div class=\"zoom\"><img style='width: 44px; height: 44px; margin: 1px; float: left; border: 0px solid black;'title=[] src='temp_link\\588.png'/></div><div class=\"zoom\"><img style='width: 44px; height: 44px; margin: 1px; float: left; border: 0px solid black;'title=[] src='temp_link\\590.png'/></div><div class=\"zoom\"><img style='width: 44px; height: 44px; margin: 1px; float: left; border: 0px solid black;'title=[] src='temp_link\\591.png'/></div><div class=\"zoom\"><img style='width: 44px; height: 44px; margin: 1px; float: left; border: 0px solid black;'title=[] src='temp_link\\592.png'/></div><div class=\"zoom\"><img style='width: 44px; height: 44px; margin: 1px; float: left; border: 0px solid black;'title=[] src='temp_link\\593.png'/></div><div class=\"zoom\"><img style='width: 44px; height: 44px; margin: 1px; float: left; border: 0px solid black;'title=[] src='temp_link\\594.png'/></div><div class=\"zoom\"><img style='width: 44px; height: 44px; margin: 1px; float: left; border: 0px solid black;'title=[] src='temp_link\\596.png'/></div><div class=\"zoom\"><img style='width: 44px; height: 44px; margin: 1px; float: left; border: 0px solid black;'title=[] src='temp_link\\598.png'/></div>"
      ],
      "text/plain": [
       "<IPython.core.display.HTML object>"
      ]
     },
     "metadata": {},
     "output_type": "display_data"
    }
   ],
   "source": [
    "Li = EasyImageList.from_folder(r\"C:\\Users\\Kaitlin\\Documents\\GitHub\\Semantic-Segmentation-of-Aerial-Cityscapes\\data\\semantic_drone_dataset\\training_set\\gt\\semantic\\label_images\")\n",
    "Li.symlink_images()\n",
    "Li.html(size=44)"
   ]
  },
  {
   "cell_type": "markdown",
   "id": "e48945fa",
   "metadata": {},
   "source": [
    "There does not appear to be anything wrong with the above 800 images. All are readable and contain an image with an appropriate mask."
   ]
  },
  {
   "cell_type": "markdown",
   "id": "aba103de",
   "metadata": {},
   "source": [
    "### Load data"
   ]
  },
  {
   "cell_type": "code",
   "execution_count": 27,
   "id": "590d1c67",
   "metadata": {},
   "outputs": [
    {
     "name": "stderr",
     "output_type": "stream",
     "text": [
      "100%|████████████████████████████████████████████████████████████████████████████████| 400/400 [01:27<00:00,  4.58it/s]\n"
     ]
    }
   ],
   "source": [
    "# import training images\n",
    "image_dataset, image_size, image_aspect_ratio = load_images_from_folder('../data/semantic_drone_dataset/training_set/images/')"
   ]
  },
  {
   "cell_type": "code",
   "execution_count": 28,
   "id": "c3637618",
   "metadata": {},
   "outputs": [
    {
     "name": "stderr",
     "output_type": "stream",
     "text": [
      "100%|████████████████████████████████████████████████████████████████████████████████| 400/400 [00:59<00:00,  6.70it/s]\n"
     ]
    }
   ],
   "source": [
    "# import training masks\n",
    "mask_dataset, mask_size, mask_aspect_ratio = load_images_from_folder('../data/semantic_drone_dataset/training_set/gt/semantic/label_images/')"
   ]
  },
  {
   "cell_type": "code",
   "execution_count": 29,
   "id": "79514fe1",
   "metadata": {},
   "outputs": [],
   "source": [
    "# convert image datasets to numpy arrays\n",
    "image_dataset = np.array(image_dataset).astype('int')\n",
    "mask_dataset = np.array(mask_dataset).astype('int')"
   ]
  },
  {
   "cell_type": "markdown",
   "id": "01c0c9d3",
   "metadata": {},
   "source": [
    "### Sanity check"
   ]
  },
  {
   "cell_type": "code",
   "execution_count": 30,
   "id": "6430572b",
   "metadata": {},
   "outputs": [
    {
     "name": "stdout",
     "output_type": "stream",
     "text": [
      "(400, 128, 192, 3)\n",
      "(400, 128, 192, 3)\n"
     ]
    },
    {
     "name": "stderr",
     "output_type": "stream",
     "text": [
      "C:\\Users\\Kaitlin\\AppData\\Local\\Temp\\ipykernel_1592\\1794552665.py:9: UserWarning: Matplotlib is currently using agg, which is a non-GUI backend, so cannot show the figure.\n",
      "  plt.show()\n"
     ]
    }
   ],
   "source": [
    "# check dataset shape\n",
    "print(image_dataset.shape)\n",
    "print(mask_dataset.shape)\n",
    "\n",
    "# view sample image and mask\n",
    "fig, axs = plt.subplots(nrows=1, ncols=2, figsize=(9,4.5))\n",
    "axs[0].imshow(image_dataset[0])\n",
    "axs[1].imshow(mask_dataset[0])\n",
    "plt.show()"
   ]
  },
  {
   "cell_type": "markdown",
   "id": "7416f7d7",
   "metadata": {},
   "source": [
    "1. image corresponds to mask\n",
    "2. 400 images, 192 by 128 resolution, 3 channels"
   ]
  },
  {
   "cell_type": "markdown",
   "id": "cb3f8a7b",
   "metadata": {},
   "source": [
    "### Check Image Size and Aspect Ratio"
   ]
  },
  {
   "cell_type": "code",
   "execution_count": 31,
   "id": "af5a97c9",
   "metadata": {},
   "outputs": [
    {
     "name": "stdout",
     "output_type": "stream",
     "text": [
      "[   3 4000 6000]\n",
      "[   3 4000 6000]\n"
     ]
    }
   ],
   "source": [
    "# image size\n",
    "print(np.unique(image_size))\n",
    "print(np.unique(mask_size))"
   ]
  },
  {
   "cell_type": "code",
   "execution_count": 32,
   "id": "bcd023bb",
   "metadata": {},
   "outputs": [
    {
     "name": "stdout",
     "output_type": "stream",
     "text": [
      "[1.5]\n",
      "[1.5]\n"
     ]
    }
   ],
   "source": [
    "# image aspect ratio\n",
    "print(np.unique(image_aspect_ratio))\n",
    "print(np.unique(mask_aspect_ratio))"
   ]
  },
  {
   "cell_type": "markdown",
   "id": "56e95590",
   "metadata": {},
   "source": [
    "All 400 images are 3 channels (rgb), and have a resolution of 6k by 4k with an aspect ratio of 1.5."
   ]
  },
  {
   "cell_type": "markdown",
   "id": "f33e452e",
   "metadata": {},
   "source": [
    "### Check Pixel Label Distribution"
   ]
  },
  {
   "cell_type": "code",
   "execution_count": 33,
   "id": "d4283caf",
   "metadata": {},
   "outputs": [
    {
     "name": "stdout",
     "output_type": "stream",
     "text": [
      "           name    r    g    b\n",
      "0     unlabeled    0    0    0\n",
      "1    paved-area  128   64  128\n",
      "2          dirt  130   76    0\n",
      "3         grass    0  102    0\n",
      "4        gravel  112  103   87\n",
      "5         water   28   42  168\n",
      "6         rocks   48   41   30\n",
      "7          pool    0   50   89\n",
      "8    vegetation  107  142   35\n",
      "9          roof   70   70   70\n",
      "10         wall  102  102  156\n",
      "11       window  254  228   12\n",
      "12         door  254  148   12\n",
      "13        fence  190  153  153\n",
      "14   fence-pole  153  153  153\n",
      "15       person  255   22   96\n",
      "16          dog  102   51    0\n",
      "17          car    9  143  150\n",
      "18      bicycle  119   11   32\n",
      "19         tree   51   51    0\n",
      "20    bald-tree  190  250  190\n",
      "21    ar-marker  112  150  146\n",
      "22     obstacle    2  135  115\n",
      "23  conflicting  255    0    0\n"
     ]
    }
   ],
   "source": [
    "# get mask labels\n",
    "mask_labels = pd.read_csv('../data/semantic_drone_dataset/training_set/gt/semantic/class_dict.csv')\n",
    "mask_labels_tuple = mask_labels.copy()\n",
    "mask_labels_tuple['rgb'] = list(zip(mask_labels[' r'], mask_labels[' g'], mask_labels[' b']))\n",
    "mask_labels_tuple.drop(columns=[' r', ' g', ' b'], inplace=True)\n",
    "print(mask_labels)"
   ]
  },
  {
   "cell_type": "code",
   "execution_count": 34,
   "id": "27ec6b57",
   "metadata": {},
   "outputs": [
    {
     "name": "stdout",
     "output_type": "stream",
     "text": [
      "           name              rgb\n",
      "0     unlabeled        (0, 0, 0)\n",
      "1    paved-area   (128, 64, 128)\n",
      "2          dirt     (130, 76, 0)\n",
      "3         grass      (0, 102, 0)\n",
      "4        gravel   (112, 103, 87)\n",
      "5         water    (28, 42, 168)\n",
      "6         rocks     (48, 41, 30)\n",
      "7          pool      (0, 50, 89)\n",
      "8    vegetation   (107, 142, 35)\n",
      "9          roof     (70, 70, 70)\n",
      "10         wall  (102, 102, 156)\n",
      "11       window   (254, 228, 12)\n",
      "12         door   (254, 148, 12)\n",
      "13        fence  (190, 153, 153)\n",
      "14   fence-pole  (153, 153, 153)\n",
      "15       person    (255, 22, 96)\n",
      "16          dog     (102, 51, 0)\n",
      "17          car    (9, 143, 150)\n",
      "18      bicycle    (119, 11, 32)\n",
      "19         tree      (51, 51, 0)\n",
      "20    bald-tree  (190, 250, 190)\n",
      "21    ar-marker  (112, 150, 146)\n",
      "22     obstacle    (2, 135, 115)\n",
      "23  conflicting      (255, 0, 0)\n"
     ]
    }
   ],
   "source": [
    "print(mask_labels_tuple)"
   ]
  },
  {
   "cell_type": "code",
   "execution_count": 35,
   "id": "13153d1e",
   "metadata": {},
   "outputs": [
    {
     "data": {
      "text/plain": [
       "(29491200,)"
      ]
     },
     "execution_count": 35,
     "metadata": {},
     "output_type": "execute_result"
    }
   ],
   "source": [
    "# reshape the mask dataset matrix to a 1-dimensional vector\n",
    "mask_vector = mask_dataset.reshape(-1, order='C')\n",
    "mask_vector.shape"
   ]
  },
  {
   "cell_type": "code",
   "execution_count": 36,
   "id": "5625abeb",
   "metadata": {},
   "outputs": [
    {
     "name": "stderr",
     "output_type": "stream",
     "text": [
      "100%|██████████████████████████████████████████████████████████████████████| 9830400/9830400 [21:35<00:00, 7588.17it/s]\n"
     ]
    }
   ],
   "source": [
    "# initialize an array with the length of the number of pixels in this dataset\n",
    "pixel_classes = np.full(int((np.prod(mask_dataset.shape))/3), fill_value = -1, dtype = int)\n",
    "\n",
    "# determine each pixel's mask class\n",
    "unmasked_pixels_i = []\n",
    "for i in tqdm(range(int(mask_vector.shape[0] / 3))):\n",
    "    if np.any(mask_labels_tuple['rgb']==tuple(mask_vector[3*i:3*i+3])):\n",
    "        pixel_classes[i] = mask_labels_tuple[mask_labels_tuple['rgb']==tuple(mask_vector[3*i:3*i+3])].index.values[0]\n",
    "    else:\n",
    "        unmasked_pixels_i.append(i)"
   ]
  },
  {
   "cell_type": "code",
   "execution_count": 37,
   "id": "6e10f270",
   "metadata": {},
   "outputs": [
    {
     "data": {
      "text/plain": [
       "array([ 0,  1,  2,  3,  4,  5,  6,  7,  8,  9, 10, 11, 12, 13, 14, 15, 16,\n",
       "       17, 18, 19, 20, 21, 22])"
      ]
     },
     "execution_count": 37,
     "metadata": {},
     "output_type": "execute_result"
    }
   ],
   "source": [
    "# which mask classes are present in this dataset?\n",
    "np.unique(pixel_classes)"
   ]
  },
  {
   "cell_type": "markdown",
   "id": "d3ef6b82",
   "metadata": {},
   "source": [
    "There appears to be 1 unrepresented mask class not being found the dataset: 'conflicting'."
   ]
  },
  {
   "cell_type": "code",
   "execution_count": 38,
   "id": "abed6953",
   "metadata": {},
   "outputs": [],
   "source": [
    "# prepare data for plotting\n",
    "pixel_classes_value_counts = pd.Series(Counter(pixel_classes))\n",
    "pixel_classes_value_counts.sort_values(ascending=False, inplace=True)\n",
    "x = range(len(pixel_classes_value_counts.index))  # locations of tick labels\n",
    "heights = pixel_classes_value_counts.values  # heights of bars\n",
    "tick_labels = list(mask_labels.loc[pixel_classes_value_counts.index]['name'])  # tick labels"
   ]
  },
  {
   "cell_type": "code",
   "execution_count": 39,
   "id": "86c047ab",
   "metadata": {},
   "outputs": [
    {
     "name": "stderr",
     "output_type": "stream",
     "text": [
      "C:\\Users\\Kaitlin\\AppData\\Local\\Temp\\ipykernel_1592\\2316849141.py:8: UserWarning: Matplotlib is currently using agg, which is a non-GUI backend, so cannot show the figure.\n",
      "  plt.show()\n"
     ]
    }
   ],
   "source": [
    "# do the plotting\n",
    "fig, ax = plt.subplots()\n",
    "ax.bar(x=x, height=heights)#, tick_label=tick_labels)\n",
    "ax.set_title('Pixel Class Distribution')\n",
    "ax.set_xticks(x)\n",
    "ax.set_xticklabels(tick_labels, rotation='vertical')\n",
    "ax.set_ylabel('# of occurances')\n",
    "plt.show()"
   ]
  },
  {
   "cell_type": "markdown",
   "id": "74a24e98",
   "metadata": {},
   "source": [
    "It is very clear that there is a class imbalance in the mask categories of this dataset. When modeling I can provide a per-class accuracy as well as add weights to the losses to aid in balancing the predictions if it appears to be a problem."
   ]
  },
  {
   "cell_type": "markdown",
   "id": "5f208cde",
   "metadata": {},
   "source": [
    "### Semantic Labelling with Video Support"
   ]
  },
  {
   "cell_type": "markdown",
   "id": "96a3c275",
   "metadata": {},
   "source": [
    "This dataset will not be used initially. Not until after image segmentation is successful, do I plan to introduce video."
   ]
  },
  {
   "cell_type": "code",
   "execution_count": 40,
   "id": "07763c96",
   "metadata": {},
   "outputs": [],
   "source": [
    "# requires manual download from https://uavid.nl/"
   ]
  },
  {
   "cell_type": "markdown",
   "id": "ed9731c1",
   "metadata": {},
   "source": [
    "## Conclusion"
   ]
  },
  {
   "cell_type": "markdown",
   "id": "533d4c13",
   "metadata": {},
   "source": [
    "The two datasets that are going to be used initially for semantically segmenting drone footage, are the two static image datasets titled:\n",
    "1. Varied Drone Dataset for Semantic Segmentation\n",
    "2. Semantic Drone Dataset\n",
    "\n",
    "The aspect ratio for one dataset is 1.33 and the other is 1.5. The default resolution for one dataset is 6k by 4k and the other is 4k by 3k. Both are high resolution imagery and will need to be downsized to lower model training time. I plan to study the differences in model accuracy for fixed/varying aspect ratios, and image downsizing.\n",
    "\n",
    "The imagery is masked into categories, also referred to as pixel classes. The classes are not uniformally distributed, and have a degree of class imbalance when comparing classes to one-another, however, the contents of the imagery may never contain balanced classes and therefore, this distribution of classes may be the best represented of classes that would be seen in new \"real-world\" imagery, following the construction of this model.\n",
    "\n",
    "Another study will be to see how well a model can perform on independent datsets versus the combination of datasets.\n",
    "\n",
    "This is the first draft of a data wrangling notebook for this project and will likely be updated during the course of the project."
   ]
  },
  {
   "cell_type": "code",
   "execution_count": null,
   "id": "0726f02a",
   "metadata": {},
   "outputs": [],
   "source": []
  }
 ],
 "metadata": {
  "kernelspec": {
   "display_name": "Python 3 (ipykernel)",
   "language": "python",
   "name": "python3"
  },
  "language_info": {
   "codemirror_mode": {
    "name": "ipython",
    "version": 3
   },
   "file_extension": ".py",
   "mimetype": "text/x-python",
   "name": "python",
   "nbconvert_exporter": "python",
   "pygments_lexer": "ipython3",
   "version": "3.11.3"
  }
 },
 "nbformat": 4,
 "nbformat_minor": 5
}
