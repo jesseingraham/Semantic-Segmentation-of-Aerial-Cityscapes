{
 "cells": [
  {
   "cell_type": "markdown",
   "id": "ba2809b1",
   "metadata": {},
   "source": [
    "# Notebook 02: Preprocessing and Training Data Development\n",
    "The purpose of this notebook is to run through the steps of preparing data to use for fitting models in the next step.\n",
    "\n",
    "The two datasets that are going to be used initially for semantically segmenting drone footage, are the two static image datasets titled:\n",
    "1. Varied Drone Dataset for Semantic Segmentation\n",
    "2. Semantic Drone Dataset\n",
    "\n",
    "The following code will use the naming conventions:\n",
    "1. Varied Drone Dataset (VDD)\n",
    "2. Semantic Drone Dataset (SDD)"
   ]
  },
  {
   "cell_type": "markdown",
   "id": "e6f7ae76",
   "metadata": {},
   "source": [
    "### Imports"
   ]
  },
  {
   "cell_type": "code",
   "execution_count": 4,
   "id": "58995889",
   "metadata": {},
   "outputs": [],
   "source": [
    "import os\n",
    "import cv2\n",
    "from tqdm import tqdm\n",
    "import pandas as pd\n",
    "import numpy as np\n",
    "import matplotlib.pyplot as plt\n",
    "from tensorflow import keras\n",
    "from tensorflow.keras.utils import to_categorical\n",
    "from collections import Counter\n",
    "from PIL import Image"
   ]
  },
  {
   "cell_type": "markdown",
   "id": "1089993f",
   "metadata": {},
   "source": [
    "### Functions"
   ]
  },
  {
   "cell_type": "code",
   "execution_count": 3,
   "id": "9b1d848d",
   "metadata": {},
   "outputs": [],
   "source": [
    "# function to load image data into a list\n",
    "def load_images_from_folder(folder_path, flags=cv2.IMREAD_COLOR):\n",
    "    image_dataset = []\n",
    "    image_shape = []\n",
    "    image_aspect_ratio = []\n",
    "    for image_file in tqdm(os.listdir(folder_path)):\n",
    "        image_data = cv2.imread(folder_path + image_file, flags=flags)\n",
    "        image_shape.append(image_data.shape)\n",
    "        image_aspect_ratio.append(float(image_data.shape[1] / image_data.shape[0]))\n",
    "        image_data = cv2.resize(image_data, (192, 128), interpolation=0)  # downsizing images saves memory and time, using nearest neighbor interpolation to prevent color interpolation of some pixels\n",
    "        if len(image_data.shape) == 3:\n",
    "            image_data = cv2.cvtColor(image_data, cv2.COLOR_BGR2RGB)  # color channels are GRB and mask_labels are RGB\n",
    "        image_dataset.append(image_data)\n",
    "    return image_dataset, image_shape, image_aspect_ratio"
   ]
  },
  {
   "cell_type": "markdown",
   "id": "b56bd09b",
   "metadata": {},
   "source": [
    "### Define data paths"
   ]
  },
  {
   "cell_type": "markdown",
   "id": "91ddf35e",
   "metadata": {},
   "source": [
    "#### Varied Drone Dataset"
   ]
  },
  {
   "cell_type": "code",
   "execution_count": 15,
   "id": "462f54b1",
   "metadata": {},
   "outputs": [],
   "source": [
    "# VDD Train Source Images\n",
    "file_path_VDD_train_src = '../data/VDD/train/src/'\n",
    "\n",
    "# VDD Train Ground Truth Images\n",
    "file_path_VDD_train_gt = '../data/VDD/train/gt/'\n",
    "\n",
    "# VDD Validation Source Images\n",
    "file_path_VDD_val_src = '../data/VDD/val/src/'\n",
    "\n",
    "# VDD Validation Ground Truth Images\n",
    "file_path_VDD_val_gt = '../data/VDD/val/gt/'\n",
    "\n",
    "# VDD Test Source Images\n",
    "file_path_VDD_test_src = '../data/VDD/test/src/'\n",
    "\n",
    "# VDD Test Ground Truth Images\n",
    "file_path_VDD_test_gt = '../data/VDD/test/gt/'"
   ]
  },
  {
   "cell_type": "markdown",
   "id": "ef5bac69",
   "metadata": {},
   "source": [
    "#### Semantic Drone Dataset"
   ]
  },
  {
   "cell_type": "code",
   "execution_count": 16,
   "id": "a2123fc4",
   "metadata": {},
   "outputs": [],
   "source": [
    "# SDD Source Images\n",
    "file_path_SDD_src = '../data/semantic_drone_dataset/training_set/images/'\n",
    "\n",
    "# SDD Ground Truth Images\n",
    "file_path_SDD_gt = '../data/semantic_drone_dataset/training_set/gt/semantic/label_images/'"
   ]
  },
  {
   "cell_type": "markdown",
   "id": "ebe18d2b",
   "metadata": {},
   "source": [
    "### Load Images"
   ]
  },
  {
   "cell_type": "markdown",
   "id": "78c4b1cc",
   "metadata": {},
   "source": [
    "#### Varied Drone Dataset"
   ]
  },
  {
   "cell_type": "code",
   "execution_count": null,
   "id": "37703b19",
   "metadata": {},
   "outputs": [
    {
     "name": "stderr",
     "output_type": "stream",
     "text": [
      " 16%|█████████████▎                                                                   | 46/280 [00:04<00:23,  9.77it/s]"
     ]
    }
   ],
   "source": [
    "# import images\n",
    "VDD_train_src, VDD_train_src_shape, VDD_train_src_aspect_ratio = load_images_from_folder(file_path_VDD_train_src)\n",
    "VDD_train_gt,  VDD_train_gt_shape,  VDD_train_gt_aspect_ratio  = load_images_from_folder(file_path_VDD_train_gt)\n",
    "VDD_val_src,   VDD_val_src_shape,   VDD_val_src_aspect_ratio   = load_images_from_folder(file_path_VDD_val_src)\n",
    "VDD_val_gt,    VDD_val_gt_shape,    VDD_val_gt_aspect_ratio    = load_images_from_folder(file_path_VDD_val_gt)\n",
    "VDD_test_src,  VDD_test_src_shape,  VDD_test_src_aspect_ratio  = load_images_from_folder(file_path_VDD_test_src)\n",
    "VDD_test_gt,   VDD_test_gt_shape,   VDD_test_gt_aspect_ratio   = load_images_from_folder(file_path_VDD_test_gt)"
   ]
  },
  {
   "cell_type": "markdown",
   "id": "269939e1",
   "metadata": {},
   "source": [
    "#### Semantic Drone Dataset"
   ]
  },
  {
   "cell_type": "code",
   "execution_count": 13,
   "id": "0295d897",
   "metadata": {},
   "outputs": [
    {
     "name": "stderr",
     "output_type": "stream",
     "text": [
      "100%|████████████████████████████████████████████████████████████████████████████████| 400/400 [01:24<00:00,  4.74it/s]\n",
      "100%|████████████████████████████████████████████████████████████████████████████████| 400/400 [01:00<00:00,  6.56it/s]\n"
     ]
    }
   ],
   "source": [
    "# import images\n",
    "SDD_src, VDD_src_shape, VDD_src_aspect_ratio = load_images_from_folder(file_path_SDD_src)\n",
    "SDD_gt,  VDD_gt_shape,  VDD_gt_aspect_ratio  = load_images_from_folder(file_path_VDD_gt)"
   ]
  },
  {
   "cell_type": "code",
   "execution_count": null,
   "id": "362a3696",
   "metadata": {},
   "outputs": [],
   "source": []
  }
 ],
 "metadata": {
  "kernelspec": {
   "display_name": "Python 3 (ipykernel)",
   "language": "python",
   "name": "python3"
  },
  "language_info": {
   "codemirror_mode": {
    "name": "ipython",
    "version": 3
   },
   "file_extension": ".py",
   "mimetype": "text/x-python",
   "name": "python",
   "nbconvert_exporter": "python",
   "pygments_lexer": "ipython3",
   "version": "3.11.3"
  }
 },
 "nbformat": 4,
 "nbformat_minor": 5
}
